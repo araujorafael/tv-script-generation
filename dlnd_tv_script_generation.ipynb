{
 "cells": [
  {
   "cell_type": "markdown",
   "metadata": {
    "deletable": true,
    "editable": true
   },
   "source": [
    "# TV Script Generation\n",
    "In this project, you'll generate your own [Simpsons](https://en.wikipedia.org/wiki/The_Simpsons) TV scripts using RNNs.  You'll be using part of the [Simpsons dataset](https://www.kaggle.com/wcukierski/the-simpsons-by-the-data) of scripts from 27 seasons.  The Neural Network you'll build will generate a new TV script for a scene at [Moe's Tavern](https://simpsonswiki.com/wiki/Moe's_Tavern).\n",
    "## Get the Data\n",
    "The data is already provided for you.  You'll be using a subset of the original dataset.  It consists of only the scenes in Moe's Tavern.  This doesn't include other versions of the tavern, like \"Moe's Cavern\", \"Flaming Moe's\", \"Uncle Moe's Family Feed-Bag\", etc.."
   ]
  },
  {
   "cell_type": "code",
   "execution_count": 135,
   "metadata": {
    "collapsed": false,
    "deletable": true,
    "editable": true
   },
   "outputs": [],
   "source": [
    "\"\"\"\n",
    "DON'T MODIFY ANYTHING IN THIS CELL\n",
    "\"\"\"\n",
    "import helper\n",
    "\n",
    "data_dir = './data/simpsons/moes_tavern_lines.txt'\n",
    "text = helper.load_data(data_dir)\n",
    "# Ignore notice, since we don't use it for analysing the data\n",
    "text = text[81:]"
   ]
  },
  {
   "cell_type": "markdown",
   "metadata": {
    "deletable": true,
    "editable": true
   },
   "source": [
    "## Explore the Data\n",
    "Play around with `view_sentence_range` to view different parts of the data."
   ]
  },
  {
   "cell_type": "code",
   "execution_count": 136,
   "metadata": {
    "collapsed": false,
    "deletable": true,
    "editable": true
   },
   "outputs": [
    {
     "name": "stdout",
     "output_type": "stream",
     "text": [
      "Dataset Stats\n",
      "Roughly the number of unique words: 11492\n",
      "Number of scenes: 262\n",
      "Average number of sentences in each scene: 15.248091603053435\n",
      "Number of lines: 4257\n",
      "Average number of words in each line: 11.50434578341555\n",
      "\n",
      "The sentences 0 to 10:\n",
      "Moe_Szyslak: (INTO PHONE) Moe's Tavern. Where the elite meet to drink.\n",
      "Bart_Simpson: Eh, yeah, hello, is Mike there? Last name, Rotch.\n",
      "Moe_Szyslak: (INTO PHONE) Hold on, I'll check. (TO BARFLIES) Mike Rotch. Mike Rotch. Hey, has anybody seen Mike Rotch, lately?\n",
      "Moe_Szyslak: (INTO PHONE) Listen you little puke. One of these days I'm gonna catch you, and I'm gonna carve my name on your back with an ice pick.\n",
      "Moe_Szyslak: What's the matter Homer? You're not your normal effervescent self.\n",
      "Homer_Simpson: I got my problems, Moe. Give me another one.\n",
      "Moe_Szyslak: Homer, hey, you should not drink to forget your problems.\n",
      "Barney_Gumble: Yeah, you should only drink to enhance your social skills.\n",
      "\n",
      "\n"
     ]
    }
   ],
   "source": [
    "view_sentence_range = (0, 10)\n",
    "\n",
    "\"\"\"\n",
    "DON'T MODIFY ANYTHING IN THIS CELL\n",
    "\"\"\"\n",
    "import numpy as np\n",
    "\n",
    "print('Dataset Stats')\n",
    "print('Roughly the number of unique words: {}'.format(len({word: None for word in text.split()})))\n",
    "scenes = text.split('\\n\\n')\n",
    "print('Number of scenes: {}'.format(len(scenes)))\n",
    "sentence_count_scene = [scene.count('\\n') for scene in scenes]\n",
    "print('Average number of sentences in each scene: {}'.format(np.average(sentence_count_scene)))\n",
    "\n",
    "sentences = [sentence for scene in scenes for sentence in scene.split('\\n')]\n",
    "print('Number of lines: {}'.format(len(sentences)))\n",
    "word_count_sentence = [len(sentence.split()) for sentence in sentences]\n",
    "print('Average number of words in each line: {}'.format(np.average(word_count_sentence)))\n",
    "\n",
    "print()\n",
    "print('The sentences {} to {}:'.format(*view_sentence_range))\n",
    "print('\\n'.join(text.split('\\n')[view_sentence_range[0]:view_sentence_range[1]]))"
   ]
  },
  {
   "cell_type": "markdown",
   "metadata": {
    "deletable": true,
    "editable": true
   },
   "source": [
    "## Implement Preprocessing Functions\n",
    "The first thing to do to any dataset is preprocessing.  Implement the following preprocessing functions below:\n",
    "- Lookup Table\n",
    "- Tokenize Punctuation\n",
    "\n",
    "### Lookup Table\n",
    "To create a word embedding, you first need to transform the words to ids.  In this function, create two dictionaries:\n",
    "- Dictionary to go from the words to an id, we'll call `vocab_to_int`\n",
    "- Dictionary to go from the id to word, we'll call `int_to_vocab`\n",
    "\n",
    "Return these dictionaries in the following tuple `(vocab_to_int, int_to_vocab)`"
   ]
  },
  {
   "cell_type": "code",
   "execution_count": 137,
   "metadata": {
    "collapsed": false,
    "deletable": true,
    "editable": true
   },
   "outputs": [
    {
     "name": "stdout",
     "output_type": "stream",
     "text": [
      "{'tavern': 0, 'moe_szyslak': 1, 'another': 8, 'yeah': 3, 'hold': 4, \"i'm\": 5, 'on': 55, 'of': 10, 'listen': 11, 'and': 13, 'an': 14, 'ice': 15, 'barney_gumble': 16, \"you're\": 6, 'drink': 17, 'should': 9, 'name': 19, 'gonna': 21, 'to': 20, 'where': 23, 'enhance': 27, 'there': 25, 'you': 2, 'lately': 60, 'me': 28, 'skills': 29, 'little': 30, 'bart_simpson': 31, 'homer': 32, 'puke': 33, 'mike': 22, 'effervescent': 12, 'catch': 35, 'with': 37, 'social': 39, 'seen': 40, 'homer_simpson': 7, 'one': 24, 'eh': 34, 'the': 41, 'last': 42, 'problems': 43, 'these': 44, \"i'll\": 70, 'give': 45, 'is': 46, 'carve': 26, 'has': 49, 'matter': 51, 'your': 50, 'hello': 54, 'check': 57, 'only': 58, 'pick': 59, 'i': 52, 'rotch': 47, 'anybody': 61, 'hey': 56, 'days': 62, 'moe': 63, \"moe's\": 64, 'meet': 65, 'elite': 53, 'not': 68, 'forget': 66, 'my': 48, 'normal': 67, 'back': 36, 'whats': 38, 'self': 69, 'got': 18}\n",
      "Tests Passed\n"
     ]
    }
   ],
   "source": [
    "import numpy as np\n",
    "import problem_unittests as tests\n",
    "\n",
    "def create_lookup_tables(text):\n",
    "    \"\"\"\n",
    "    Create lookup tables for vocabulary\n",
    "    :param text: The text of tv scripts split into words\n",
    "    :return: A tuple of dicts (vocab_to_int, int_to_vocab)\n",
    "    \"\"\"\n",
    "    vocab = set(text)\n",
    "    vocab_to_int = {c: i for i, c in enumerate(vocab) }\n",
    "    int_to_vocab = dict(enumerate(vocab))\n",
    "    print(vocab_to_int)\n",
    "    return vocab_to_int, int_to_vocab\n",
    "\n",
    "\n",
    "\"\"\"\n",
    "DON'T MODIFY ANYTHING IN THIS CELL THAT IS BELOW THIS LINE\n",
    "\"\"\"\n",
    "tests.test_create_lookup_tables(create_lookup_tables)"
   ]
  },
  {
   "cell_type": "markdown",
   "metadata": {
    "deletable": true,
    "editable": true
   },
   "source": [
    "### Tokenize Punctuation\n",
    "We'll be splitting the script into a word array using spaces as delimiters.  However, punctuations like periods and exclamation marks make it hard for the neural network to distinguish between the word \"bye\" and \"bye!\".\n",
    "\n",
    "Implement the function `token_lookup` to return a dict that will be used to tokenize symbols like \"!\" into \"||Exclamation_Mark||\".  Create a dictionary for the following symbols where the symbol is the key and value is the token:\n",
    "- Period ( . )\n",
    "- Comma ( , )\n",
    "- Quotation Mark ( \" )\n",
    "- Semicolon ( ; )\n",
    "- Exclamation mark ( ! )\n",
    "- Question mark ( ? )\n",
    "- Left Parentheses ( ( )\n",
    "- Right Parentheses ( ) )\n",
    "- Dash ( -- )\n",
    "- Return ( \\n )\n",
    "\n",
    "This dictionary will be used to token the symbols and add the delimiter (space) around it.  This separates the symbols as it's own word, making it easier for the neural network to predict on the next word. Make sure you don't use a token that could be confused as a word. Instead of using the token \"dash\", try using something like \"||dash||\"."
   ]
  },
  {
   "cell_type": "code",
   "execution_count": 138,
   "metadata": {
    "collapsed": false,
    "deletable": true,
    "editable": true
   },
   "outputs": [
    {
     "name": "stdout",
     "output_type": "stream",
     "text": [
      "Tests Passed\n"
     ]
    }
   ],
   "source": [
    "def token_lookup():\n",
    "    \"\"\"\n",
    "    Generate a dict to turn punctuation into a token.\n",
    "    :return: Tokenize dictionary where the key is the punctuation and the value is the token\n",
    "    \"\"\"\n",
    "    symbols = [\n",
    "        '.',\n",
    "        ',',\n",
    "        '\"',\n",
    "        \";\",\n",
    "        \"!\",\n",
    "        \"?\",\n",
    "        \"(\",\n",
    "        \")\",\n",
    "        \"--\",\n",
    "        \"\\n\"\n",
    "    ]\n",
    "\n",
    "    tokens = [\n",
    "        \"||Period||\",\n",
    "        \"||Comma||\",\n",
    "        \"||Quotation_Mark||\",\n",
    "        \"||Semicolon||\",\n",
    "        \"||Exclamation_mark||\",\n",
    "        \"||Question_mark||\",\n",
    "        \"||Left_Parentheses||\",\n",
    "        \"||Right_Parentheses||\",\n",
    "        \"||Dash||\",\n",
    "        \"||Return||\"\n",
    "    ]\n",
    "    \n",
    "    lookup_dict = dict(zip(symbols,tokens))\n",
    "    return lookup_dict\n",
    "\n",
    "\"\"\"\n",
    "DON'T MODIFY ANYTHING IN THIS CELL THAT IS BELOW THIS LINE\n",
    "\"\"\"\n",
    "tests.test_tokenize(token_lookup)"
   ]
  },
  {
   "cell_type": "markdown",
   "metadata": {
    "deletable": true,
    "editable": true
   },
   "source": [
    "## Preprocess all the data and save it\n",
    "Running the code cell below will preprocess all the data and save it to file."
   ]
  },
  {
   "cell_type": "code",
   "execution_count": 139,
   "metadata": {
    "collapsed": false,
    "deletable": true,
    "editable": true
   },
   "outputs": [
    {
     "name": "stdout",
     "output_type": "stream",
     "text": [
      "{'pages': 6679, 'exploiter': 3446, 'kang:': 3447, 'tasty': 0, 'winks': 1487, 'kadlubowski': 1, 'delicate': 2, 'gotta': 3, 'lenny': 6229, 'bee': 4, 'incredulous': 5, 'dennis': 6, 'laughs': 7, 'assassination': 8, 'terrified': 10, 'friends': 11, 'family': 12, 'predecessor': 3453, 'simon': 13, 'effervescent': 5105, 'stolen': 3455, 'last': 3456, 'mid-conversation': 3457, 'completing': 3458, 'fondest': 14, 'pitcher': 15, 'nigeria': 16, 'presses': 17, 'eliminate': 3459, 'brainheaded': 18, 'collapse': 593, 'stirrers': 19, 'his': 3461, 'city': 5509, 'booze-bags': 3462, 'burn': 20, 'spender': 21, 'wind': 22, 'kennedy': 3464, 'cracked': 23, 'sotto': 24, \"isn't\": 25, \"betsy'll\": 5108, 'animals': 26, 'flatly': 3465, 'ma': 3466, 'bull': 6234, 'tinkle': 27, 'sunny': 3469, 'wife': 3470, \"what'll\": 28, 'nuts': 29, 'renders': 595, 'modern': 3471, 'powers': 30, 'nos': 31, 'yo': 32, 'richard': 3475, 'bar-boy': 33, 'alky': 34, \"fightin'\": 35, 'doppler': 3477, 'blues': 37, 'relax': 38, 'dipping': 39, 'difficult': 5673, 'sticking': 6236, 'scornful': 3479, 'lobster-politans': 40, 'model': 41, 'english': 3480, 'hug': 3481, 'lone': 42, 'mickey': 43, 'gumbo': 44, 'malfeasance': 45, 'wieners': 46, 'oughta': 47, \"something's\": 48, 'declared': 49, 'increased': 3550, 'bottomless': 5676, 'newsletter': 50, 'hate': 4027, 'sour': 5607, 'relationship': 6239, 'curious': 51, 'saucy': 53, 'bees': 54, 'summer': 55, 'forgiven': 56, 'bow': 3450, 'each': 3484, \"heat's\": 57, \"queen's\": 58, 'yells': 3486, 'marmaduke': 3487, 'weekly': 3488, 'dies': 3489, 'produce': 3490, 'grave': 3491, 'pool': 3492, 'therapist': 3493, 'recap:': 60, 'f': 3494, 'kick-ass': 3495, 'warily': 1740, 'whaaaa': 3497, 'laws': 61, 'coin': 62, 'jobless': 63, 'macaulay': 3498, 'spoken': 3499, 'togetherness': 3500, 'choking': 3501, 'bart': 64, 'gus': 3502, 'mural': 65, 'aged_moe:': 66, 'toms': 6487, 'edna_krabappel-flanders:': 9, \"won't\": 67, 'paper': 68, 'been': 69, 'flophouse': 4870, \"who'da\": 70, 'scarf': 3504, 'milhouse_van_houten:': 71, 'side:': 3505, 'horrible': 3506, 'understood:': 72, 'intimacy': 3507, 'bubbles': 73, 'insensitive': 3508, 'rekindle': 1672, 'lists': 3509, 'swelling': 74, 'ugh': 3510, 'plaintive': 3511, 'atari': 3512, 'soot': 3513, \"moe's\": 3514, 'mint': 3515, 'plans': 3516, 'effect': 3517, 'düffenbraus': 3519, 'lipo': 75, 'groin': 76, 'absentmindedly': 77, 'another': 3520, \"rustlin'\": 78, 'lover': 79, 'paint': 81, 'steam': 82, 'beady': 3521, 'talking': 3524, 'timbuk-tee': 3525, 'hottest': 5123, 'temple': 3526, 'inflated': 6246, 'pro': 6155, 'key': 83, 'combination': 6245, 'risqué': 5124, 'xx': 84, 'robin': 85, 'wolveriskey': 3528, 'sanitation': 3529, 'wakede': 86, 'record': 87, 'ignorant': 6248, 'slobs': 88, 'fuss': 4038, 'everyone': 3530, 'prolonged': 3532, 'sincerely': 5125, 'calculate': 1749, 'whaaa': 3533, 'clench': 3534, 'hyper-credits': 90, \"listenin'\": 3535, \"c'mom\": 3460, 'third': 5681, 'machine': 91, 'full-time': 92, 'plane': 3537, 'ohmygod': 3538, 'exhale': 93, 'low': 94, 'explanation': 3541, 'hostages': 3542, 'compliments': 95, 'beached': 96, 'crack': 97, 'huge': 98, 'palmerston': 99, 'casting': 5618, 'power': 3543, 'wade_boggs:': 100, \"sat's\": 2626, 'wowww': 101, 'takeaway': 102, 'nuked': 3546, 'twenty-five': 3547, 'wildfever': 3549, 'shades': 5130, 'accusing': 104, 'bachelorhood': 106, \"'ere\": 107, 'front': 3552, 'stuff': 108, 'hooky': 110, 'fly': 3553, 'carb': 111, 'flaking': 112, 'sampler': 113, 'jaegermeister': 3555, 'movies': 3556, 'glass': 114, 'filled': 115, 'bono': 3557, 'medical': 116, \"drinkin'\": 117, 'skydiving': 118, 'girls': 3558, 'ball-sized': 3561, 'designated': 119, '||semicolon||': 120, 'monday': 5131, 'tall': 121, 'wishing': 3563, 'watered-down': 122, 'lurleen': 5133, 'domestic': 610, 'disturbance': 123, 'kirk': 3565, 'routine': 3566, 'pizza': 612, 'favor': 124, 'british': 3567, 'ought': 3568, 'patron_#1:': 3569, 'sideshow_bob:': 5892, 'throat': 3570, 'lousy': 3571, 'womb': 3572, 'meet': 125, 'skinner': 126, 'either': 5135, 'devils:': 127, 'paintings': 4048, 'shush': 3573, 'specific': 129, \"countin'\": 4176, 'glee': 3463, 'lifestyle': 130, 'microphone': 131, 'poor': 3575, 'de-scramble': 132, 'mall': 133, 'vincent': 134, 'feels': 135, 'bedridden': 608, 'ah-ha': 136, 'one': 3577, 'enhance': 3578, 'macho': 1758, 'young_moe:': 3580, 'cameras': 3581, 'jailbird': 3582, 'sell': 138, 'awareness': 3583, 'winnings': 5688, 'plastered': 3584, 'moe-clone:': 139, 'shelf': 3586, 'fausto': 4605, 'snotty': 140, 'huddle': 3587, '530': 5750, 'welcome': 3588, 'cheaper': 3590, 'gumbel': 141, 'items': 142, 'pickled': 143, 'getcha': 145, 'ideal': 3591, 'tolerable': 146, 'snout': 148, 'utility': 1460, 'important': 150, 'moving': 3592, 'bid': 3468, 'rims': 3593, \"she's\": 151, 'sanitary': 3594, 'two-thirds-empty': 152, 'denver': 153, 'private': 154, 'showed': 3595, 'tenuous': 159, 'enthused': 158, 'son-of-a': 5757, 'disappointing': 160, 'ton': 6319, 'dramatic': 161, 'murmur': 162, 'blows': 163, 'blind': 6174, 'clown': 6257, 'announcer:': 6416, \"i-i'm\": 3598, 'sector': 3599, 'cooker': 164, 'man_with_tree_hat:': 165, 'cranberry': 166, 'barney-guarding': 167, 'mellow': 3600, 'peace': 3601, 'dollar': 168, 'yellow': 3603, 'signal': 169, 'conversion': 170, 'experiments': 3605, 'waist': 171, 'dump': 3606, 'gardens': 3607, 'beings': 3608, 'showing': 3609, 'rome': 3610, \"here's\": 172, 'arrested:': 3612, 'barkeep': 173, \"idea's\": 3614, 'refiero': 174, 'rage': 3615, 'drinks': 3616, 'saint': 176, 'worse': 177, 'champignons': 3618, 'freaking': 3620, 'age': 178, 'dennis_kucinich:': 179, 'flayvin': 180, \"secret's\": 181, \"smokin'_joe_frazier:\": 182, \"bar's\": 3622, 'thankful': 183, 'blaze': 184, 'impending': 185, 'tolerance': 186, 'care': 187, 'securities': 188, 'thanksgiving': 3474, 'you': 3626, 'proposing': 3628, \"mcstagger's\": 3472, 'town': 621, 'ingested': 189, \"dyin'\": 3630, 'coal': 3631, 'drink': 3632, 'second': 190, 'sunk': 191, 'strips': 3633, 'oopsie': 192, 'bill': 3634, 'where': 3635, 'shove': 3636, 'confused': 193, 'protestantism': 194, 'wide': 3637, 'yello': 196, 'firm': 3638, 'hostile': 197, 'encouraged': 198, 'landfill': 199, 'kinderhook': 3476, 'obese': 200, 'slurred': 6301, 'wayne': 3639, '10:15': 201, 'lurks': 202, 'plotz': 203, 'cops': 3640, \"bo's\": 3641, 'turns': 36, 'puff': 204, 'mom': 3643, 'never': 205, 'highway': 5147, 'confidential': 206, 'roomy': 3644, \"toot's\": 3645, 'hilton': 3478, \"it's\": 3646, 'woooooo': 209, 'mccall': 210, 'quebec': 5700, 'sheepish': 3647, 'incredible': 3648, 'philosophical': 5148, 'nonchalantly': 211, '_burns_heads:': 212, 'repairman': 213, 'impeach': 3650, \"football's\": 5701, 'judge': 214, 'superhero': 6265, \"ma's\": 216, 'enthusiastically': 3653, 'ripper': 218, 'jacks': 3654, 'reaction': 3655, 'gasps': 219, \"time's\": 221, 'fbi': 3657, 'joey_kramer:': 6025, 'waylon': 1185, 'onions': 222, 'mustard': 223, 'hygienically': 224, 'reserve': 225, 'punches': 226, 'month': 3660, 'sniffles': 3661, 'slays': 3662, 'minute': 227, 'philip': 228, 'followed': 229, 'himself': 230, 'nerd': 231, 'temper': 3663, 'thrilled': 232, 'extended': 3664, \"messin'\": 3665, 'feel': 3666, 'phasing': 234, 'so-called': 235, 'teenage': 236, 'accent': 237, 'frescas': 4616, 'forecast': 240, 'oddest': 241, 'value': 242, 'gun': 243, 'dory': 3667, 'love-matic': 2380, 'shakespeare': 3668, 'football_announcer:': 3669, 'other': 244, 'inclination': 245, 'grieving': 3670, 'alive': 246, 'hooters': 247, 'beloved': 3671, 'email': 3672, 'somehow': 248, \"workin'\": 249, 'barney-type': 3673, 'polishing': 3674, 'life-sized': 626, 'best': 3675, 'wangs': 251, 'jets': 3677, 'mathis': 3678, 'difference': 252, \"didn't\": 3680, 'someplace': 6732, 'liability': 254, 'despite': 6272, 'buried': 255, 'monkeyshines': 3682, 'trail': 3683, 'hems': 256, 'mission': 3684, 'violations': 1777, 'threw': 628, 'handing': 6273, \"you'd\": 257, 'apply': 258, 'conditioners': 259, 'intoxicated': 5709, 'skins': 3686, 'using': 260, 'beyond': 261, 'smug': 3687, 'ayyy': 3688, 'chunk': 262, 'fragile': 263, 'smoker': 3689, 'prettied': 6275, 'excuse': 6517, 'supply': 3691, 'retired': 3692, 'rice': 3693, 'nucular': 264, 'youth': 3695, 'furry': 265, 'exultant': 3696, 'minors': 6726, 'unlike': 6430, 'broken': 3697, 'gunk': 267, 'pantry': 270, 'championship': 271, 'anywhere': 272, 'built': 273, 'whoa-ho': 3699, 'rookie': 274, 'selma_bouvier:': 275, \"bringin'\": 3700, 'conditioning': 3701, 'dumptruck': 3702, 'beaumont': 3703, 'bites': 276, \"'morning\": 277, 'yoink': 278, 'dramatically': 3705, 'mouth': 3706, 'belly-aching': 280, 'small_boy:': 3707, 'taken': 3708, 'girl-bart': 2956, 'fellas': 3709, 'up-bup-bup': 3710, 'proud': 6279, 'donuts': 3712, 'smithers': 281, 'corkscrews': 3713, 'e': 282, 'began': 283, 'cleaning': 3714, 'bushes': 3715, 'roller': 285, 'species': 3716, \"breakin'\": 3717, 'tail': 3718, 'sideshow_mel:': 286, 'immiggants': 288, 'airport': 3719, 'button': 291, 'groan': 290, 'whatcha': 3720, 'forget-me-shot': 292, 'hampstead-on-cecil-cecil': 3721, 'whim': 3722, 'years': 293, 'rat': 3723, '1-800-555-hugs': 3724, 'funny': 294, 'examines': 3726, 'cheryl': 5160, 'funds': 3727, 'hot': 295, 'pancakes': 3728, 'dammit': 3729, 'evil': 296, 'malibu': 297, 'maximum': 3730, \"they'd\": 298, 'trolls': 3731, 'struggling': 299, 'ambrosia': 300, 'transylvania': 3733, 'easygoing': 3734, 'secret': 3735, 'glum': 3736, 'pretty': 3737, 'kickoff': 2391, \"'round\": 3739, 'bleak': 302, 'solid': 304, 'tv_wife:': 305, 'awe': 306, 'bumped': 307, 'shreda': 3742, 'chorus:': 308, 'congoleum': 309, 'imagine': 3743, 'warning': 52, 'mayor': 310, 'answer': 3744, 'cab': 311, 'stingy': 3745, 'unless': 312, 'sure': 637, 'stairs': 313, 'contemporary': 314, 'medicine': 3748, 'pageant': 317, 'cuz': 318, 'school': 319, \"foolin'\": 3750, 'suburban': 3751, 'africanized': 3752, 'drop-off': 3483, 'royal': 3753, 'james': 3756, 'actually': 3755, 'wipe': 3757, 'till': 3758, '7g': 321, 'anti-lock': 3760, 'femininity': 3761, 'corpses': 3762, 'crab': 322, 'strain': 323, 'greatest': 3763, 'polenta': 3764, 'behavior': 324, 'life-extension': 3765, 'low-life': 3766, 'smart': 326, 'disillusioned': 328, 'enthusiasm': 3767, 'strolled': 3769, 'ho': 329, 'horrified': 330, 'movement': 332, 'bully': 333, 'waterfront': 334, 'sent': 5166, 'eye-gouger': 335, 'accept': 3773, 'night-crawlers': 3774, \"tv'll\": 336, 'undies': 3485, 'ruint': 4084, 'donor': 337, 'parenting': 338, 'bread': 3775, 'partly': 339, \"sippin'\": 3776, 'tones': 3778, 'saga': 3780, 'sink': 3781, 'nachos': 3784, 'contractors': 3783, 'knew': 343, 'eight': 344, 'whether': 345, 'wiping': 3785, 'charges': 3787, 'sissy': 3788, 'banks': 3789, \"tramp's\": 3790, 'working': 3791, 'freedom': 1203, 'looser': 3792, '100': 3793, 'alien': 347, 'perch': 3794, \"moe's_thoughts:\": 348, 'naively': 3795, 'man:': 349, 'alternative': 3796, 'mobile': 2969, 'k-zug': 3797, 'ohh': 350, 'grow': 351, 'formico:': 3798, 'dignity': 3799, 'potatoes': 5572, \"tester's\": 352, 'springfield': 353, 'brine': 354, 'hiya': 3800, \"we've\": 355, 'sunglasses': 3802, 'read': 3803, 'hold': 3804, 'warmly': 3805, 'gore': 3806, 'full': 356, 'surprised': 3807, 'lay': 3809, \"hobo's\": 357, 'lucky': 359, 'brain': 6286, 'cowboys': 5670, '35': 360, 'b-day': 3811, 'theory': 3812, 'equal': 361, 'dictating': 362, 'uneasy': 3813, 'underbridge': 363, 'rancid': 5718, 'derisive': 364, 'wishes': 365, 'we': 3815, 's-a-u-r-c-e': 3816, 'promised': 366, 'reynolds': 3817, 'traitors': 3818, 'engine': 3819, 'quarterback': 6458, 'heaving': 367, 'camp': 368, 'homer_': 3820, 'edge': 369, 'endorsed': 4076, 'fortune': 370, 'kucinich': 4407, 'jerry': 371, 'barter': 372, 'started': 3822, 'suds': 373, 'yourselves': 3823, 'crystal': 374, 'ireland': 376, 'out': 3826, 'grandkids': 377, 'beneath': 3828, 'tips': 378, 'gamble': 3829, 'patriotic': 3830, 'yours': 3831, 'bumpy-like': 3832, 'good-looking': 5180, 'tomahto': 2400, 'dawning': 3833, 'losers': 3834, 'statesmanlike': 6290, 'loudly': 3835, 'held': 381, 'dad': 5182, 'friday': 382, 'mob': 3836, 'situation': 3837, \"donatin'\": 383, 'potato': 384, 'less': 2402, 'ripping': 386, 'past': 5185, 'milhouse': 3838, 'maintenance': 387, 'fight': 388, 'mary': 3840, 'greatly': 3841, 'sickly': 389, 'perhaps': 3842, 'besides': 3843, 'wayne:': 3844, 'who-o-oa': 390, 'whistles': 3845, 'adult': 3846, 'weirded-out': 391, 'inspire': 392, 'without': 393, \"fine-lookin'\": 395, 'triumphantly': 3848, 'woozy': 396, 'midge:': 397, 'holding': 3849, 'masks': 398, 'doreen': 399, 'suicide': 400, 'sketch': 401, 'specials': 3851, 'boxcars': 6773, 'milks': 3852, 'mags': 402, 'intruding': 3853, 'britannia': 3854, 'pall': 1653, 'could': 403, 'protesting': 3855, 'cute': 405, 'kneeling': 3856, 'moved': 5189, 'chubby': 406, 'sudden': 3857, 'selective': 3858, \"neighbor's\": 6291, 'surgery': 3860, 'tonight': 407, 'fonda': 3861, \"getting'\": 3862, 'buyer': 408, \"car's\": 3864, 'sheet': 409, 'loves': 410, 'shower': 411, 'ceremony': 412, 'innocuous': 3865, 'eyeing': 413, 'smelling': 1208, 'voice_on_transmitter:': 415, \"thing's\": 3867, 'perfunctory': 417, 'employment': 418, 'eh': 3868, 'cutie': 3869, 'crying': 419, 'sausage': 2811, 'mop': 420, \"cuckold's\": 421, 'hyahh': 422, \"santa's\": 3870, 'popping': 5193, 'suspect': 655, 'stretch': 423, 'join': 3871, 'assume': 424, 'suave': 3872, \"singin'\": 425, 'woo': 3873, 'somebody': 426, 'listening': 427, 'smells': 3874, 'unsourced': 429, 'tentative': 430, 'indifference': 431, 'planned': 432, 'ointment': 433, 'glitterati': 3875, 'perverse': 434, 'bury': 3876, 'oh-ho': 438, 'washed': 439, 'cannot': 3877, 'night': 3878, 'spend': 3880, 'gave': 6295, 'tempting': 440, 'fondly': 441, 'grammar': 442, 'taught': 3881, 'cup': 3883, 'crayon': 443, 'ech': 3885, 'padre': 444, 'ruined': 657, 'refreshment': 3886, \"sittin'\": 1815, 'geez': 445, 'pickle': 446, 'hurts': 447, 'squishee': 448, 'sticker': 5727, 'staying': 3888, 'illustrates': 449, 'abcs': 3890, 'protecting': 4088, 'agent': 2304, 'liven': 2993, 'lost': 452, \"bladder's\": 453, 'shrugs': 454, 'beards': 3892, 'nope': 455, 'occupied': 3893, 'alma': 3894, 'above': 456, 'trying': 457, 'urine': 458, 'partner': 3895, 'balloon': 459, \"calf's\": 3897, \"monroe's\": 5443, 'kissingher': 3898, 'jazz': 663, 'tomatoes': 3899, 'astrid': 3900, 'go-near-': 5730, \"narratin'\": 3901, 'hare-brained': 3902, 'concerned': 694, '||period||': 4089, 'earlier': 6354, 'good': 3903, 'their': 3904, 'ourselves': 462, 'dan_gillick:': 463, 'feeling': 3905, 'person': 464, 'starving': 5198, 'sub-monkeys': 465, 'amber_dempsey:': 3906, 'planet': 3907, 'world': 3908, 'escort': 3909, \"wait'll\": 469, \"school's\": 3910, 'adrift': 3911, 'drop': 470, '_hooper:': 3912, 'raising': 3913, 'wizard': 471, 'iranian': 3914, 'clientele': 473, 'outstanding': 3916, 'blobbo': 474, 'both': 475, 'mug': 476, 'cost': 3918, 'lumpa': 1343, 'parked': 478, 'tune': 479, 'peppy': 480, 'dungeon': 3920, 'about': 481, \"bart'd\": 3921, 'pair': 3922, 'slurps': 482, 'alarm': 3518, 'germans': 483, 'swimming': 3923, 'producers': 3924, 'confident': 3925, 'charm': 484, 'mumbling': 486, 'backbone': 487, 'down': 6345, 'grope': 3928, 'oughtta': 3929, 'themselves': 59, 'rueful': 3930, 'dashes': 489, 'warmth': 3931, 'disco_stu:': 490, 'wiggum': 3932, 'reckless': 4651, 'rolled': 491, 'fletcherism': 3933, \"cont'd:\": 3934, 'faint': 493, 'itchy': 3935, 'calvin': 494, 'cap': 4652, 'worry': 3936, 'moonnnnnnnn': 496, 'shoulders': 497, 'everyday': 3001, 'enemy': 498, 'mole': 5192, 'stands': 3937, 'tastes': 499, 'sobo': 500, 'cherry': 3938, 'presided': 3939, 'brains': 3940, 'mis-statement': 502, 'noises': 4096, 'mini-dumpsters': 3941, 'expect': 3942, 'kyoto': 80, 'sky': 503, 'red': 504, 'frenchman': 3943, 'conclude': 3944, \"renee's\": 505, 'glitz': 508, 'revenge': 6516, 'colonel:': 3946, 'w-a-3-q-i-zed': 3947, 'shhh': 509, 'break': 510, 'increasingly': 511, 'steal': 3948, \"'ceptin'\": 512, 'weight': 3949, \"cashin'\": 513, 'traditions': 514, 'captain:': 3950, 'eu': 6305, 'panties': 516, 'choices': 517, 'changing': 3523, 'syrup': 518, 'malabar': 3951, 'cat': 3952, 'dentist': 3953, 'miracle': 5204, 'pride': 3955, \"other's\": 519, 'word': 3956, 'olive': 521, 'opens': 5206, 'cocking': 522, 'drawing': 524, 'vanities': 3958, \"brady's\": 3959, 'moe-lennium': 1222, 'dank': 3960, 'whenever': 525, 'rush': 526, 'cecil_terwilliger:': 6306, 'team': 527, 'ahhhh': 3962, 'unattractive': 5735, 'handed': 3963, 'aww': 3964, 'bus': 5207, 'boozer': 3965, \"town's\": 674, 'beer:': 529, 'initially': 3967, 'heart-broken': 530, 'coughs': 531, 'inquiries': 5617, 'dive': 1830, 'fun': 3970, 'rummy': 532, 'meaningful': 3971, 'liquor': 3972, '_eugene_blatz:': 3974, 'wars': 3975, 'capuchin': 5209, 'spending': 533, 'prejudice': 535, 'arise': 536, 'planted': 3978, 'dog': 3979, 'hidden': 5740, 'wolfe': 3980, 'car': 6140, 'larson': 537, 'bleeding': 3982, 'lotsa': 3983, 'frog': 1226, \"edna's\": 538, 'doom': 539, 'cut': 3527, 'cross-country': 541, 'gees': 3985, 'friend:': 3986, 'sale': 542, 'emporium': 543, 'side': 544, 'sneak': 545, 'forbidden': 546, \"collector's\": 550, 'bitter': 549, 'won': 3987, 'annual': 3988, 'beatings': 3989, 'rotten': 2065, \"carl's\": 552, 'bought': 553, 'handsome': 554, 'w': 3991, 'monster': 555, 'long': 3992, \"'topes\": 3993, 'win': 1227, \"i-i'll\": 556, 'reliable': 557, 'freely': 3994, 'youuu': 3995, 'poker': 558, 'rip-off': 3998, 'overstressed': 559, 'outlook': 1835, '_montgomery_burns:': 560, 'americans': 5214, 'mic': 562, 'realized': 568, 'hunka': 6093, 'ding-a-ding-ding-ding-ding-ding-ding': 563, 'restaurant': 3999, 'sec_agent_#1:': 4000, 'gut': 4001, 'almost': 4002, 'ecru': 565, 'bart_simpson:': 4003, 'expired': 4004, \"y'see\": 566, 'snide': 567, 'politics': 5742, 'happiness': 4006, 'beligerent': 89, 'drummer': 569, 'cheerier': 4007, 'practically': 570, 'stick': 4008, 'diaper': 571, 'dressed': 572, 'sturdy': 1232, 'south': 574, 'municipal': 6454, 'gangrene': 575, 'sacrilicious': 576, 'boston': 4009, 'season': 3531, 'comes': 577, 'offense': 5743, 'walked': 4010, 'chain': 578, 'always': 4011, 'comment': 4012, 'suits': 579, 'penny': 3012, 'smiling': 4013, 'cologne': 580, 'place': 581, 'dan': 4015, 'stop': 582, 'mmmmm': 4016, 'hans:': 583, 'tree_hoper:': 584, 'plants': 4017, 'bashir': 585, 'air': 586, 'customer': 4018, '$42': 587, 'punishment': 588, 'quarry': 589, 'appropriate': 590, 'rip': 4019, 'premise': 5745, \"don't\": 3741, 'courts': 1838, \"who's\": 591, 'chilly': 592, 'dress': 4021, 'ralphie': 4022, 'ale': 4023, 'mmm-hmm': 4024, \"'your\": 4025, 'specified': 1235, 'hollywood': 4026, 'ears': 596, 'declan': 597, 'desire': 598, 'shill': 600, 'nightmare': 601, \"yesterday's\": 4028, 'cable': 4663, 'swooning': 4029, \"boy's\": 4030, 'fantasy': 602, 'test-lady': 4031, 'starting': 603, \"talkin'\": 4033, 'single': 4034, 'legs': 4035, 'cleaner': 604, 'marshmallow': 4036, 'invented': 4037, 'corkscrew': 605, 'ruled': 4039, 'ear': 4040, 'torn': 4041, 'sass': 607, \"wino's\": 4042, 'caught': 4043, 'highball': 4044, 'disdainful': 609, ':': 4045, 'marriage': 4046, 'floating': 611, 'keys': 5220, 'pants': 613, 'veteran': 614, 'beverage': 615, 'dazed': 616, 'tv_father:': 4049, 'hardwood': 3536, 'ashamed': 617, 'polish': 1240, 'ivana': 6320, 'murdered': 4050, 'spied': 3540, 'graves': 3539, 'presidents': 4051, 'peeved': 3496, 'dejected_barfly:': 620, 'match': 4052, 'cannoli': 4053, 'poke': 4054, 'ripped': 622, 'network': 2005, 'landlord': 3022, 'hah': 4056, 'reality': 623, 'stiffening': 624, 'sodas': 625, 'put': 4057, 'intense': 4058, 'hibbert': 4059, 'gentles': 4060, 'depression': 4061, 'coast': 627, 'coherent': 629, 'drawn': 4062, 'wok': 630, 'looks': 631, 'gunter': 4063, 'for': 632, \"it'll\": 633, 'hiring': 634, 'sooner': 4064, 'dancing': 635, 'tuna': 636, 'disgusted': 4065, 'moron': 4066, 'recipe': 4067, 'territorial': 4068, 'irs': 4069, 'cakes': 3024, 'tribute': 638, 'this': 4070, 'jelly': 639, 'african': 640, 'sideshow': 4071, 'poster': 450, 'forty-seven': 4072, 'hole': 4073, \"seein'\": 4074, 'stir': 4075, 'attached': 641, 'god': 642, 'rebuttal': 688, 'sixty': 4077, 'sympathy': 6601, 'cutting': 643, 'bowled': 4078, 'derek': 644, 'sex': 4079, 'barely': 645, 'soon': 646, 'ideas': 647, 'trucks': 648, 'generosity': 4080, 'blend': 649, 'fourteen:': 1446, 'disguised': 650, 'annoying': 4081, 'nemo': 651, \"patrick's\": 4082, 'pip': 652, 'emotion': 4083, 'sat': 654, 'babies': 3544, 'widow': 4085, 'folk': 656, 'carl_carlson:': 658, 'festival': 659, 'chastity': 4086, 'until': 4087, \"livin'\": 660, 'attack': 661, 'moe-ron': 662, 'ease': 665, 'yee-ha': 664, 'murdoch': 3545, 'soup': 4090, 'holiday': 3026, 'psst': 666, 'all:': 4091, 'street': 667, 'western': 4092, 'artie_ziff:': 4093, 'factor': 669, 'embarrassing': 4094, 'ow': 670, 'boxcar': 4095, 'mini-beret': 671, 'edna': 672, 'dropping': 5702, 'instantly': 4097, 'mushy': 2448, 'hands': 673, 'pridesters:': 4099, 'rotch': 675, 'winner': 6414, 'tearfully': 4100, 'also': 4101, \"how're\": 676, 'eurotrash': 4102, \"family's\": 677, 'helllp': 4103, 'selfish': 678, 'bad-mouth': 3548, 'land': 4104, 'text': 4105, 'arse': 679, 'trenchant': 4312, 'whaddaya': 680, 'lenny:': 4106, 'break-up': 681, 'creeps': 3031, 'other_player:': 682, 'flips': 3467, 'anniversary': 4107, 'crooks': 4108, 'training': 4110, 'involving': 683, 'buffalo': 4111, 'putty': 684, 'pig': 4112, 'paparazzo': 4120, 'neck': 685, 'upset': 1253, 'sound': 686, 'estranged': 103, 'credit': 105, 'off': 4113, 'monorails': 4114, 'total': 4115, 'young_homer:': 687, 'load': 5762, 'thirty-three': 4116, 'pause': 4117, 'exact': 689, 'calls': 2650, 'mess': 6437, 'nurse': 1254, 'fish': 690, 'short_man:': 691, 'lis': 5414, 'ha': 4118, 'fierce': 4119, 'mugs': 692, 'hundreds': 693, 'breaks': 4121, 'stinger': 695, \"challengin'\": 4122, 'something': 697, 'week': 698, 'outside': 5763, 'loathe': 4123, 'floated': 4124, 'à': 4126, 'advice': 699, \"y'know\": 109, 'rather': 4128, \"rasputin's\": 4129, 'menacing': 4130, 'replace': 701, 'sieben-gruben': 3996, 'academy': 4131, 'cab_driver:': 1256, 'mount': 3554, 'gabriel:': 702, 'let': 4155, 'de': 703, 'deserve': 705, 'composer': 706, 'super': 2308, 'feed': 707, 'carlson': 4132, 'seymour_skinner:': 1857, 'enveloped': 1257, 'hotel': 709, 'wall': 4134, 'christian': 710, 'they': 4135, \"i'd'a\": 712, 'across': 4125, 'hearing': 4136, 'prayers': 4137, 'clinton': 713, 'wine': 4138, 'muertos': 714, 'simpson': 715, 'too': 4139, 'awake': 2986, 'sometime': 4141, 'maxed': 716, 'boys': 5638, 'shaker': 700, \"wouldn't-a\": 1261, 'ken:': 4143, 'wooden': 4144, 'grampa': 718, 'song': 719, 'eighty-three': 4145, 'loud': 4146, 'benjamin:': 4147, 'badmouths': 720, 'angel': 721, 'drag': 4148, 'elizabeth': 5771, 'detective_homer_simpson:': 4150, 'talkative': 722, 'rented': 4152, 'mr': 4153, 'screw': 723, 'yuh-huh': 4154, 'high-definition': 5239, 'days': 724, 'seymour': 725, 'advertise': 979, 'gluten': 5918, 'superdad': 4156, 'pub': 726, 'anderson': 4157, 'ghouls': 4159, 'melodramatic': 4160, 'tanked-up': 4161, \"wife's\": 4162, 'favorite': 4163, 'maggie': 727, 'skunk': 728, 'vote': 730, 'bright': 1864, 'etc': 732, 'saw': 733, 'excellent': 4165, 'brown': 734, 'temp': 4167, 'trouble': 435, 'okay': 4168, 'patron_#2:': 4169, 'owes': 4170, 'dana_scully:': 735, 'halloween': 3559, 'canyoner-oooo': 4171, 'willy': 736, 'mill': 3116, 'little': 737, 'bottles': 738, 'holidays': 739, 'index': 4173, 'unhook': 4174, 'getting': 5775, 'tv_daughter:': 740, 'voters': 741, 'pitch': 4175, 'nonsense': 4178, 'billion': 6552, 'wonderful': 742, 'mafia': 744, 'slogan': 4180, 'preparation': 3562, 'drives': 6775, 'stepped': 284, 'easily': 4182, 'joke': 747, 'shame': 4183, 'scam': 748, \"g'ahead\": 749, \"barney's\": 750, 'pregnancy': 4184, 'grains': 751, 'take-back': 752, 'she-pu': 3043, 'badmouth': 4185, 'rickles': 753, 'valley': 4683, 'watched': 4186, 'site': 704, 'rings': 754, 'porn': 755, 'moment': 4189, 'bar_rag:': 756, 'denser': 3449, 'socialize': 758, 'crushed': 759, 'forty': 761, 'positive': 4190, 'self-made': 762, 'flea:': 6339, 'journey': 763, \"changin'\": 764, 'considers': 4191, 'dreamy': 765, 'dirge-like': 766, 'male_singers:': 1870, \"wasn't\": 4192, 'kent': 4193, 'shrugging': 4194, 'genius': 768, \"gentleman's\": 4195, 'richer': 769, 'rupert_murdoch:': 4858, 'hired': 771, 'luckily': 5853, 'bugging': 4197, 'papa': 772, 'imaginary': 773, 'dying': 4198, 'eternity': 4199, 'helps': 1871, 'cliff': 4200, 'attractive': 4203, 'eleven': 4202, 'hangs': 4204, 'delts': 4207, 'bender:': 774, 'fans': 708, 'monkey': 775, 'considering:': 4208, 'soaked': 4209, 'full-blooded': 4210, 'tear': 776, 'snake_jailbird:': 4212, 'hunky': 777, 'ivy-covered': 778, 'holds': 779, 'opportunity': 780, 'bloodiest': 5246, 'slobbo': 781, 'rough': 782, 'european': 1873, 'relaxed': 4213, 'gosh': 2056, 'of': 4214, 'ref': 784, 'actor': 4215, 'nail': 787, 'type': 786, 'gruesome': 788, 'truck': 4216, 'idea': 789, \"dog's\": 790, 'schemes': 791, 'advance': 4217, 'wolverines': 4218, 'hopeful': 792, 'brockelstein': 4219, 'super-tough': 793, 'pond': 4220, 'eating': 794, 'help': 4221, 'evasive': 795, 'whining': 4223, 'traitor': 4225, \"renovatin'\": 128, 'guy': 4226, 'clammy': 796, 'belt': 4227, 'additional-seating-capacity': 4228, 'stationery': 797, 'fell': 4231, 'magic': 798, 'chick': 799, 'jewelry': 4232, 'troubles': 4233, 'cries': 4234, 'defected': 800, 'ahhh': 711, 'eggshell': 802, 'gambler': 803, 'fool': 3574, 'sensitivity': 805, 'snatch': 806, 'remains': 807, 'toss': 808, 'enemies': 4238, 'tom': 4239, 't-shirt': 4240, 'hair': 811, 'act': 812, 'mystery': 4242, 'local': 813, 'twenty-two': 4243, 'rub-a-dub': 4244, 'louse': 814, 'voice': 815, 'charity': 4245, 'greystash': 816, 'unusual': 6348, 'fill': 4246, 'dumbbell': 817, 'forty-two': 818, 'tyson/secretariat': 819, 'tab': 4247, 'message': 1883, 'fire': 4248, 'misconstrue': 4249, 'regretful': 820, 'guide': 4250, 'spellbinding': 4251, 'upon': 4253, 'bit': 4254, 'after': 822, 'young_barfly:': 1878, 'uncomfortable': 4255, 'sticking-place': 824, 'strong': 4140, 'fifth': 825, 'spirit': 826, 'kermit': 4257, \"year's\": 4258, 'waylon_smithers:': 4259, \"others'\": 4261, 'pipes': 4262, '||return||': 828, 'background': 4263, 'life': 829, 'unrelated': 5250, 'audience:': 831, 'frink': 833, 'very': 4264, 'volunteer': 835, \"she'll\": 3052, 'abusive': 836, 'advantage': 4266, 'fail': 4267, 'become': 837, 'celebrity': 4270, 'inexorable': 1887, 'dude': 4272, 'koji': 839, 'understood': 840, \"wearin'\": 841, 'send': 842, 'cards': 844, 'reads': 4275, 'happy': 4276, 'fiiiiile': 4277, 'danish': 845, 'ancient': 846, 'tiny': 3576, 'rid': 4278, 'worldview': 848, 'recently': 4279, 'my-y-y-y-y-y': 4280, 'buzz': 849, 'light': 850, 'page': 4282, \"doctor's\": 4283, \"lenny's\": 4284, 'zoomed': 4285, 'chapstick': 853, 'haws': 854, 'shaking': 717, 'pernt': 5764, 'morose': 137, 'humiliation': 4287, 'pulls': 4288, 'el': 1278, 'luckiest': 855, 'community': 857, '21': 4289, 'stays': 4290, 'cyrano': 4292, 'fdic': 4293, 'eddie:': 4294, 'foodie': 4295, 'boxers': 6276, 'while': 4296, 'patterns': 1280, 'intakes': 859, 'child': 4298, 'pawed': 3579, 'breathalyzer': 860, 'him': 861, 'wins': 862, 'experience': 863, 'distraught': 4300, 'sweat': 864, 'brakes': 865, \"one's\": 868, 'nash': 867, 'mostly': 4302, 'gesture': 869, 'perverted': 870, \"disrobin'\": 4303, 'newly-published': 4304, 'robbers': 872, 'donut-shaped': 4305, 'macbeth': 4306, 'work': 4020, 'healthier': 4307, 'man_with_crazy_beard:': 874, 'adequate': 4702, '4x4': 4308, 'benefits': 4309, 'cozy': 5952, 'diapers': 875, 'loneliness': 2476, 'forty-nine': 876, 'driving': 4311, 'standing': 877, 'champion': 5507, 'extinguishers': 3059, 'irishman': 878, 'television': 4149, 'sixty-five': 879, 'ask': 880, 'finance': 4314, 'travel': 882, 'invisible': 4315, 'conspiratorial': 4317, 'eager': 4318, 'jerks': 883, 'love': 4319, 'disappointed': 1286, 'possessions': 884, 'sister-in-law': 4320, \"high-falutin'\": 885, 'panicky': 886, 'nearly': 4321, 'beam': 5489, 'impatient': 4322, 'died': 4323, 'electronic': 3585, 'lonely': 2589, 'lloyd': 4325, 'kenny': 4326, 'choked': 4327, 'usually': 6310, 'sickened': 4328, \"'kay-zugg'\": 4329, 'failure': 889, 'bible': 4330, 'log': 890, 'brow': 891, 'dull': 892, 'david_byrne:': 4332, 'ehhhhhhhhh': 5790, 'demo': 4333, 'showered': 893, 'glorious': 4334, 'stern': 894, 'herself': 4335, 'mabel': 4336, 'once': 4337, 'leprechaun': 4338, 'finally': 4339, 'legend': 896, 'f-l-a-n-r-d-s': 1291, 'mmm': 4340, 'swear': 4341, 'expensive': 898, 'helpful': 899, 'watered': 4158, 'use': 4342, 'left': 4343, 'adopted': 3589, 'circus': 900, 'wanted': 4344, 'freak': 6010, \"father's\": 4345, 'naturally': 1293, 'rude': 901, 'salad': 4346, 'careful': 902, 'extreme': 903, 'tender': 2480, 'raking': 904, 'sexy': 905, 'egg': 3651, 'banquo': 906, \"stayin'\": 907, 'manager': 4348, 'rem': 909, \"this'll\": 911, 'except': 912, \"gettin'\": 913, '2': 4349, \"duff's\": 4350, 'court': 144, 'harrowing': 914, 'support': 4351, 'zack': 4352, 'basement': 3066, 'prayer': 915, 'administration': 917, 'option': 4353, 'stink': 4354, 'stories': 4355, 'butterball': 599, 'throw': 4357, 'band': 918, 'someday': 4358, \"you're\": 4359, \"can'tcha\": 5794, '_powers:': 147, 'sarcastic': 731, 'hollowed-out': 922, 'station': 921, 'regretted': 5259, 'story': 923, 'lib': 1300, 'compromise:': 924, \"aren'tcha\": 149, 'numbers': 925, 'upn': 4362, 'state': 4363, 'states': 926, 'speech': 4364, 'shut': 4365, \"writin'\": 4367, '14': 4368, 'raise': 4370, 'thoughtful': 4371, 'emphasis': 4373, 'throwing': 927, 'hurting': 928, 'peter': 4374, 're-al': 929, 'southern': 4375, 'barf': 930, 'admit': 931, 'pigtown': 4376, 'clothes': 4377, 'gin-slingers': 934, 'winded': 935, 'underwear': 4378, 'endorse': 5168, 'wood': 5261, 'improved': 5263, 'literary': 4379, 'lease': 936, 'spanish': 4380, 'neil_gaiman:': 4166, 'cushions': 937, 'unexplained': 4381, 'sucker': 938, 'standards': 939, 'lou:': 4383, 'leftover': 4384, 'guess': 940, 'whatsit': 4764, 'being': 4385, 'real': 941, 'coins': 4386, 'go': 4387, 'banquet': 944, 'couch': 4388, 'shoes': 4389, 'yogurt': 4390, 'winston': 4391, 'pinchpenny': 947, 'reciting': 948, 'sweetest': 949, 'displeased': 4691, 'squad': 951, 'buy': 5265, 'hounds': 952, 'avec': 953, 'poem': 4395, \"world's\": 4715, 'witty': 4396, 'results': 955, '||exclamation_mark||': 4397, 'dumbest': 957, 'imitating': 958, 'floor': 959, 'carl': 960, '-ry': 4399, 'fortress': 961, 'militia': 4400, 'reminded': 4401, \"i'unno\": 4402, 'repay': 964, '&': 965, 'rig': 966, \"floatin'\": 4403, 'shriners': 1910, 'polite': 157, 'microwave': 4404, 'alcohol': 968, 'new': 4360, 'drapes': 4405, 'resist': 4406, 'kissed': 4408, 'disgrace': 970, 'eightball': 4409, 'equivalent': 4410, 'coined': 973, 'tuborg': 4411, \"payin'\": 974, 'sadistic_barfly:': 4413, 'digging': 975, 'rolling': 976, 'runners': 5799, 'kept': 977, 'ten': 6484, 'stamp': 978, 'comforting': 4172, 'pyramid': 5272, 'spiritual': 980, 'picnic': 981, 'heck': 4414, 'show': 982, 'meaningless': 6370, 'star': 4415, 'meditative': 983, 'moan': 4416, 'loafers': 984, 'nah': 985, 'scores': 4417, 'hearts': 986, 'stamps': 4418, 'perking': 4419, 'black': 4420, 'nods': 987, 'peabody': 988, 'contemplates': 989, 'finale': 990, 'agnes_skinner:': 4421, 'crowd': 4047, 'earpiece': 5435, 'warranty': 4422, 'percent': 4109, 'legs:': 992, 'concentrate': 993, 'should': 1372, 'instead': 994, 'negative': 995, 'hurt': 4423, 'precious': 996, 'william': 997, 'gotten': 998, 'insist': 4424, \"tv's\": 4425, 'pretend': 999, 'palm': 5278, 'tv-station_announcer:': 4426, 'ringing': 1000, 'renee': 6738, 'believer': 1001, 'rule': 1002, 'pull': 4428, 'mines': 4429, 'source': 4430, 'butter': 4431, 'kirk_van_houten:': 4432, 'sister': 507, 'checks': 4433, 'carefully': 1004, 'make': 1005, 'lump': 4179, 'morlocks': 4435, 'chin': 4436, 'prompting': 1007, 'laugh': 6376, 'bullet-proof': 1008, 'vegas': 4438, 'safecracker': 1011, 'water': 4439, 'waitress': 1014, 'arrange': 4440, 'thing:': 1016, 'jack': 4441, '3': 5280, 'mitts': 1017, \"number's\": 1018, 'gentlemen': 1304, 'changes': 4442, 'here-here-here': 4443, 'queer': 4181, 'bidet': 4444, 'population': 1019, 'fingers': 1919, 'mistresses': 1020, 'wobbly': 1021, 'not': 1305, 'unfamiliar': 1022, 'expression': 4446, \"cat's\": 4447, 'hops': 1024, 'lobster': 4448, 'whale': 4449, 'handshake': 4450, \"marge's\": 4451, \"elmo's\": 4452, 'smurfs': 4453, 'declare': 1026, 'pews': 1027, 'blue': 1028, \"murphy's\": 4454, 'literature': 5284, 'comedy': 745, 'moe-near-now': 4455, 'slightly': 1031, 'find': 746, 'hers': 4457, 'bupkus': 1032, 'minimum': 1033, 'selma': 1308, 'hero-phobia': 1034, 'ze-ro': 1035, 'tavern': 6379, 'vicious': 1036, 'miss': 4458, 'twelve-step': 4459, 'control': 5326, 'bouquet': 1037, 'heavens': 4460, 'effervescence': 5854, 'gentle': 4462, 'bedroom': 1038, 'snake-handler': 1039, 'twelveball': 1040, 'knife': 4463, 'lear': 1041, 'telegraph': 3602, 'automobiles': 1670, 'dreary': 4465, 'pulitzer': 4466, 'huh': 4467, \"aren't\": 1044, 'dynamite': 3604, \"friend's\": 5836, 'pointy': 1045, 'bucks': 4735, 'amount': 4468, 'hammy': 4469, 'carney': 4470, 'manipulation': 1046, 'voodoo': 1047, \"speakin'\": 1049, 'holy': 1050, 'window': 1312, 'need': 1051, 'dessert': 4472, 'kemi': 1052, 'jogging': 1053, 'gibson': 5695, 'fabulous': 4650, 'infiltrate': 4474, \"playin'\": 6383, 'corn': 1054, 'premiering': 4475, 'enforced': 1055, 'wigs': 1056, 'blackjack': 6384, 'belly': 4476, 'later': 4477, 'bunion': 1058, 'lessee': 1059, 'busy': 4480, 'authenticity': 4481, 'simp-sonnnn': 1060, 'string': 6609, 'refresh': 4482, 'st': 4483, 'indifferent': 4484, 'menace': 1061, 'norway': 3611, 'show-off': 4486, 'startup': 6385, 'railroads': 1062, 'to': 4487, \"valentine's\": 4488, 'eyes': 1063, 'gruff': 4489, 'sniffing': 4490, 'girlfriend': 1064, 'leak': 834, 'cobbling': 1065, 'gonna': 6387, 'wantcha': 4491, 'easier': 5814, 'crotch': 1066, 'theatah': 1067, 'germs': 4492, 'brightening': 1068, 'scene': 1069, 'correcting': 3759, 'kidnaps': 1070, 'want': 1071, 'loser': 4187, 'disposal': 4494, 'exchange': 4495, 'delivery': 1073, \"should've\": 4496, 'mcclure': 4497, 'stuck': 1074, 'forbids': 1075, 'quimby': 4498, 'tapping': 1076, 'shows': 1077, \"askin'\": 1078, 'recent': 4188, 'mckinley': 1319, 'listened': 1079, 'profiling': 5816, 'fumigated': 4500, 'wanna': 4501, 'neat': 4502, 'flying': 1080, 'square': 4503, 'craphole': 4507, 'placing': 4505, \"battin'\": 1082, 'train': 5817, 'massage': 4508, 'laughter': 4509, 'spoon': 4510, 'solves': 3619, 'verdict': 4511, 'orifice': 1083, 'nelson': 1085, 'wholeheartedly': 1086, \"spiffin'\": 1087, 'time': 4743, 'barbara': 757, 'stained-glass': 5465, 'hospital': 1088, 'sometimes': 4514, 'technical': 4515, 'there': 1090, 'calmly': 3621, 'shareholder': 760, 'executive': 4516, 'muffled': 4517, 'kansas': 3092, 'months': 4518, 'duffman': 4519, 'buddies': 4520, \"d'\": 4521, 'program': 1862, 'complete': 1091, \"coaster's\": 4522, 'agreement': 1092, 'learn': 5292, 'catching': 4749, 'pennies': 1093, 'forward': 4524, 'simpsons': 1094, 'parasol': 1095, 'much': 4525, 'motorcycle': 1096, 'cheaped': 1097, 'sam:': 3596, 'smitty:': 6294, 'luv': 4526, 'patient': 1098, 'proper': 4527, 'bounced': 4752, \"aristotle's\": 4528, 'guilt': 4529, 'and:': 4530, 'religious': 1102, 'friendship': 5819, 'doug:': 1103, 'eyeball': 4531, 'crowned': 4532, 'thirty': 4533, \"daughter's\": 5294, 'ultimate': 1104, 'weekend': 1105, \"games'd\": 1106, 'publish': 1107, 'failed': 1108, 'chuckle': 1109, 'sketching': 1110, \"y'money's\": 3623, 'renee:': 4536, 'angrily': 4537, 'driver': 1112, 'convenient': 4539, 'bathed': 1114, 'loved': 4542, 'pulling': 4543, 'exactly': 4544, 'fifteen': 3095, 'mock': 4546, 'schnapps': 4547, 'buttons': 4548, 'vermont': 4549, 'onto': 1118, \"maggie's\": 1119, 'applicant': 4550, 'sniper': 1120, 'sweater': 1155, 'sinkhole': 4551, 'jukebox_record:': 4552, 'calm': 1121, 'whaddya': 4553, 'turlet': 4366, 'fink': 4554, 'legally': 1325, \"callin'\": 4556, 'cartoons': 5165, 'a-lug': 1122, 'chairman': 1123, 'way:': 4558, 'remain': 1124, 'worthless': 4559, 'seeing': 1125, 'blur': 4560, 'form': 6396, 'think': 4561, 'grunt': 3624, 'starve': 767, 'blamed': 4394, 'have': 3625, \"starla's\": 1127, 'tremendous': 1129, 'sugar-me-do': 1130, 'boozehound': 1328, 'oh': 4564, \"pressure's\": 4565, \"wouldn't\": 1131, 'walks': 4566, 'wudgy': 1132, 'sexton': 4567, 'weeks': 1133, 'pretends': 4568, 'victory': 3627, 'occupancy': 4569, 'ends': 1134, 'exception:': 4758, 'absentminded': 1135, 'mike': 4570, 'bulldozing': 1946, 'harm': 4571, 'living': 1139, 'mcbain': 4573, 'hundred': 3629, 'evening': 1140, 'dunno': 1141, 'class': 1142, 'moe_szyslak:': 4575, 'publishers': 1144, 'refinanced': 4577, 'filthy': 1145, 'ingredient': 4578, 'quite': 5884, 'space-time': 4579, 'wish': 4580, 'breathless': 6575, 'detail': 1147, 'silence': 6399, 'changed': 5242, 'boy': 770, 'food': 4582, 'focused': 1148, 'investigating': 4583, 'vacation': 1149, 'birthday': 4584, 'agree': 5302, 'toe': 1150, 'trust': 4585, 'mistakes': 4586, 'occurs': 4587, 'cruel': 4588, 'fustigate': 4589, 'gayer': 4590, 'ahead': 4196, 'promise': 1151, 'engraved': 1152, 'catty': 4591, 'allegiance': 1153, 'stored': 1154, 'emergency': 1156, 'magnanimous': 1157, 'manage': 2518, 'beer-dorf': 4592, 'start': 4593, 'pepper': 1158, 'iran': 6402, 'prohibit': 4594, \"soakin's\": 4595, 'churchill': 1159, 'unable': 4596, 'dumbass': 4597, 'sponsoring': 1160, 'founded': 4598, 'fanciest': 4599, 'limits': 1335, 'mimes': 4600, 'joint': 4601, 'delightfully': 3747, 'ummmmmmmmm': 1163, 'outs': 1164, 'rugged': 4765, 'gary_chalmers:': 3503, 'aggravated': 6334, 'poking': 1165, 'spews': 4602, 'kemi:': 6386, 'seminar': 1167, 'shells': 1168, 'uh-huh': 4603, 'museum': 1169, 'mither': 1170, 'sobbing': 2636, 'watch': 1171, 'sweet': 4604, 'gunter:': 4032, 'minister': 4606, 'name': 3041, 'tatum': 1172, 'stadium': 1173, 'stickers': 4201, 'lady_duff:': 1175, 'make:': 1176, 'gorgeous': 4607, 'facebook': 1177, 'therefore': 1178, 'fireworks': 4608, \"that's\": 2522, 'bobo': 4205, 'forget': 1179, 'why': 4609, 'dislike': 4610, 'lots': 1180, 'hemorrhage-amundo': 1181, 'onion': 5838, 'dealie': 1182, 'shorter': 4611, 'steinbrenner': 1184, 'hushed': 4612, 'contemptuous': 4613, 'applesauce': 4614, 'neither': 4615, 'impress': 1186, 'duff_announcer:': 195, 'filed': 1188, 'forget-me-drinks': 1189, 'pussycat': 4206, 'ford': 1337, 'brag': 1190, 'deliberately': 1191, 'jubilation': 1338, 'teenage_barney:': 1192, 'billingsley': 4617, 'henry': 1684, 'tipsy': 1193, 'erasers': 4618, 'plastic': 4619, 'asleep': 4142, 'gags': 3560, 'kinda': 1126, 'giant': 4620, 'cleaned': 5307, 'ladies': 1194, 'itself': 1195, 'sequel': 6407, 'most': 4621, 'bonfire': 4622, 'sizes': 1197, 'predictable': 3740, 'drinking': 4623, 'slugger': 4624, 'figured': 4625, '||comma||': 5840, 'santeria': 4626, 'elite': 1199, 'cocktail': 4211, 'cent': 1200, 'horns': 4627, 'flailing': 1201, 'touches': 1202, 'chunky': 1342, 'nbc': 4628, 'through': 2529, 'punkin': 4629, 'international': 1204, 'teacup': 4630, 'bottoms': 4631, 'whistling': 1205, \"thinkin'\": 4632, 'remodel': 5312, 'he': 6707, 'fresh': 4633, \"kiddin'\": 1206, 'chosen': 5313, 'excited': 4635, 'buttocks': 4636, 'dae': 4637, 'wolfcastle': 1207, 'loss': 4638, 'friendly': 1209, 'ninety-eight': 4639, 'goblins': 4640, 'bulked': 5787, 'ate': 1211, 'shocked': 4641, 'zeal': 1212, 'coney': 4642, 'attend': 4643, 'without:': 1213, 'm': 4774, 'pursue': 4645, 'pretzels': 1552, 'own': 4646, 'vin': 1214, 'larry:': 1215, 'inspiring': 4647, 'quiet': 3074, 'marvelous': 4648, 'stool': 4649, 'tell': 1217, 'bothered': 4653, 'wrapped': 1218, 'sistine': 5121, 'crawl': 1219, 'advertising': 1220, 'eighty-six': 4654, 'money': 4655, 'feet': 1221, 'accepting': 4656, 'dizer': 1223, 'driveability': 1224, 'befriend': 5844, 'macgregor': 1225, 'bell': 4657, 'line': 4658, 'furiously': 6009, 'stupidly': 506, 'thorough': 1228, 'clips': 1229, 'drive': 4659, 'carny:': 4271, 'aquafresh': 1230, 'thrust': 1231, 'tough': 783, 'gin': 1233, 'nap': 5317, 'surprise': 4660, '7-year-old_brockman:': 4661, 'restless': 1234, 'fifty': 1236, 'wobble': 4662, 'football': 1237, 'empty': 5845, 'begin': 4664, 'oils': 1238, 'doy': 1239, 'bears': 1242, 'manjula': 4665, 'threatening': 1243, 'knit': 4666, 'k': 1244, 'enabling': 207, 'prank': 4667, 'au': 1590, \"ragin'\": 4668, 'kills': 4669, 'stranger:': 208, 'survive': 1245, 'chow': 4670, 'fourth': 1246, 'duff': 1247, 'smelly': 1248, 'debonair': 5421, 'check': 1249, 'aah': 653, 'paid': 4671, 'odor': 4672, \"c'mon\": 1250, 'luck': 1966, 'yes': 1251, \"i'd\": 1252, 'acquaintance': 5319, 'hiding': 785, 'customers': 1255, \"that'd\": 4673, 'tip': 3115, 'justice': 4674, 'errrrrrr': 4675, 'swallowed': 4676, 'silent': 4677, \"meanin'\": 4678, 'charlie:': 1258, 'minus': 1356, 'browns': 1259, 'sob': 1260, 'photo': 3649, 'hurry': 1262, 'noticing': 1263, 'almond': 4680, 'that': 5849, \"fun's\": 4681, 'public': 3473, 'hosting': 6417, 'grammys': 5254, 'juice': 2547, 'platinum': 4682, 'heads': 1264, 'insecure': 4684, 'terror': 4685, '1895': 1265, 'junkyard': 1266, 'plant': 1267, 'cutest': 5142, 'even': 4686, 'tanking': 3652, 'retain': 4687, 'kool': 1268, 'tidy': 1269, 'lingus': 1270, 'yea': 4688, 'notices': 1271, 'woo-hoo': 1272, 'eighteen': 4689, \"president's\": 1973, 'settlement': 1273, 'right': 4690, 'alley': 1274, 'culkin': 1275, 'nantucket': 4692, 'bucket': 5852, 'bartender': 4693, 'managing': 4694, 'icelandic': 2552, 'item': 4695, 'massachusetts': 4697, 'jump': 4222, 'edna-lover-one-seventy-two': 4698, 'onassis': 1279, 'frogs': 4699, 'three': 1281, 'blade': 4700, 'tabs': 4701, \"i'll\": 1282, 'fudd': 3452, 'comedies': 1284, 'panicked': 4703, 'teams': 1285, 'bar:': 3656, 'rainier': 1360, 'obama': 1287, 'natured': 1289, 'hispanic_crowd:': 4704, 'defensive': 1290, 'justify': 6381, 'mention': 4705, 'brought': 220, 'wise': 4706, 'kl5-4796': 1292, 'rumor': 4707, 'shock': 4708, 'taps': 4709, 'barney': 4710, 'barstools': 4711, 'krabappel': 4712, 'sweaty': 1974, 'homer_doubles:': 1514, 'plain': 1294, 'principal': 1295, \"weren't\": 4713, 'lady': 4714, 'forgot': 1296, \"tellin'\": 1297, 'mostrar': 1298, 'point': 1299, 'kazoo': 4717, 'gimmicks': 4718, 'brothers': 4719, 'cheese': 1301, \"s'pose\": 4230, 'socratic': 1302, '250': 4720, 'men:': 4721, 'bellyaching': 4722, 'playful': 1303, 'sang': 4723, 'africa': 4724, 'xanders': 4725, 'seems': 4726, \"stealin'\": 4727, 'broncos': 4728, 'happily': 4729, 'though:': 4730, 'brother-in-law': 1306, \"it'd\": 6453, 'hide': 4731, 'heartless': 4732, 'knuckle-dragging': 1241, 'neon': 1309, 'snitch': 4733, 'busiest': 1310, 'kisser': 3658, 'hafta': 4734, \"startin'\": 4736, 'moans': 1311, 'enter': 3659, 'juan': 1313, 'is:': 1314, 'distract': 1315, 'conference': 1316, 'crime': 1979, 'happened': 6451, 'happens': 1317, 'thanks': 1318, 'kiss': 4738, 'ah': 4739, 'cheers': 4740, 'uncle': 4741, 'kearney_zzyzwicz:': 5860, 'toys': 4742, 'pass': 801, 'chew': 1320, \"enjoyin'\": 4744, 'gimmick': 1321, 'composite': 4745, 'terrifying': 4235, 'ahem': 4746, 'yew': 4747, 'crazy': 4748, 'dearest': 4750, 'village': 1323, 'scrape': 4751, 'muttering': 1324, 'piano': 804, 'most:': 5963, 'lifters': 2562, 'mexican_duffman:': 1326, 'gossipy': 4236, 'casual': 1327, 'fwooof': 6419, 'taylor': 4754, 'looking': 4755, 'trustworthy': 4756, 'optimistic': 4757, 'x': 1329, 'flourish': 1330, 'brooklyn': 1332, 'sells': 1333, 'gums': 4759, 'jury': 4760, 'address': 1334, 'gheet': 5861, 'death': 4761, 'jeff_gordon:': 4762, 'french': 4763, 'fast-paced': 4766, 'touched': 809, \"fallin'\": 1336, 'szyslak': 5863, 'trees': 4767, 'normals': 1339, 'traffic': 4768, 'demand': 1340, 'flaming': 4769, 'only': 6490, 'elmer': 1341, 'lame': 4770, 'prison': 4241, 'ginger': 4771, 'harvesting': 4772, 'repeating': 4773, 'hockey-fight': 1344, 'don': 1345, 'election': 1346, 'head-gunk': 4775, 'dear': 1347, 'honey': 1348, 'continued': 4776, \"that'll\": 1349, 'woman:': 4778, 'gasp': 1350, 'ineffective': 1351, \"guy's\": 1352, 'gentleman:': 1353, 'fit': 668, 'chanting': 4779, 'surprised/thrilled': 1354, 'typed': 1355, 'five': 233, \"wallet's\": 4780, 'swigmore': 4781, 'choke': 1357, 'overflowing': 4782, 'skin': 4783, 'correction': 1358, 'director:': 4784, 'two-drink': 1359, \"shan't\": 5335, 'mixed': 1361, 'allowed': 4785, 'banned': 4786, \"stallin'\": 4787, 'thumb': 4788, 'sales': 1362, 'twins': 1363, 'd': 1364, 'throws': 1365, 'furious': 1366, 'acronyms': 1367, \"england's\": 5336, 'fixes': 6424, 'title': 4789, 'blob': 4790, 'i-i': 4791, 'appealing': 4792, 'tofu': 6102, 'rest': 1369, 'friction': 1370, 'steely-eyed': 1371, 'dumb-asses': 4793, 'mocking': 4794, 'wa': 4795, 'losing': 4796, 'wrestle': 1376, 'nice': 1373, 'odd': 238, \"scammin'\": 4797, 'firmly': 6426, 'wheels': 1374, 'one-hour': 1375, 'something:': 4798, 'drunkening': 4799, 'dirt': 1377, 'telemarketing': 4800, 'slice': 4801, 'bird': 4563, \"duelin'\": 4802, 'warn': 1378, 'cerebral': 1380, 'lindsay': 1379, 'poet': 1382, 'sec': 1383, 'indigenous': 4803, 'frankie': 1384, 'studied': 573, 'market': 4804, 'enterprising': 4805, 'list': 1386, 'marry': 4806, 'give': 1995, 'computer': 1388, 'newest': 4807, 'politician': 4808, 'hike': 1389, 'sanctuary': 1390, 'moe-heads': 4810, 'crow': 4813, \"fans'll\": 4812, 'fiction': 1391, 'espousing': 1392, 'flame': 1381, 'inanely': 1394, 'eyed': 1395, 'whispered': 4815, 'du': 1396, 'trapped': 1397, 'fury': 4816, 'isle': 4817, 'harvard': 5392, 'behind': 1399, \"'now\": 4818, 'tsk': 1401, 'ripcord': 4819, \"lisa's\": 1030, 'first': 4820, \"tab's\": 1402, \"shootin'\": 4822, 'skoal': 4823, 'slick': 1403, 'cursed': 4252, 'drederick': 1405, 'depending': 4825, 'blinded': 4826, 'fella': 4827, 'mate': 4828, 'uh': 821, 'host': 4829, 'andalay': 1693, 'dogs': 523, 'awkwardly': 4830, 'genuinely': 4831, 'frazier': 5873, 'whup': 4832, 'clean': 4833, 'snotball': 2000, 'nudge': 1406, 'gulliver_dark:': 1407, 'remember': 1408, 'phlegm': 1409, 'tee': 4834, 'application': 1410, 'cure': 6768, 'original': 4835, 'thirsty': 5338, 'ad': 4836, 'presents': 1411, 'loyal': 1412, 'pinball': 4837, 'satisfaction': 823, 'angry': 1385, 'sold': 4839, 'science': 1415, 'die': 1416, 'jockey': 1417, 'drug': 4841, 'authorized': 4842, 'kinds': 1419, 'jokes': 4843, 'bank': 6159, 'ratted': 4844, 'over': 4256, \"'pu\": 827, 'pre-columbian': 1420, 'smoke': 1422, 'mad': 1423, 'musses': 1387, 'two': 4845, 'exchanged': 3140, 'hawking:': 4846, 'laughing': 1424, 'decide:': 4848, \"city's\": 5344, 'bride': 4849, 'studio': 4850, 'daniel': 1427, 'know': 4852, 'surprising': 250, 'five-fifteen': 4853, 'consciousness': 3482, 'road': 1428, 'nards': 4260, 'rolls': 4855, 'aid': 4809, 'broom': 4856, 'aunt': 2006, 'interesting': 5345, 'snow': 1430, 'p': 4857, 'broadway': 1432, 'law-abiding': 3141, 'painless': 4860, 'newsies': 1433, 'evergreen': 1434, 'stein-stengel-': 1435, 'funeral': 4863, 'gang': 1436, 'everywhere': 4864, 'jerky': 1437, 'hub': 3676, 'adjourned': 1438, 'stools': 1439, 'maitre': 830, 'radiation': 1440, 'beans': 1441, 'generously': 4865, 'remaining': 4866, 'rumaki': 4867, 'family-owned': 1442, 'entirely': 832, 'theatrical': 4811, 'rob': 1443, 'stones': 4868, 'hairs': 4869, 'ninety-six': 4871, 'nauseous': 4872, 'alec_baldwin:': 1445, 'charter': 4874, 'bartending': 1447, 'and': 4875, 'crinkly': 4876, \"'bout\": 4265, \"o'clock\": 4877, 'sloppy': 1393, 'deliberate': 1449, 'sued': 1451, 'sinister': 4878, 'stops': 4879, 'aboard': 1453, 'killer': 3679, 'jacques': 1454, 'professor': 1455, 'solved': 4880, 'stores': 4881, 'familiar': 1456, 'acquitted': 1457, 'professional': 4882, 'treehouse': 4883, 'earth': 4884, 'sponge:': 4268, 'change': 1458, 'navy': 1459, 'dictator': 4885, 'joey': 4886, 'peeping': 3143, 'faceful': 4887, 'pus-bucket': 1462, 'yelp': 4888, 'far': 1463, 'hard': 4269, 'crapmore': 4716, 'four-star': 1466, \"hadn't\": 4889, 'fireball': 1467, 'drunkenly': 3779, 'soap': 253, 'homers': 1469, 'fat-free': 2013, \"tomorrow's\": 5890, 'based': 4814, 'nevada': 4891, 'lend': 838, 'energy': 4892, 'cop': 1470, 'heavyset': 1471, 'appeals': 1472, 'tight': 4273, 'forced': 4893, \"c'mere\": 4894, 'mexicans': 4895, 'inspector': 1475, 'si-lent': 843, 'handwriting': 4896, 'barn': 4897, 'pin': 1479, 'rewound': 4898, 'gift': 4274, 'fainted': 1480, 'painting': 1481, 'reflected': 4899, 'breakdown': 4900, \"children's\": 1483, 'options': 4902, 'singing/pushing': 5500, \"i'm-so-stupid\": 1485, 'acceptance': 4903, 'seem': 3685, 'oh-so-sophisticated': 1489, 'forgive': 1490, 'shoot': 4905, 'all': 1491, 'improv': 4906, 'dads': 1398, 'mumble': 908, 'gr-aargh': 4907, 'kentucky': 1492, 'smell': 6444, 'chub': 1493, 'margarita': 1497, 'guest': 1495, 'any': 1496, 'ing': 2583, 'little_hibbert_girl:': 4908, \"handwriting's\": 4910, 'combine': 1498, 'novelty': 4911, 'puke-holes': 2200, 'teacher': 4912, 'squeal': 1500, 'plug': 4913, 'runs': 5350, 'she': 1532, 'asses': 1400, 'eminence': 4914, 'chuckles': 4919, 'bump': 1503, 'partners': 4915, 'half-beer': 4916, 'sleeping': 4917, 'rock': 1504, 'ons': 1505, 'fox': 4055, 'answers': 4918, 'tries': 3732, 'lisa': 1506, 'force': 1507, 'switch': 1509, 'haircuts': 4921, 'kind': 1510, 'sitcom': 4922, 'harder': 1511, 'mm': 5352, 'continuum': 4127, 'flag': 3613, 'twenty-nine': 1512, 'wasting': 1307, 'fledgling': 4924, 'privacy': 1515, \"i've\": 4925, 'jeff': 4926, 'every': 1517, 'investor': 1518, 'witches': 847, 'clown-like': 4928, 'moments': 1521, 'jig': 4929, 'feminist': 4930, 'accounta': 1523, 'scientists': 4931, 'question': 1524, 'fold': 1525, \"soundin'\": 4932, 'latour': 4934, 'said:': 4935, 'yourse': 5144, 'blame': 4936, 'achebe': 5356, 'nineteen': 5248, 'dash': 4937, 'mccarthy': 1526, 'winces': 4938, 'shark': 1527, 'betrayed': 1528, 'alright': 4939, 'moon': 4940, 'h': 4941, 'lovers': 2184, 'action': 1531, 'fictional': 1174, 'hillbillies': 1533, 'connor-politan': 1404, 'seemed': 5488, 'limber': 1535, \"poundin'\": 4942, 'german': 1536, \"beggin'\": 1537, 'arguing': 4943, \"comin'\": 4944, 'joe': 4945, 'princess': 4824, 'wears': 4281, 'trash': 1539, 'feast': 4946, 'blissful': 3690, 'hollye': 1540, 'moustache': 1541, 'vomit': 4947, 'do': 4948, 'swell': 5897, 'con': 1542, 'versus': 1543, 'simultaneous': 4949, 'told': 1545, 'boyhood': 1546, 'ordered': 4950, 'housework': 4951, 'shakes': 1547, 'nagurski': 4952, \"clancy's\": 4953, 'heavyweight': 2593, 'open-casket': 6452, 'heatherton': 4954, 'liser': 2596, 'stupid': 1548, 'twentieth': 4955, 'developed': 1549, 'manjula_nahasapeemapetilon:': 4956, 'ridiculous': 1550, 'tabooger': 1551, 'spreads': 4958, 'roach': 4959, \"bein'\": 4960, 'bye': 4961, 'wuss': 851, 'somewhere': 4962, 'priest': 1554, 'blown': 4963, 'truck_driver:': 1555, 'society_matron:': 5974, 'recorder': 4964, \"show's\": 1557, 'fountain': 4965, 'noise': 1559, 'sit': 1560, 'count': 5900, 'ironic': 4966, 'wham': 5936, 'waltz': 4286, 'strokkur': 1562, 'solo': 5359, 'bam': 4967, 'however': 6048, 'l': 1563, 'howya': 4968, 'searching': 6175, 'high': 4969, 'whose': 4970, 'listens': 3454, 'grocery': 1565, 'giggles': 4973, 'flexible': 1566, 'polygon': 4974, 'monroe': 1567, 'hubub': 4975, 'boned': 5271, 'democrats': 4976, 'here': 4977, 'smugglers': 4978, 'fist': 1568, 'dry': 1569, 'greedy': 1571, 'shesh': 1573, 'bourbon': 1574, 'making': 1575, 'separator': 1576, 'homeless': 3694, 'stagehand:': 4979, 'mansions': 5599, 'enjoys': 1577, 'celebrities': 6096, 'flashbacks': 4980, 'typing': 1578, 'calendars': 2600, 'cruise': 4981, 'clearly': 4982, 'step': 5363, 'giving': 2375, 'thousands': 4983, 'ehhh': 4984, '2nd_voice_on_transmitter:': 5364, 'manfred': 4777, 'danny': 1579, 'piling': 1580, 'wage': 1581, 'duh': 1582, 'mmmm': 1584, 'stalwart': 4985, 'vampires': 4986, 'hoax': 4987, 'least': 1585, 'example': 1586, 'oak': 5367, 'je': 1587, 'narrator:': 4988, 'jägermeister': 4989, 'average-looking': 4990, 'helicopter': 1589, 'weak': 4991, 'milhouses': 1591, 'reminds': 4992, \"tootin'\": 4993, 'dingy': 1592, 'amazed': 1593, 'ventriloquism': 1594, 'compete': 4478, 'wallet': 1596, 'sabermetrics': 2287, 'wild': 1597, 'compared': 856, 'doll-baby': 4994, 'gets': 4995, 'ura': 1598, 'enlightened': 1599, \"robbin'\": 4996, 'everything': 1673, 'rainier_wolfcastle:': 266, \"d'ya\": 4998, 'rife': 1600, 'else': 5089, 'old': 4999, 'wrestling': 5000, 'vigilante': 5001, 'junebug': 1601, 'squirrel': 1602, \"mo'\": 1603, 'kent_brockman:': 1604, 'habit': 1606, 'crowded': 5002, 'nascar': 4392, 'knows': 1608, 'leaving': 268, 'sniffs': 1609, 'conversations': 1610, 'wife-swapping': 5003, 'tokens': 1611, 'yeah': 729, 'realize': 4291, 'small': 1612, 'cheesecake': 1613, 'eventually': 5004, 'helpless': 1614, 'our': 269, 'lurleen_lumpkin:': 5005, 'uncreeped-out': 6133, 'haplessly': 5006, 'known': 1615, 'late': 5007, 'this:': 1413, 'entertainer': 5008, 'became': 5009, 'strains': 6463, 'straining': 5010, 'what': 2947, 'novel': 4838, 'practice': 5011, 'wipes': 1617, 'booking': 1618, 'groans': 5012, 'progress': 5013, 'farthest': 1620, 'seats': 1100, \"hasn't\": 5373, 'button-pusher': 1622, 'taste': 5015, 'terminated': 5018, 'gol-dangit': 5017, 'telephone': 1623, 'leans': 1624, 'probably': 1625, 'fancy': 1414, 'mice': 4904, 'bon-bons': 4679, 'bite': 5021, 'slapped': 5022, 'grienke': 5023, 'dejected': 1626, 'grain': 4840, 'stevie': 1418, 'take': 5024, '_zander:': 5025, 'suspended': 1628, 'official': 1968, 'youngsters': 1629, 'invite': 4297, 'chief': 1631, 'fund': 3698, \"ridin'\": 5026, 'mortal': 1632, 'clipped': 1633, 'exits': 5027, 'awed': 1635, 'thighs': 1636, \"puttin'\": 1637, 'together': 3281, 'pulled': 1638, 'paste': 5028, 'zone': 1640, 'bookie': 858, 'adjust': 6149, 'doing': 1641, 'luxury': 933, 'flynt': 1642, 'ron_howard:': 5029, 'candy': 1645, 'lennyy': 4299, 'punching': 5030, 'stupidest': 1646, 'venom': 4177, 'scanning': 1647, 'looooooooooooooooooong': 5031, 'befouled': 5032, 'reviews': 5033, 'artist': 5034, \"they'll\": 5035, \"poisonin'\": 1650, 'verticality': 4576, 'worth': 2618, \"fryer's\": 5036, 'streetlights': 1651, 'marguerite:': 4301, 'helped': 1652, 'placed': 5039, 'was': 5038, 'drinking:': 5040, 'virility': 1654, \"costume's\": 5041, 'unusually': 5132, 'grind': 5042, 'unbelievable': 866, 'comeback': 5043, 'idioms': 279, 'sun': 1656, 'dizzy': 5170, 'back': 1657, 'whoopi': 1658, 'andrew': 5044, 'duffman:': 594, 'lodge': 1659, 'feminine': 1660, 'goodnight': 3170, 'ehhhhhhhh': 1662, 'nursemaid': 1663, 'deer': 1664, 'depressing': 1665, 'near': 5045, 'trivia': 5046, 'eaters': 5047, \"shouldn't\": 1667, 'closet': 1669, 'tape': 5378, \"eatin'\": 5048, 'consider': 5049, 'moe-clone': 5050, 'express': 5051, 'afford': 1671, 'weapon': 5052, 'wants': 5053, 'clapping': 5054, 'badges': 5055, \"'tis\": 5056, 'maybe': 5057, 'occurred': 1421, 'zinged': 1674, 'tar-paper': 5058, 'symphonies': 1677, \"jimbo's_dad:\": 1678, 'accurate': 5059, 'voted': 1679, 'roses': 5060, \"g'on\": 1680, 'imported-sounding': 5061, 'chipper': 5062, 'over-pronouncing': 5063, 'distance': 5065, \"b-52's:\": 5114, 'lugs': 5066, 'reader': 5067, 'various': 5068, \"life's\": 5069, 'bumbling': 1682, 'notch': 6526, 'grenky': 1683, 'suru': 1685, 'pouring': 3711, 'size': 1686, 'rag': 3772, 'pirate': 1687, 'majesty': 6568, 'level': 1688, 'gary:': 5071, 'taxi': 1689, 'fever': 1690, 'sleeps': 1691, 'anxious': 5382, 'meanwhile': 2317, 'film': 5920, 'chip': 5073, 'comic_book_guy:': 4847, 'lincoln': 873, 'cats': 5075, 'pre-game': 1425, 'admiration': 5460, 'twerpy': 5076, 'doors': 1695, 'chief_wiggum:': 1696, 'pudgy': 5077, 'cage': 1697, 'coffee': 5078, 'bronco': 1699, 'prints': 1700, 'appearance-altering': 5079, \"raggin'\": 5080, 'slop': 5081, 'unlocked': 6476, 'cock': 1701, 'compare': 1702, 'squirrels': 5082, 'spitting': 1703, 'yet': 6478, 'yards': 5925, 'usual': 5384, 'pointless': 1704, 'charged': 5084, 'lap': 175, 'victorious': 5085, 'len-ny': 1705, \"everyone's\": 1706, 'salary': 1707, 'krusty': 5086, 'soft': 5087, \"couldn't\": 5088, 'dance': 5926, 'coupon': 1710, 'period': 4310, 'crummy': 4851, 'edner': 1714, 'haw': 1713, 'mouse': 5175, 'times': 5093, 'bones': 1715, 'hellhole': 5094, 'anti-crime': 5236, 'perfected': 1717, 'direction': 5095, 'lock': 1719, 'nahasapeemapetilon': 1720, 'understand': 1721, 'fustigation': 1722, 'chained': 5096, 'villanova': 4854, 'delicious': 5097, 'anybody': 5098, 'consoling': 5099, 'cousin': 1725, 'motor': 5100, 'tied': 5101, 'cleveland': 5102, 'sympathetic': 1728, 'nerve': 1429, 'character': 1730, 'associate': 1731, 'haikus': 5103, 'thing': 1116, 'young_marge:': 5104, 'recommend': 1732, 'fellow': 1733, 'beating': 5106, 'eddie': 1734, 'lecture': 5107, 'things': 1735, 'be-stainèd': 5109, 'lofty': 5110, 'agh': 1736, 'if': 1737, 'jovial': 3181, 'heaven': 5111, 'dilemma': 5112, 'names': 289, 'highest': 5115, 'scratching': 4861, 'compliment': 3642, 'unavailable': 5116, 'march': 1738, 'caper': 6483, 'buds': 5117, 'pardon': 1739, 'starts': 1741, 'triangle': 1742, 'reasonable': 1743, 'means': 1744, 'return': 5118, 'grampa_simpson:': 5119, 'soul-crushing': 5120, 'bauer': 5389, 'slipped': 1745, 'thnord': 5122, 'williams': 1746, 'your': 1747, 'guys': 1748, 'flush-town': 1750, 'raccoons': 5127, 'broke': 1431, 'linda': 5128, 'self-satisfied': 5129, 'toxins': 1751, 'natural': 1752, 'before': 1753, 'hexa-': 1754, 'wussy': 1755, '1979': 1756, 'edison': 5134, 'brotherhood': 5136, 'gum': 4313, 'fl': 4859, 'whatever': 1757, 'big': 5391, 'cow': 1759, 'modest': 1760, 'pointing': 1761, 'in-ground': 1762, 'brief': 5137, 'urban': 1763, 'possibly': 5138, 'scary': 5140, 'leno': 5141, 'did': 1764, 'locked': 1765, 'logos': 5143, 'hates': 1766, 'knives': 3725, 'guessing': 5145, 'apart': 5146, 'games': 1767, 'andy': 1768, 'found': 1769, 'queen': 4862, 'presumir': 1770, 'jackson': 1771, \"fishin'\": 5150, 'peppers': 1772, 'attach': 5151, 'dating': 1773, 'schedule': 1774, 'dumb': 5152, 'naval': 5153, 'nailed': 5154, 'offended': 1775, 'nine': 1776, 'partially': 1778, 'mel': 1276, 'lucius:': 1779, 'halfway': 5155, 'corner': 5156, 'paramedic:': 5157, 'insults': 1780, 'admiring': 5158, 'eva': 1781, 'guzzles': 5159, 'insured': 1782, 'har': 1783, 'run': 1784, 'figures': 1785, 'available': 1786, 'going': 5161, 'van': 5396, 'handle': 1787, 'musta': 1788, 'lowest': 5162, 'thru': 5163, 'cause': 5164, 'feat': 6489, 'lise:': 1789, 'would': 5167, 'lanes': 1790, 'law': 1791, 'sharps': 5169, \"coffee'll\": 1792, 'hungry': 1793, 'broad': 1794, 'forty-five': 1795, \"phone's\": 1796, 'schmoe': 1797, 'tease': 5171, 'ivanna': 5173, 'menlo': 5174, 'valuable': 5176, 'brings': 5177, \"people's\": 1798, \"tree's\": 5178, '1973': 5939, 'bowl': 5179, 'lizard': 1799, 'determined': 1800, 'infestation': 5181, 'orgasmville': 5183, 'sedaris': 5184, 'with': 1801, 'moesy': 1802, 'brunswick': 1803, 'upsetting': 5186, 'be': 1804, 'close': 5188, 'soaps': 1805, 'language': 5190, 'ladder': 1806, 'na': 6697, 'pepto-bismol': 1807, 'decision': 1808, 'wienerschnitzel': 1809, 'languages': 5195, 'since': 1810, 'it:': 5196, 'scatter': 1812, 'sounds': 1813, 'cake': 1216, 'pick': 1814, 'author': 1816, 'civic': 5197, 'irish': 1817, 'sassy': 1818, 'college': 1819, \"homer's\": 1820, 'moe': 1821, \"yieldin'\": 1822, 'headhunters': 4324, 'tons': 5199, 'personal': 5200, 'octa-': 5201, 'the_edge:': 1823, 'sadly': 6494, 'syndicate': 3738, 'vengeful': 1824, 'shrieks': 1825, 'sitting': 5202, 'ice': 1826, 'seriously': 5203, 'nervously': 887, 'none': 3195, 'steamed': 5205, 'winch': 1827, 'body': 1828, 'thrown': 1829, 'growing': 303, 'loan': 5208, 'into': 5400, \"he'll\": 1831, 'stalin': 5210, 'benjamin': 1832, 'wave': 1833, 'cotton': 5211, 'year': 1834, 'bags': 5212, 'older': 5215, 'seat': 1836, 'supervising': 888, 'portentous': 5216, 'memory': 1837, 'liable': 5916, 'ditched': 1839, 'devastated': 1840, 'thousand-year': 5217, 'bold': 5218, 'lawyer': 3199, 'whoops': 1841, 'bill_james:': 1842, 'county': 5219, 'watching': 1843, 'jacques:': 5221, 'tale': 5222, 'sumatran': 5223, 'uninhibited': 1844, 'launch': 1845, 'raging': 1846, 'whatchacallit': 5224, 'plums': 5225, 'seething': 5226, 'hope': 5227, 'disgraceful': 5947, 'deacon': 5228, 'rebuilt': 1847, 'turkey': 1848, 'nooo': 3448, 'beanbag': 5229, 'fears': 1444, 'according': 1849, \"grandmother's\": 1850, 'repressed': 5230, 'sitar': 5553, 'number': 5403, 'nor': 5231, 'spit': 3317, \"industry's\": 1851, 'scared': 5232, 'whiny': 5233, 'shindig': 4873, 'finger': 1852, 'pure': 5234, 'committing': 1853, 'getaway': 1854, 'grade': 5904, 'title:': 5235, 'flanders:': 1855, 'suspenders': 1856, 'chauffeur': 1858, 'renew': 5237, 'hugh': 2648, 'thirty-five': 6498, 'dames': 5238, 'tester': 1859, 'adeleine': 1860, 'recruiter': 1861, 'provide': 5240, 'bail': 1863, 'admitting': 1468, 'beer-jerks': 1043, 'carmichael': 1865, 'consulting': 1866, 'burps': 5241, 'legal': 315, 'couple': 1867, 'disguise': 1448, 'absolut': 1868, 'waste': 316, 'anger': 1869, 'coms': 5243, 'plow': 5244, 'remembered': 5245, 'crippling': 2098, 'gifts': 2151, 'droning': 1872, 'amber': 1874, 'yellow-belly': 5949, 'noosey': 1875, 'counting': 1876, 'barney-shaped_form:': 1877, 'astonishment': 5247, 'many': 1879, 'by': 1880, 'amazing': 1882, 'destroyed': 1884, 'fire_inspector:': 5898, 'krusty_the_clown:': 5249, 'wiener': 1885, 'cadillac': 1886, 'all-star': 5251, 'shoo': 1888, 'ground': 5253, 'achem': 1450, 'customers-slash-only': 1889, 'ram': 5255, 'faiths': 5256, 'people': 5953, 'reconsidering': 1890, 'abercrombie': 1891, 'thoughts': 1892, 'cigars': 1893, 'certainly': 1894, 'notably': 1895, 'apulina': 1896, 'sobs': 1897, \"showin'\": 1898, 'distinct': 1452, 'view': 1899, 'indignant': 1900, 'sucked': 1901, 'outrageous': 1902, 'america': 5258, 'leave': 1903, 'ralph_wiggum:': 1904, 'manuel': 1905, 'wrong': 5260, 'plucked': 1906, 'jeter': 5262, 'tin': 320, 'exited': 5264, 'hmmmm': 1907, 'drank': 5266, 'i-i-i': 1908, 'straight': 5267, 'new_health_inspector:': 3210, 'sooo': 5268, 'twenty': 5269, 'neanderthal': 1909, 'homie': 1911, 'impressed': 5270, 'japanese': 1912, 'superpower': 1913, 'guinea': 5273, 'nordiques': 1914, 'coward': 5274, 'hangout': 5275, 'halvsies': 5276, 'bret': 5277, 'nervous': 5958, 'kodos:': 1915, 'again': 1916, 'felt': 5279, 'evils': 1917, 'bowling': 1918, 'wistful': 5281, 'whisper': 5282, 'theme': 1920, 'bartholomé:': 5283, 'shoulda': 6089, 'forever': 1921, 'jolly': 1922, 'done:': 5285, 'belts': 5286, 'nobel': 1923, 'radioactive': 5287, 'social': 1924, 'affectations': 1925, 'top': 1926, 'insightful': 895, 'stalking': 1927, \"rentin'\": 4634, 'beat': 1928, \"pickin'\": 3926, 'clincher': 1929, 'smokes': 1930, 'thoughtfully': 5288, 'sail': 5726, 'competing': 1931, 'exhaust': 6505, 'sack': 3211, 'ooh': 5289, 'frightened': 3295, 'products': 1932, 'shop': 1933, 'space': 5290, 'regret': 5291, 'disappointment': 1934, 'terrible': 1935, 'party': 1936, 'alpha-crow': 5293, 'pockets': 1938, 'dead': 5295, 'decided': 897, 'fat': 1939, 'horribilis': 5296, 'toward': 5962, 'wrecking': 1940, 'knocked': 1941, 'meyerhof': 5298, \"makin'\": 1942, 'played': 2091, 'shutting': 5299, 'hardhat': 1943, 'spread': 1944, \"they're\": 1945, 'larry': 5300, 'lookalike:': 2664, 'quadruple-sec': 5301, 'man': 1947, 'butts': 1948, 'statues': 1949, 'card': 5303, 'when': 1950, 'payday': 1951, 'al': 6509, 'doof': 5304, 'portfolium': 1952, 'draw': 1461, 'sounded': 5305, 'deadly': 1953, 'friend': 5906, 'depressed': 5416, 'chapel': 1954, 'invulnerable': 5306, 'cricket': 1955, 'wrote': 325, 'r': 5308, 'beats': 5309, 'life-partner': 5310, 'wednesday': 5311, 'talk-sings': 327, 'tree': 1956, 'cattle': 6495, 'screws': 1957, 'texas': 5314, 'burt_reynolds:': 5417, \"ya'\": 5315, 'jar': 1958, 'designer': 1959, 'streetcorner': 1960, 'twenty-four': 5316, 'hall': 1961, 'severe': 1962, 'glowers': 3768, 'curse': 5318, 'investment': 1963, 'othello': 239, 'blood': 1964, 'bartenders': 1965, 'rivalry': 1967, 'grudgingly': 5320, 'prove': 1969, 'splattered': 1970, 'napkins': 1971, 'rubbed': 1972, 'shoots': 5324, 'test-': 5322, 'artie': 5323, 'booze': 5325, 'starla:': 5327, 'company': 2095, 'passes': 5328, 'all-all-all': 1975, 'an': 5329, 'envy-tations': 1976, 'delete': 1977, 'scrubbing': 5330, 'grumbling': 1978, 'sacajawea': 331, 'shortcomings': 5332, 'tomato': 1980, 'assistant': 2669, 'spare': 1981, 'scoffs': 1982, 'hotline': 5333, 'goodwill': 5334, 'burnside': 1983, 'tow-joes': 1984, 'ronstadt': 1985, 'watashi': 1986, 'special': 1987, 'married': 3770, 'stars': 1988, 'saving': 1989, 'gargoyles': 1990, 'nothing': 1991, \"nothin's\": 5337, 'wheeeee': 1992, 'relaxing': 1993, 'come': 5339, 'gutenberg': 5340, '91': 3220, 'alibi': 1996, 'starters': 1997, 'crank': 1998, 'granted': 1999, 'proof': 5341, 'worst': 2001, 'paying': 2002, 'kramer': 2003, 'augustus': 5342, 'painted': 5343, 'heliotrope': 6514, 'reactions': 2004, 'worldly': 5427, 'startled': 2007, '_marvin_monroe:': 2008, \"how's\": 5346, 'nelson_muntz:': 2009, 'old_jewish_man:': 5347, 'guttural': 5348, 'slender': 2010, 'today': 2011, 'freeze': 2012, 'martini': 6158, 'steel': 5589, 'bliss': 5349, 'pack': 2014, 'cloudy': 2015, \"treatin'\": 2016, 'waters': 2017, 'sesame': 2018, 'women': 4347, 'brain-switching': 6269, 'ees': 2019, \"must've\": 5351, 'needs': 2020, 'souped': 2021, 'hears': 2022, 'hugh:': 5353, 'pee': 2023, 'chinua': 2024, 'leathery': 5354, 'decadent': 5355, 'distaste': 2025, 'sings': 2026, 'shred': 2027, 'delivery_man:': 910, 'manboobs': 2028, 'convinced': 2029, 'suddenly': 5357, 'hooked': 5358, 'deny': 2030, 'poorer': 2031, 'ball': 2032, 'dregs': 5360, 'micronesian': 5361, 'register': 5362, 'taunting': 2033, 'safe': 2034, 'unearth': 2035, 'app': 5365, 'shares': 5366, 'committee': 2102, 'dyspeptic': 2036, 'expense': 5368, 'along': 5369, 'up': 5606, 'vacuum': 2037, 'kick': 2038, 'scully': 5370, '||left_parentheses||': 5371, 'permitting': 2039, 'scare': 2040, 'tourist': 2041, 'anyway': 3777, 'ashtray': 2042, 'treat': 2043, 'commanding': 5372, 'pretzel': 2045, 'x-men': 2046, \"i'm\": 6518, \"man's\": 2047, 'outlive': 5374, 'excitement': 2048, 'waking-up': 5375, 'swings': 2049, 'labels': 2050, 'around': 5376, 'honest': 5975, 'sneaky': 2051, 'bon': 5487, 'mailbox': 2052, 'astronauts': 5377, 'purveyor': 3227, 'four-drink': 2053, 'ballot': 2054, 'johnny': 340, 'toy': 2055, 'telling': 5719, 'quarter': 5379, 'bridge': 1473, \"buffalo's\": 5380, 'massive': 342, 's': 1474, 'words': 2058, 'goodbye': 2057, 'bag': 2059, 'problems': 5383, 'beef': 2060, 'military': 5385, 'omigod': 2061, 'cronies': 2062, 'health': 5386, 'joining': 2063, 'on': 5387, 'computer_voice_2:': 5388, 'bide': 2064, 'blossoming': 2066, 'measure': 2067, 'way': 2068, 'dozen': 2069, 'ironed': 5390, 'stock': 1368, 'rosey': 2107, 'twin': 1477, 'read:': 6479, 'unintelligent': 6538, 'made': 6772, 'brave': 2070, 'flanders': 1476, 'classy': 5393, 'canyonero': 346, 'belong': 2071, 'medieval': 1519, 'crossed': 5395, 'push': 5397, \"homer's_brain:\": 2072, 'trainers': 2073, \"somebody's\": 2682, 'hoped': 6521, 'smile': 5398, 'lovelorn': 2075, 'write': 5399, 'got': 2076, 'flash-fry': 2077, 'poulet': 2078, 'safer': 5401, 'jackass': 2079, 'her': 2080, 'donate': 5402, 'veux': 5404, 'suffering': 6522, 'physical': 5405, \"professor's\": 5406, 'accidents': 5407, 'lying': 2081, 'blessing': 5408, 'cuff': 2082, 'attempting': 6071, 'putting': 2083, 'strategizing': 5409, 'girl': 2084, 'payback': 5902, 'refreshing': 2085, 'dinks': 4356, 'breath': 2086, 'greetings': 5410, 'cheap': 5411, 'stood': 2089, 'fruit': 2088, 'choices:': 2090, 'huhza': 5412, 'filth': 5413, 'cushion': 6041, \"mopin'\": 2092, 'barflies': 5415, 'simplest': 2093, 'formico': 5418, 'score': 2094, 'workers': 5419, 'reaching': 5420, 'frosty': 5422, 'beefs': 5423, 'goes': 2096, 'louder': 5424, 'disco': 2097, 'cares': 1484, 'strawberry': 2099, 'sweeter': 2100, 'burglary': 5425, 'dee-fense': 5426, 'ingrates': 5428, 'avalanche': 5429, 'nibble': 2101, 'popular': 5430, 'wisconsin': 2103, 'b': 2104, 'myself': 2105, 'terrorizing': 1486, 'willing': 5431, 'wiggle': 5986, 'material': 5432, 'dreamed': 5433, 'underpants': 5434, 'playoff': 2106, 'whatchamacallit': 5436, 'coma': 1488, 'diets': 5437, 'wells': 5438, 'mine': 2108, 'understanding': 5439, 'pretending': 2109, 'buddha': 5440, 'reward': 2110, 'poisoning': 5441, 'has': 5442, 'pepsi': 1426, 'wearing': 5444, 'hello': 5445, 'dials': 6625, 'police': 2111, 'captain': 5446, 'guff': 2112, 'offa': 5988, 'faulkner': 5447, 'botanical': 2113, 'madman': 5448, 'texan': 5449, 'nein': 2114, 'icy': 2115, 'swill': 5451, 'channel': 920, 'lemme': 2116, 'ew': 2118, 'ding-a-ding-ding-a-ding-ding': 5452, \"somethin's\": 5453, 'fights': 2119, 'mindless': 6530, 'kegs': 2120, 'arimasen': 5454, 'cheapskates': 5455, 'releasing': 5450, 'arab_man:': 2121, 'majority': 2122, 'pad': 6532, 'done': 2123, 'super-genius': 5457, 'dealt': 2124, 'patrons': 5458, 'colossal': 2125, \"man's_voice:\": 5461, \"'roids\": 2126, 'whoa': 5463, 'race': 2132, 'instrument': 2128, 'knocks': 2130, 'vestigial': 2131, 'tax': 2133, 'coyly': 2134, 'job': 5467, 'gals': 5468, 'balls': 5470, 'points': 1494, 'seek': 2135, 'wheel': 5471, 'complaint': 4361, 'bad': 2136, 'frustrated': 919, 'dispenser': 3801, 'clap': 2138, 'eight-year-old': 2139, 'mahatma': 2140, 'vance': 5473, 'colorado': 2141, 'pantsless': 2142, 'aghast': 5474, 'susie-q': 5475, 'marquee': 5476, 'singer': 5477, 'oww': 5478, 'gas': 2143, 'wondering': 5479, 'glasses': 2145, 'full-bodied': 2146, 'bluff': 5481, 'dismissive': 5930, \"stabbin'\": 4909, 'six': 5482, 'universe': 4372, 'teen': 5483, 'or': 5484, 'sir': 1499, 'lungs': 2147, 'hate-hugs': 2044, 'tried': 2148, 'mull': 5486, 'collateral': 2149, 'citizens': 2150, 'limited': 3808, 'hangover': 5149, 'lovejoy': 5490, 'discuss': 358, 'souvenir': 2152, 'raises': 2153, 'heals': 2154, 'uglier': 2155, 'dennis_conroy:': 5493, 'piece': 2156, 'woman_bystander:': 5495, \"who'll\": 2157, 'fluoroscope': 3810, 'effects': 5497, 'occupation': 2158, 'plenty': 2160, 'rom': 1501, 'thought': 2161, \"you'll\": 5501, 'bedtime': 2167, 'bagged': 2163, 'tasimeter': 2164, 'lead': 2165, 'end': 5504, 'turn': 5505, 'branding': 2168, 'hell': 2169, \"doesn't\": 2170, 'talk': 5506, 'killjoy': 5508, 'supreme': 2171, 'serious': 2172, 'hitler': 2173, 'shifty': 6537, 'begging': 5510, 'reed': 2174, 'surgeonnn': 2177, 'yup': 2176, 'kicks': 932, 'teriyaki': 2179, 'ned_flanders:': 2180, 'grumpy': 1675, 'bedbugs': 5511, 'wear': 5512, 'billboard': 2181, 'prepared': 2182, \"tap-pullin'\": 2183, 'kissing': 5995, 'must': 5515, 'polls': 5516, 'backward': 5456, 'presentable': 1502, 'ivory': 5518, 'happen': 5519, 'kindly': 2185, 'religion': 2186, 'squeeze': 2187, 'innocence': 5521, 'bills': 2188, 'amanda': 2189, 'crimes': 5522, 'lee': 5525, 'no': 5524, 'creme': 5526, 'is': 5527, 'affects': 3814, 'lucius': 5528, \"'er\": 2191, 'pays': 2192, 'created': 6162, 'look': 2193, 'touch': 2194, \"chewin'\": 6238, 'parents': 2195, \"we'd\": 2196, 'libido': 5530, 'rusty': 2197, 'passenger': 2198, 'tv': 2199, 'wasted': 2201, 'spooky': 5532, 'smoothly': 2705, 'layer': 5862, 'sternly': 2202, 'candles': 5533, 'minutes': 5459, 'written': 2203, 'presently': 1117, 'disaster': 5535, \"spaghetti-o's\": 2204, 'stab': 3249, 'kidding': 2205, 'duty': 5537, 'reason': 2206, 'softer': 5538, 'roz': 2207, 'quero': 2208, 'afloat': 5539, 'england': 2209, 'scum-sucking': 5462, 'home': 5540, 'used': 5541, 'riveting': 2211, 'dropped': 5542, \"havin'\": 2212, 'product': 2214, 'answered': 2215, 'skills': 5543, 'wonder': 2216, 'swe-ee-ee-ee-eet': 6449, 'virtual': 5464, 'hotenhoffer': 2217, 'pickles': 6543, 'insulin': 2127, 'prize': 2219, \"kid's\": 5545, 'hunger': 4920, 'career': 5693, 'wrap': 2220, \"drawin'\": 301, 'savagely': 2129, 'ruin': 6706, 'common': 5466, \"ball's\": 5547, 'mistake': 5548, 'absolutely': 5549, 'carl:': 2221, 'sharing': 2223, 'düff': 4382, 'pfft': 2224, 'general': 2225, 'mariah': 2226, 'daaaaad': 5550, 'us': 6482, 'including': 5551, 'appreciate': 2227, 'dreams': 2228, 'date': 2229, 'you-need-man': 2230, 'than': 5554, 'statue': 5555, 'calling': 5556, 'aged': 5557, \"you've\": 5558, 'average': 5559, 'ticket': 5560, 'interrupting': 5561, 'wagering': 5562, 'self': 5563, 'skinny': 5564, 'six-barrel': 5565, 'inspired': 2679, 'raggie': 6764, 'visas': 2231, 'referee': 2232, 'hit': 2233, 'offer': 5567, 'intention': 5469, 'quimbys:': 2234, 'expose': 5569, 'prices': 2236, 'agency': 5570, 'sue': 2237, 'aiden': 2238, 'caused': 1513, 'indeed': 2239, 'tears': 5574, 'releases': 2241, 'pretentious_rat_lover:': 5191, 'news': 5575, 'eyesore': 2242, 'fumes': 1183, 'reluctantly': 5577, 'atlanta': 942, 'strongly': 2244, 'allow': 2245, 'homeland': 2710, 'transfer': 2248, 'early': 2247, 'pets': 943, 'ruuuule': 2249, 'encore': 5579, 'albert': 5580, 'sheets': 6003, 'laney': 2250, 'ziff': 945, 'las': 5581, 'low-blow': 2252, 'issues': 5582, '/': 1283, 'ways': 6553, 'raining': 5583, 'bunch': 4927, 'scout': 5584, 'santa': 2253, 'italian': 5586, 'guiltily': 5587, 'buzziness': 2255, 'overturned': 2257, 'burp': 5588, 'all-american': 2258, 'tells': 5590, 'makes': 2259, 'when-i-get-a-hold-of-you': 2260, 'alva': 5591, 'flew': 6554, 'office': 5592, 'catch-phrase': 5593, 'joy': 5594, 'mirror': 2261, 'notorious': 5924, 'chance': 946, 'bindle': 5596, 'rhyme': 2262, 'old-time': 6005, 'hitchhike': 1522, 'order': 2263, 'cecil': 5600, 'trench': 5601, 'beaumarchais': 5602, 'lookalikes': 2264, 'byrne': 5603, 'spectacular': 2265, 'fresco': 2266, 'scientific': 2267, 'madison': 5604, 'pay': 2268, 'round': 2269, 'sheriff': 4393, 'entire': 5605, 'pointedly': 2137, 'field': 2271, 'endorsement': 5608, 'whole': 5609, 'sick': 950, 'murderously': 6557, 'outta': 5610, 'fontaine': 2272, 'sen': 5611, 'ready': 2273, 'lifetime': 2274, 'fleabag': 6033, \"goin'\": 2275, 'stopped': 2276, 'mail': 5612, 'fork': 2277, 'patrons:': 5613, 'jesus': 5614, 'cell': 5616, 'phone': 954, 'duke': 2278, 'crumble': 2279, 'longer': 2280, \"homer'll\": 5620, 'deeper': 5621, 'spilled': 3451, 'clams': 4933, 'unhappy': 2281, 'doreen:': 5622, 'hammock': 2283, 'der': 5623, 'stengel': 956, 'apron': 2284, 'terrace': 5624, 'group': 2285, 'darts': 2286, 'maman': 2288, 'burns': 5472, \"plank's\": 1187, 'image': 5626, 'noooooooooo': 2289, 'gel': 2291, 'whoever': 6561, 'stares': 5627, 'exciting': 2292, 'necessary': 5628, 'foibles': 2293, 'stinky': 2294, 'splendid': 4398, 'pizzicato': 6564, 'these': 2295, 'cigarette': 5629, 'klingon': 5630, 'mediterranean': 5631, 'crappy': 375, 'clearing': 5725, 'nasty': 2296, 'federal': 2297, 'replaced': 2298, 'following': 2299, 'chuckling': 5633, 'jerk-ass': 5634, 'sign': 2301, 'tropical': 2302, 'media': 2303, 'stats': 5635, 'ferry': 2305, 'blowfish': 5636, 'op': 3825, 'counter': 5637, 'anything': 2306, \"round's\": 6565, 'random': 1508, 'scooter': 5639, 'walk': 2307, 'sentimonies': 2190, 'whee': 3827, 'certificate': 2309, 'hippies': 5641, 'next': 2311, 'under': 2312, 'relieved': 962, 'yelling': 2313, 'muscles': 1529, 'madonna': 5642, 'pusillanimous': 2314, 'hammer': 2315, 'reading:': 6016, 'kitchen': 2318, 'a': 5643, \"man'd\": 6018, 'birthplace': 5644, 'argue': 5480, 'ride': 5645, 'smuggled': 6567, 'press': 4133, 'pre-recorded': 2320, \"tryin'\": 5321, 'frankly': 379, 'sisters': 1331, 'cueball': 2321, 'finish': 5646, 'catholic': 5647, 'disappeared': 380, 'stumble': 2322, 'motto': 963, 'handoff': 2087, 'opening': 2323, 'labor': 5650, 'wow': 5651, 'restaurants': 2324, 'schabadoo': 2325, 'bets': 5652, 'illegally': 5654, 'bumblebee_man:': 6022, 'bowie': 5655, 'certain': 2326, 'deli': 1534, 'incarcerated': 6393, 'picky': 2327, 'trip': 6088, \"doin'\": 5656, 'scratcher': 2328, 'busted': 2329, 'unsafe': 2330, \"o'\": 2331, 'resenting': 2332, 'smiled': 6569, 'saved': 5657, 'sorts': 2333, 'quimby_#2:': 5658, 'spinning': 2334, 'boggs': 5659, 'release': 3369, 'rutabaga': 6570, 'represents': 2335, 'looting': 2642, 'chapter': 2336, 'supplying': 2337, 'elect': 2338, 'excuses': 2339, 'chateau': 2340, 'life:': 2341, 'quickly': 2342, 'meaning': 5662, 'part-time': 5663, 'passion': 2343, 'fast': 2345, 'multi-purpose': 5664, 'taxes': 2346, 'adventure': 6094, 'seconds': 5665, 'cocoa': 6574, 'covering': 5666, 'bleacher': 1538, 'laramie': 5667, 'keeping': 2347, 'edgy': 5668, 'mater': 5669, 'refreshingness': 2348, 'chuck': 2349, 'officer': 2350, 'la': 2351, 'took': 5671, 'doll': 5672, 'glen:': 5674, \"sayin'\": 2353, 'event': 5675, 'grubby': 5677, 'pit': 967, 'multiple': 5678, 'sigh': 2354, 'belches': 2355, 'koholic': 2356, 'eve': 5485, 'contest': 5679, 'kidney': 5810, 'joined': 2357, 'served': 2358, 'cocks': 2359, 'freshened': 2360, \"when's\": 5680, 'lie': 2736, 'nose': 5682, 'civil': 5683, 'ooo': 2361, 'conditioner': 2362, 'a-a-b-b-a': 5684, \"beer's\": 2363, 'attention': 5685, 'blocked': 5686, 'guard': 2364, 'carnival': 2365, 'chicken': 5687, 'forgets': 6029, 'art': 2366, 'dang': 6196, 'senators:': 2367, 'awwww': 2368, 'schorr': 5689, 'series': 5690, 'creates': 3271, \"hawkin'\": 5691, 'bear': 2369, 'system': 3306, 'ambrose': 5694, 'play': 5696, 'statistician': 2370, 'flush': 969, 'west': 5697, 'simple': 5698, \"crawlin'\": 2371, 'midnight': 2372, 'hillary': 2373, 'diamond': 5699, 'conspiracy': 385, 'mike_mills:': 971, 'turned': 2374, \"depressin'\": 5703, 'plum': 5704, 'reluctant': 5705, 'wire': 2376, 'better': 2377, 'same': 2378, 'punch': 2379, 'stunned': 2742, 'blubberino': 5706, 'creepy': 5707, 'scum': 2381, 'shaggy': 2382, 'decent': 2383, 'falcons': 2384, 'sponge': 5708, 'crowbar': 972, 'watt': 2386, 'stealings': 3839, 'meaningfully': 5710, 'other_book_club_member:': 5711, 'fulla': 5712, 'helping': 1544, 'script': 2387, 'hearse': 2388, 'vacations': 2389, 'house': 2390, 'fence': 5979, 'milk': 5713, 'iddilies': 5714, 'blew': 2392, 'nameless': 5715, 'kirk_voice_milhouse:': 2393, 'ya': 1196, 'musketeers': 5716, 'might': 3273, 'problem': 2394, 'inherent': 1937, 'moon-bounce': 6211, 'sing': 4412, 'crew': 5492, 'experienced': 5717, 'part': 2395, 'rev': 2396, 'eco-fraud': 2397, 'slyly': 2398, 'tickets': 5720, 'playhouse': 5721, 'notice': 6583, 'picture': 2399, 'weird': 2401, 'manchego': 5722, 'add': 2403, \"'cause\": 2404, 'color': 2405, 'rats': 2406, 'squashing': 5723, 'frontrunner': 5724, 'michael': 2407, \"they've\": 2408, \"ladies'\": 2409, 'heading': 2410, 'dimly': 5496, 'starlets': 2411, 'stu': 2412, 'correct': 6542, 'ignorance': 2413, 'pine': 2414, 'breathtaking': 5728, 'contract': 2415, 'wikipedia': 2416, 'firing': 6585, 'mountain': 5729, 'snap': 5498, 'washouts': 2417, 'gently': 5499, 'attractive_woman_#1:': 5536, 'campaign': 2418, 'shout': 2419, 'fills': 2683, 'snort': 2420, 'tap': 5731, 'vehicle': 394, 'pugilist': 2421, 'arm': 2422, 'foundation': 5732, 'cigarettes': 2423, \"now's\": 2424, 'glad': 6731, 'laney_fontaine:': 6372, 'arabs': 2117, 'freed': 2159, 'counterfeit': 2425, 'explain': 5733, 'aims': 5734, 'democracy': 2426, 'continuing': 2427, 'keep': 5737, 'conclusions': 2428, 'desperate': 5738, \"could've\": 3847, 'spite': 5739, 'poured': 2429, 'meal': 1811, 'beard': 2430, 'box': 2431, 'asked': 2433, 'fuhgetaboutit': 4957, '8': 3522, 'perplexed': 5741, 'funniest': 2434, 'suspicious': 2435, 'eyeballs': 3850, 'wang': 5744, 'position': 2436, 'vulnerable': 2437, 'reaches': 5746, 'nominated': 5747, 'swan': 5748, 'sap': 2438, 'the': 1553, 'fritz:': 5749, 'sandwich': 2162, 'slap': 2439, 'man_at_bar:': 2440, 'albeit': 5751, 'updated': 2441, 'sober': 2442, 'grimly': 5752, \"swishifyin'\": 5753, 'lucinda': 5754, 'portuguese': 2166, 'bottle': 5755, 'flat': 5252, 'darkness': 2443, 'businessman_#2:': 2444, 'hook': 2445, 'design': 2446, 'therapy': 2447, 'entering': 2449, 'different': 5759, 'live': 1556, 'backwards': 5760, 'dracula': 1558, 'billiard': 5761, 'oooh': 1516, 'matter': 2450, 'rainbows': 2451, 'complaining': 5765, 'mamma': 2452, \"nixon's\": 2453, 'wittgenstein': 5766, 'gal': 2454, 'disappear': 5767, 'infor': 2455, 'tying': 5768, 'switched': 5769, 'lime': 5770, 'neighborhood': 6045, 'duel': 5772, 'inside': 2456, 'cuddling': 2457, 'king': 5774, 'shot': 2458, 'lights': 404, 'call': 5776, 'marjorie': 5777, 'rafters': 5778, 'innocent': 2459, 'y': 2460, 'necklace': 2461, 'falsetto': 2462, 'towed': 5779, 'avenue': 2463, 'heave-ho': 5780, 'male_inspector:': 3286, 'jukebox': 2464, 'protesters': 2465, 'schizophrenia': 2466, \"smackin'\": 5781, \"dimwit's\": 2467, 'presto:': 6599, 'health_inspector:': 5782, 'aw': 6600, 'nonchalant': 2468, 'bannister': 2469, 'wenceslas': 5783, 'troy:': 2178, \"mecca's\": 2470, 'thoughtless': 2175, 'numeral': 5784, 'talked': 5785, 'craft': 5786, 'gear-head': 6623, 'gasoline': 2471, 'post-suicide': 2472, 'grace': 2473, 'plywood': 2474, 'playing': 2475, 'ohhhh': 5788, 'jewish': 1564, 'richard:': 5789, 'shores': 2477, 'spacey': 6604, 'knees': 2478, 'suit': 3859, 'examples': 5791, '||right_parentheses||': 2479, 'share': 2481, 'bet': 991, 'suspiciously': 2482, 'pal': 2483, 'hose': 2484, 'cola': 5792, 'harvey': 5793, 'legoland': 4972, 'purse': 3976, 'characteristic': 6292, 'yep': 6058, 'trick': 2485, 'missed': 2486, 'darjeeling': 5513, 'attraction': 6049, 'rent': 3863, 'screams': 5796, 'sperm': 5797, 'windex': 2487, 'choice:': 3746, 'skinheads': 5798, 'as': 2488, 'steampunk': 2489, 'pills': 2490, 'falling': 5800, 'thank': 5801, 'children': 5514, 'result': 2491, 'gotcha': 2492, 'tha': 5802, 'ziffcorp': 2493, 'golf': 5803, \"knockin'\": 5804, \"dad's\": 2494, 'winning': 5805, 'bed': 2495, 'drains': 5806, 'courage': 5807, 'tornado': 2496, 'champs': 5808, 'snapping': 2497, 'priority': 2498, 'away': 3551, 'dressing': 5809, 'pian-ee': 2499, 'curiosity': 5811, 'bras': 2500, 'cool': 5812, 'maiden': 3296, 'capitol': 2501, 'flower': 2502, 'intrigued': 2503, 'little_man:': 5517, 'incapable': 414, 'shutup': 5813, 'thousand': 2504, 'civilization': 5815, 'shooting': 6578, 'george': 2505, 'ocean': 2506, 'politicians': 416, 'mason': 2507, 'rug': 2508, 'abandon': 5818, 'butt': 2509, 'glen': 2510, 'emotional': 6054, 'freaky': 6614, 'lessons': 2511, 'tank': 2512, 'heard': 5820, 'supposed': 2514, 'seamstress': 5822, 'ninety-seven': 5823, 'nectar': 5824, 'shaken': 5825, 'gabriel': 5826, 'pushes': 2515, 'maher': 6681, 'dealer': 5827, 'planning': 5828, 'troy_mcclure:': 341, 'rhode': 5829, 'hand': 5830, \"where'd\": 5831, 'white': 2516, 'oof': 2517, 'splash': 2519, 'wish-meat': 5832, 'radiator': 1570, 'indecipherable': 5833, 'had': 5834, 'annus': 2520, \"linin'\": 5835, 'treats': 2521, 'employees': 5837, 'capitalists': 2524, 'wishful': 2523, 'bubbles-in-my-nose-y': 2525, 'tooth': 2526, 'ore': 6148, 'smiles': 2527, 'sweden': 1572, 'stacey': 2528, 'missing': 5839, 'disapproving': 5841, 'riding': 2530, 'stillwater:': 2531, 'shirt': 2532, 'swimmers': 2533, 'island': 2534, 'closing': 5520, 'blood-thirsty': 5842, 'junior': 5756, 'say': 2535, 'recorded': 2536, 'quitcher': 5843, 'abolish': 2537, 'peach': 2538, 'shyly': 2539, 'caveman': 2540, \"we'll\": 2541, 'ominous': 2542, 'flack': 5846, 'rocks': 2543, 'sickens': 5847, \"america's\": 5523, 'ned': 2544, 'considering': 2545, 'sixteen': 5848, 'ran': 2546, 'degradation': 4427, 'tang': 2548, 'fad': 5850, 'zero': 2549, \"team's\": 5851, 'cheery': 2550, 'farewell': 2551, 'sport': 2553, 'perón': 2554, 'slaps': 5855, 'tragedy': 2555, 'whispers': 2556, 'accelerating': 5856, 'huggenkiss': 5857, 'mister': 5858, 'karaoke_machine:': 2557, 're:': 2558, 'came': 5859, 'wounds': 2559, 'grammy': 2560, 'lighter': 2561, 'interested': 2563, 'orphan': 2564, 'root': 2565, 'harmony': 2566, 'delighted': 2567, 'steak': 5864, 'bubble': 5865, 'soaking': 5866, 'judge_snyder:': 2568, 'fonzie': 2569, 'players': 2270, 'cosmetics': 5867, \"he'd\": 5868, 'fuzzlepitch': 2570, 'y-you': 5869, 'meeting': 2571, 'happier': 5870, 'patented': 5871, 'horses': 2572, 'am': 2573, 'led': 1003, 'billy_the_kid:': 2574, 'spit-backs': 5874, 'hydrant': 2575, 'samples': 5876, 'assert': 5877, 'procedure': 5878, 'vodka': 2576, 'archaeologist': 5879, 'cash': 5880, 'fixed': 428, 'synthesize': 2577, 'manatee': 5881, 'eye': 1137, 'bachelor': 5795, 'wake': 2578, \"smokin'\": 2579, 'chicks': 2580, 'chipped': 2581, 'and/or': 5885, 'graveyard': 5886, 'betty:': 6626, 'seen': 5887, '_kissingher:': 5888, 'we-we-we': 5889, 'play/': 5891, 'lives': 5692, 'commit': 2582, 'addiction': 2584, 'barbed': 5893, 'offshoot': 1711, 'three-man': 2585, 'glummy': 5894, 'troll': 2586, \"ma'am\": 5895, 'j': 2587, 'omit': 2588, 'anthony_kiedis:': 4437, 'th': 5896, 'virile': 5937, 'cowardly': 6069, 'squeezed': 2590, 'beginning': 2591, 'chug-monkeys': 2592, 'obvious': 2594, 'asks': 437, 'loboto-moth': 2595, 'honor': 1009, 'smallest': 5899, 'forehead': 436, 'stonewall': 2597, '_timothy_lovejoy:': 5625, 'clandestine': 2598, 'brilliant': 2599, \"somethin':\": 5529, 'prince': 2601, 'pop': 5901, \"bartender's\": 2602, 'leg': 1010, 'men': 5903, 'rationalizing': 2603, 'rat-like': 6070, 'feelings': 2605, 'sprawl': 2606, 'alcoholic': 2607, 'radishes': 2608, 'birth': 1013, 'great': 5905, 'anyhoo': 2609, 'jacksons': 2610, 'hunter': 2611, 'hated': 2612, 'popped': 2613, 'perfume': 1015, 'punk': 5531, 'david': 2614, 'radical': 5907, 'woulda': 3879, 'blokes': 5908, 'resigned': 2615, 'backing': 5910, 'nigerian': 5911, 'feld': 2616, 'ling': 5912, 'respect': 5381, 'wacky': 2617, 'swig': 2619, 'righ': 5913, \"liftin'\": 2620, 'bitterly': 2777, 'phrase': 2621, 'car:': 5914, 'ring': 5915, 'reading': 2622, 'easy-going': 2623, 'alcoholism': 5917, \"stinkin'\": 2624, 'morning': 2625, 'slim': 2627, 'books': 2629, 'buddy': 2628, 'cheat': 5921, 'afraid': 6632, 'julep': 5922, 'tenor:': 5923, 'who': 2630, 'self-esteem': 2631, \"leavin'\": 2632, 'al_gore:': 2633, 'yell': 5927, 'brusque': 5928, 'un-sults': 5929, 'cruiser': 2634, 'fastest': 5931, 'pint': 1583, 'during': 2635, \"game's\": 6688, 'testing': 5932, 'marge': 2637, 'ninth': 5933, 'tense': 2638, 'wreck': 5934, 'sly': 5935, 'childless': 2639, 'injury': 2640, 'price': 2641, 'nobody': 5938, 'bums': 3882, 'complicated': 2643, 'inspection': 5940, 'jack_larson:': 5941, 'peter_buck:': 5942, 'muslim': 2644, 'its': 4890, 'owns': 2645, 'housewife': 2646, 'senators': 5943, 'links': 3884, 'hot-rod': 5944, 'morning-after': 2647, 'businessman_#1:': 5945, 'sat-is-fac-tion': 1588, 'middle': 5946, \"drexel's\": 5948, 'refund': 1478, 'finest': 2649, 'jane': 2651, 'korea': 5950, \"plaster's\": 2652, 'accident': 2653, 'taking': 2654, \"bart's\": 2881, 'package': 2655, 'everybody': 2656, 'speak': 2657, 'delightful': 5954, 'test': 5955, 'i/you': 6746, 'bar': 2658, 'finishing': 2659, 'sunday': 5956, 'cletus_spuckler:': 2660, 'alter': 5957, 'remote': 2661, 'lowers': 5959, 'dishrag': 2662, 'recreate': 6748, 'brewed': 5960, 'burning': 4445, 'eighty-one': 2663, 'chest': 5961, 'th-th-th-the': 477, 'garbage': 1023, 'assent': 5964, 'hateful': 2665, 'arts': 6080, 'rope': 5965, 'deep': 2666, 'upbeat': 2210, 'mock-up': 5966, 'damned': 5967, 'heh': 5968, 'ugliest': 5969, 'knuckles': 6012, 'crap': 2667, 'starla': 2668, 'pathetic': 5970, 'newspaper': 2670, \"dolph's_dad:\": 6637, 'cajun': 2671, 'princesses': 1595, 'speed': 2672, 'pleasure': 2673, 'runaway': 2674, 'thawing': 5971, 'suing': 5972, 'corporate': 5973, 'sense': 2213, 'face': 2675, 'shipment': 2676, 'grateful': 3887, 'castle': 1025, \"snappin'\": 6622, 'stagey': 6639, 'tongue': 2677, 'disturbing': 5977, 'reserved': 2680, 'jams': 5978, 'eat': 2681, 'edelbrock': 618, 'die-hard': 3889, 'fayed': 6082, 'more': 5544, 'weather': 2684, 'coming': 5980, 'undermine': 5981, 'history': 5982, 'storms': 2685, 'congratulations': 5984, \"department's\": 2686, 'elephants': 4574, 'breaking': 5985, 'celeste': 2687, 'settled': 5987, 'cookies': 2688, 'says': 5989, 'jail': 451, 'crisis': 1029, 'glyco-load': 2689, 'tie': 2690, 'american': 2691, 'ticks': 2692, 'spy': 3984, 'sneeze': 5991, 'inches': 5992, 'embarrassed': 2693, 'fatso': 2694, 'lobster-based': 2218, '_babcock:': 2695, 'julienne': 5993, 'brainiac': 2696, 'camera': 2697, 'dean': 2698, 'saget': 2699, 'utensils': 6642, \"mother's\": 2700, 'sixty-nine': 2701, 'data': 2702, 'hmm': 5996, 'meteor': 5546, 'tubman': 5997, 'reach': 2703, 'decide': 3891, 'upgrade': 5998, 'pigs': 5999, \"what's\": 2704, 'safety': 6645, \"cupid's\": 2706, 'flustered': 2707, 'tired': 3326, 'boxing': 6647, 'grrrreetings': 1619, 'proudly': 2708, 'may': 2796, 'comic': 2709, 'undated': 2711, 'ducked': 2712, 'quit': 2713, 'carll': 2714, 'lowering': 5331, 'snaps': 6004, 'unkempt': 2715, 'refill': 6007, 'pats': 2716, \"table's\": 2717, 'celebrate': 2718, 'ollie': 2719, 'powered': 6008, 'works': 4456, 'sees/': 2720, 'roll': 2721, 'patty': 4997, 'prizefighters': 6011, 'detective': 2722, 'babe': 2723, 'hats': 6013, 'courteous': 2724, 'los': 6015, 'spotting': 2725, 'ago': 2726, 'rascals': 6017, 'writers': 6019, \"what're\": 6020, 'charlie': 2727, 'pasta': 2728, 'jubilant': 6021, 'beautiful': 6014, 'easy': 2729, 'mommy': 2730, 'afternoon': 2731, 'faded': 2732, 'lot': 2222, 'homesick': 6023, 'charge': 6024, 'afterglow': 2734, 'fix': 6026, 'non-losers': 6027, 'fighting': 2735, 'griffith': 2737, 'dum-dum': 3896, 'chocolate': 2738, '_julius_hibbert:': 6508, 'depository': 2739, 'idiots': 6030, 'damn': 2740, 'throats': 2741, 'warned': 2743, 'poetics': 6031, 'inning': 2744, 'prime': 6032, 'sucking': 2745, 'ron': 2746, 'jernt': 5194, 'kay': 6034, 'burger': 2747, 'lance': 6035, 'sloe': 6036, 'bursts': 6037, 'brawled': 6038, 'doctor': 2748, 'signed': 6039, 'teddy': 2749, 'occurrence': 6040, 'country-fried': 2750, 'subject': 2751, 'bono:': 2752, 'baby': 6042, 'ignoring': 6043, 'vengeance': 2753, 'donut': 2754, 'clothespins:': 6044, 'ever': 6046, \"readin'\": 6047, 'boozebag': 2755, 'caricature': 2756, 'what-for': 2757, \"lookin'\": 3331, 'speaking': 6099, 'rain': 2758, 'jigger': 2759, 'christmas': 6486, 'pressure': 2760, \"cleanin'\": 2761, 'criminal': 2762, 'drift': 4461, 'hideous': 6194, 'ribbon': 1605, 'saturday': 2763, 'absorbent': 2764, 'presidential': 6050, 'scram': 460, 'figure': 6051, 'store-bought': 6052, 'sea': 6053, 'competitive': 2765, 'exclusive:': 2766, 'stooges': 2767, 'answering': 6055, 'grey': 1607, 'ehhhhhh': 2768, 'rainforest': 2769, 'sweetly': 6056, 'store': 2770, 'sharity': 6057, 'roy': 2771, 'cupid': 2772, 'thought_bubble_lenny:': 5552, 'infatuation': 6059, 'game': 2773, 'cars': 2774, 'reptile': 6060, 'illegal': 2775, 'triple-sec': 6061, 'trunk': 2776, 'project': 6062, \"larry's\": 6065, 'cockroaches': 2778, 'cheering': 6066, 'tony': 6067, 'prettiest': 6068, 'judges': 2779, 'drivers': 2780, 'just': 2781, 'christopher': 2783, 'cover': 6072, 'u': 6073, 'sexual': 4237, 'husband': 2784, 'single-mindedness': 4464, 'drove': 6075, 'buying': 6076, 'puzzled': 6077, 'toilet': 2785, 'boat': 2807, 'tow': 1042, \"takin'\": 2786, 'damage': 2787, 'anarchy': 6078, 'half-day': 2788, 'liver': 6079, 'blinds': 2789, 'fine': 2790, 'rub': 2791, 'scornfully': 2792, 'grabbing': 6081, 'padres': 2793, 'bolting': 6083, 'burg': 2794, \"jackpot's\": 2795, 'hooray': 6084, 'california': 6085, 'pep': 6086, 'further': 6087, \"pullin'\": 2797, 'awful': 2798, 'amiable': 3333, 'successful': 2799, 'jay': 6091, \"'evening\": 6092, 'likes': 6098, 'dough': 2800, 'lovely': 881, 'superior': 2801, 'challenge': 6097, 'eats': 2802, 'recall': 1136, 'thirty-thousand': 2803, 'germany': 2804, 'begins': 2805, 'compels': 287, 'hobo': 6100, 'pour': 2806, \"he's\": 6101, 'violin': 2808, 'worked': 6753, 'focus': 2809, 'gag': 2810, 'ragtime': 5875, 'venture': 5394, 'candidate': 6103, 'exit': 6104, 'someone': 466, 'doooown': 3824, 'michael_stipe:': 2812, 'mind-numbing': 2813, 'fishing': 6105, 'kid': 6106, 'shuts': 6107, 'terrific': 6090, 'faced': 2814, 'maude': 3782, 'case': 2815, 'encores': 2816, 'stagy': 619, 'i': 2818, 'large': 6109, 'deeply': 6659, 'unattended': 5566, 'snorts': 2819, 'heartily': 540, 'some': 2820, 'delivery_boy:': 6000, 'wooooo': 2821, 'darn': 6111, 'hang': 468, 'newsweek': 6112, 'brick': 6113, 'pissed': 2823, 'so-ng': 5568, 'hmf': 6661, 'bash': 2824, 'cheered': 6114, 'puzzle': 1048, 'methinks': 6115, 'gimme': 6116, \"let's\": 5576, 'repeated': 2235, \"hole'\": 2826, 'tiger': 6063, 'pajamas': 2827, 'dishonor': 6121, 'jasper_beardly:': 6122, 'sec_agent_#2:': 4471, 'supports': 1616, 'kids': 6125, 'attitude': 4434, 'coat': 6126, 'appreciated': 2828, 'gallon': 2829, 'homer': 2830, 'hanh': 2831, 'juke': 2832, 'sobriety': 6127, 'drinker': 6596, 'actress': 2833, 'rabbits': 5571, 'copy': 6129, 'finished': 6130, 'barney_gumble:': 6131, 'published': 2817, 'selection': 6663, 'blimp': 472, 'rich': 2834, 'phony': 6132, 'introduce': 3915, 'blurbs': 6108, 'code': 2835, 'commission': 4473, 'badly': 461, 'cold': 6137, 'alone': 2836, 'finding': 6138, 'rounds': 2604, 'ugliness': 6139, 'will': 2837, 'met': 6141, 'often': 3917, 'fake': 6143, 'paris': 2838, 'meatpies': 2839, 'praise': 5909, 'anguished': 6428, 'passports': 2240, 'went': 2840, 'yourself': 2841, 'nuclear': 6146, \"tinklin'\": 2842, 'hero': 2843, 'lush': 2844, 'savvy': 6150, 'unforgettable': 2845, 'warren': 2846, 'principles': 2847, 'braun:': 2848, 'ga': 6153, 'crowds': 6154, 'awfully': 6156, 'hilarious': 2849, 'yammering': 2850, 'murmurs': 2851, 'pity': 6160, 'temples': 2852, 'squadron': 2853, 'countryman': 2855, 'lotta': 2856, 'pilsner-pusher': 2857, 'baseball': 3919, 'cavern': 2858, 'clock': 6163, 'closes': 5014, 'fair': 2859, 'but': 1621, 'patting': 2860, 'aggravazes': 6110, 'bars': 6164, 'mid-seventies': 2243, 'poplar': 2861, 'viva': 6167, 'table': 6168, 'cents': 6170, 'sustain': 6171, 'world-class': 5019, 'shoe': 6173, 'robot': 2862, 'skeptical': 2863, 'organ': 2864, 'chase': 696, \"'\": 2865, 'website': 2867, 'fringe': 5578, 'mm-hmm': 2246, 'unjustly': 1161, 'lady-free': 1057, 'sweetheart': 2868, 'chum': 6178, 'excavating': 5502, 'dirty': 2869, 'fritz': 6179, 'radio': 6668, 'kisses': 6181, 'war': 2870, 'salt': 2822, 'closer': 2871, 'não': 6182, 'anti-intellectualism': 2872, 'corporation': 6183, 'scruffy_blogger:': 2873, \"men's\": 4479, 'whip': 2875, 'grim': 6001, 'realizing': 6185, \"someone's\": 6531, 'remembering': 6186, 'president': 6187, 'dig': 2876, 'ye': 6188, 'o': 6189, 'researching': 6190, 'regulations': 2877, 'stay': 6191, 'specialists': 6192, 'offensive': 2878, 'entrance': 6193, 'life-threatening': 2879, 'stay-puft': 2883, 'spits': 2882, 'gordon': 2884, 'gig': 6195, 'faith': 2885, 'videotaped': 6197, 'seas': 2887, 'lemonade': 2825, \"today's\": 6198, 'reentering': 2888, 'well': 6670, 'totalitarians': 6199, 'jam': 6200, 'honeys': 2889, 'wound': 2890, \"washin'\": 6201, 'foot': 2891, 'jumps': 2892, 'looked': 6202, 'booger': 2893, 'dutch': 2894, 'clears': 6343, '50%': 2895, 'gator': 485, 'lose': 743, 'yee-haw': 1627, 'connor': 6203, 'dice': 6204, 'voicemail': 6205, 'sauce': 3927, 'thirty-nine': 2896, 'double': 5883, 'sits': 6206, 'fact': 6207, 'urge': 2897, 'checking': 6209, 'proposition': 6117, \"neat's-foot\": 2898, 'face-macer': 2899, 'strap': 6210, 'cough': 6212, 'jumping': 2901, 'knock-up': 6214, 'killarney': 6669, 'peanut': 2902, 'indeedy': 2903, 'dinner': 6215, 'batmobile': 2904, 'fortensky': 2905, 'wha': 2906, 'pictured': 6217, 'extremely': 2251, 'kahlua': 1465, 'tapered': 2907, 'catch': 2908, 'defeated': 2909, 'kako:': 6220, 'society': 2910, 'bulletin': 6673, 'boxing_announcer:': 2911, \"haven't\": 6222, 'donation': 2912, 'center': 6118, 'contact': 6223, 'meant': 6119, 'given': 6224, 'steaming': 6225, 'cuckoo': 4485, 'grinch': 1630, 'deal': 2913, \"tonight's\": 6226, 'contented': 6227, \"brockman's\": 2915, 'chug-a-lug': 6610, 'really': 2916, 'open': 6228, 'linda_ronstadt:': 2917, 'serve': 6123, \"nothin'\": 6230, 'coaster': 6231, 'parking': 6232, 'rules': 6233, 'dateline': 2918, 'proves': 2919, 'appalled': 6675, 'dangerous': 6235, 'fault': 6124, 'sleigh-horses': 2920, 'unfortunately': 6237, 'knowingly': 2921, 'adult_bart:': 2922, 'peaked': 2923, 'set': 2924, \"summer's\": 2925, 'toledo': 6240, 'cappuccino': 6241, 'whoo': 2926, 'sincere': 6242, 'flown': 6243, 'strategy': 2927, 'jimmy': 5585, 'slaves': 2928, 'swine': 6244, 'see': 2929, 'believe': 6247, 'exquisite': 1634, 'rump': 2930, 'conversation': 6249, 'para': 6250, 'divine': 6251, 'boneheaded': 5983, 'stan': 2931, 'ungrateful': 6335, 'co-sign': 1113, \"ol'\": 6672, 'sports_announcer:': 6252, 'owned': 492, 'can': 6253, 'noggin': 2932, 'carey': 6254, 'helen': 2933, 'process': 2254, 'worried': 2934, 'daughter': 6255, 'otherwise': 2935, 'theater': 2936, \"'im\": 2937, 'solely': 2938, 'tire': 6256, 'honored': 2939, 'writer:': 2940, 'groveling': 6258, 'racially-diverse': 495, 'located': 2941, 'stirring': 6259, 'environment': 2942, 'professor_jonathan_frink:': 2943, \"kids'\": 6260, 'stage': 6261, 'nicer': 1639, 'lushmore': 6262, 'ali': 2944, 'how': 2945, 'brace': 6263, 'c': 2946, 'hour': 6264, 'shape': 5020, 'lord': 6266, 'hours': 6267, 'wash': 6268, 'stripe': 6270, 'snail': 2948, 'babar': 6271, 'grandiose': 2949, 'tick': 2950, 'kill': 2951, 'breakfast': 2952, 'called': 6274, 'prefer': 2953, 'weirder': 2954, 'eighty-seven': 2955, 'multi-national': 488, 'naked': 6277, 'ebullient': 6278, 'crunch': 2957, 'whirlybird': 6280, 'hm': 4493, 'louisiana': 6281, 'jay_leno:': 1561, 'hoagie': 2958, 'mirthless': 2959, 'gulps': 2960, \"there's\": 2961, 'cheated': 6128, \"buyin'\": 2962, 'choked-up': 2963, '||quotation_mark||': 3754, 'briefly': 6687, 'divorced': 2964, 'pen': 6282, 'windelle': 2965, 'sadder': 2966, 'operation': 1643, 'poetry': 2967, 'thorn': 6283, 'pink': 2968, 'sneering': 2970, 'snackie': 5573, 'nickel': 2971, 'strictly': 2972, 'settles': 6284, 'broken:': 2973, \"she'd\": 1644, 'temporarily': 6028, 'hustle': 2974, 'four': 1072, 'east': 6287, 'informant': 5595, 'neighbor': 6288, \"don'tcha\": 1482, 'jeez': 6289, 'lazy': 5597, 'nation': 2975, 'phase': 2976, 'horror': 2977, 'subscriptions': 2978, 'hoping': 2979, 'pronto': 2980, 'heh-heh': 2981, 'cell-ee': 2982, 'touchdown': 2983, 'lisa_simpson:': 2984, 'maya': 2985, 'jerking': 6690, 'pointed': 5598, 'boisterous': 6293, 'pas': 2987, 'sight-unseen': 2988, 'aisle': 6296, 'getup': 2989, 'goldarnit': 2990, 'brunch': 2991, 'arms': 6297, 'specializes': 2992, 'owner': 4753, 'flash': 2994, 'singers:': 2995, 'intelligent': 6299, 'ahh': 2996, 'hi': 6300, 'pharmaceutical': 6694, 'clone': 2997, 'obsessive-compulsive': 2998, 'faces': 2999, 'uhhhh': 3000, 'beers': 6302, 'between': 3002, 'thomas': 6696, 'tsking': 3003, 'already': 3004, 'swishkabobs': 3005, 'ads': 6304, 'youse': 3006, 'chumbawamba': 3007, 'fistiana': 3008, 'photographer': 5534, 'tv_husband:': 4499, 'cooler': 3009, 'seductive': 6307, 'depressant': 5126, 'effigy': 6308, 'anyhow': 5297, 'nfl_narrator:': 6309, 'chair': 1648, 'arm-pittish': 4644, 'permanent': 3010, 'bust': 3011, 'compadre': 6311, 'renovations': 6312, 'able': 6313, 'unbelievably': 6314, 'thanking': 3368, 'abe': 3013, 'hank_williams_jr': 3015, 'measurements': 3014, 'frozen': 6316, 'mix': 3016, 'shtick': 5113, 'microbrew': 3017, 'hawaii': 1649, 'loaded': 3945, 'pushing': 3018, 'lookalike': 3019, 'shaved': 6317, 'moonlight': 6318, 'present': 6134, 'promotion': 6064, 'sensible': 3020, 'u2:': 6321, 'free': 3021, 'amused': 6323, 'gay': 6324, 'from': 3023, 'information': 6135, 'higher': 6325, 'trapping': 6326, 'giggle': 3025, 'stewart': 6136, 'uniforms': 3027, 'diving': 3028, 'unfresh': 3029, 'expert': 3030, 'affection': 3032, 'lewis': 3033, 'aer': 3034, \"nick's\": 6327, \"somethin'\": 6328, 'betcha': 3035, 'fbi_agent:': 6329, 'limericks': 6330, 'delicately': 5758, 'buffet': 6331, 'takes': 6332, 'save': 6703, 'laid': 6333, 'awww': 3036, 'extract': 3037, 'propose': 6336, \"what'sa\": 3038, 'fantastic': 3039, 'and-and': 3040, 'spouses': 6573, \"hell's\": 2432, 'ancestors': 6338, 'nasa': 3042, 'tobacky': 4504, 'like': 3044, 'reasons': 1081, 'suppose': 5037, 'turning': 3045, 'pontiff': 4506, 'spent': 3046, 'warm_female_voice:': 6340, 'audience': 6341, 'hat': 6342, \"pope's\": 3047, 'thinks': 1881, 'expecting': 6344, 'hear': 155, 'dryer': 6346, 'philosophic': 6347, 'geyser': 3048, \"feelin's\": 3049, 'fall': 3050, 'railroad': 6349, 'aerospace': 2733, 'nick': 3051, \"bashir's\": 3053, 'officials': 2678, 'appointment': 3054, 'eggs': 6142, 'dame': 3055, 'suck': 6350, 'tomorrow': 6351, 'non-american': 3056, 'needed': 3057, 'thought_bubble_homer:': 3058, 'poison': 515, 'boring': 3060, 'are': 6353, 'toasting': 3061, 'spelling': 6355, 'hourly': 3062, 'boozy': 6356, 'mozzarella': 6357, 'lottery': 6358, 'although': 3063, 'true': 6359, 'amnesia': 3064, 'sponsor': 3065, 'hunting': 6360, 'walking': 467, 'especially': 6361, 'puffy': 6362, 'bald': 1006, 'learned': 6363, 'sing-song': 1084, 'gestated': 6364, 'contemplated': 3067, 'rap': 6365, 'feedbag': 6144, 'gold': 3068, 'shelbyville': 3069, 'eww': 6367, 'quality': 6368, \"burnin'\": 6369, 'poin-dexterous': 3070, 'crayola': 3071, 'unison': 3072, 'frankenstein': 3073, 'salvation': 3075, 'son': 4512, 'desperately': 3076, \"bettin'\": 6474, 'device': 3077, 'tummies': 6590, 'oblongata': 6371, 'famous': 6145, 'chinese_restaurateur:': 2385, 'lachrymose': 3078, 'totally': 6373, 'muhammad': 6374, 'well-wisher': 6375, 'beauty': 852, 'sending': 3079, 'woman': 3080, 'service': 6147, 'diminish': 3081, 'lift': 3082, 'nature': 6378, 'noble': 3083, 'harv:': 2513, 'flowers': 5615, 'lloyd:': 3084, \"tatum'll\": 3085, 'term': 6380, 'blank': 3086, 'per': 6382, 'priceless': 3954, 'clenched': 4513, 'slow': 1089, 'human': 3087, 'swamp': 3088, 'grunts': 3089, 'attracted': 3090, 'curds': 6388, \"blowin'\": 1661, 'caholic': 4696, 'blow': 6389, \"ain't\": 3091, 'wazoo': 2352, 'fat_tony:': 520, 'urinal': 5619, \"'s\": 6390, 'chips': 3093, 'scent': 6391, 'sucks': 6392, 'drown': 3957, 'furniture': 3094, 'wh': 5951, 'sad': 3096, 'generally': 3097, 'mt': 6394, 'million': 6395, 'sagely': 3098, 'cobra': 5994, 'ass': 3099, 'yap': 6397, 'lenny_leonard:': 3100, 'mean': 3101, 'government': 6710, 'flashing': 6322, 'quotes': 6398, 'glove': 3384, 'karaoke': 6400, 'pocket': 6401, 'handler': 6151, 'lifts': 6006, 'espn': 6403, 'knowing': 6404, 'goods': 6405, 'longest': 6406, 'amid': 6152, 'represent': 6712, 'admirer': 3102, 'collette:': 3103, 'such': 3104, 'coincidentally': 3105, 'internet': 3106, 'jebediah': 1666, 'lied': 3107, 'fast-food': 6409, 'bloodball': 6410, 'needy': 6411, 'nickels': 3108, \"waitin'\": 6157, 'ails': 1668, 'closed': 6412, 'slip': 6413, 'heart': 6415, 'shoulder': 3109, \"son's\": 2282, 'brockman': 3110, 'miss_lois_pennycandy:': 3111, 'er': 5882, 'folks': 3112, 'troy': 3113, 'geysir': 3114, 'flames': 3786, 'gift:': 6161, 'deals': 6418, 'enough': 3117, 'yoo': 3118, 'intriguing': 3119, 'celebration': 3120, 'jer': 3389, 'frink-y': 3121, 'joking': 3122, 'bathing': 1655, 'arrived': 547, \"hangin'\": 3123, 'inserted': 2854, 'coy': 3124, 'weep': 3125, 'boo': 3126, 'slight': 6420, 'puke-pail': 3127, 'which': 6074, 'delays': 3961, 'baloney': 3128, 'incognito': 6421, 'defiantly': 3129, 'handling': 3821, 'wordloaf': 5491, 'kim_basinger:': 6422, 'satisfied': 6423, \"s'cuse\": 3130, 'smooth': 3131, 'paints': 6427, 'in': 3132, 'barber': 3134, '||dash||': 6429, 'book': 528, \"lefty's\": 3135, 'the_rich_texan:': 3136, 'bike': 6432, 'day': 3137, \"o'reilly\": 810, 'wore': 1520, 'occasional': 6433, 'inserts': 3138, 'moe_recording:': 6434, 'thesaurus': 6431, 'wedding': 3139, 'my': 4523, 'mind': 5653, 'mouths': 6435, 'boyfriend': 5091, 'clear': 6436, 'alls': 6213, 'short': 4923, 'mortgage': 6438, \"fendin'\": 6439, 'ape-like': 5494, 'bob': 6440, 'grub': 3142, 'sets': 3749, 'romance': 6441, 'shaky': 3966, 'access': 3388, 'discriminate': 3144, 'church': 3145, 'hop': 6442, 'swatch': 3146, 'reached': 6443, 'stinks': 3147, 'nigel_bakerbutcher:': 6445, 'twice': 6446, \"s'okay\": 3148, 'bum:': 6447, 'disgracefully': 2290, 'cases': 6448, 'fry': 3149, 'diet': 3968, 'tonic': 3150, 'explaining': 6450, 'pleased': 916, 'oblivious': 3151, 'dateline:': 3152, 'mrs': 3153, 'online': 501, 'senator': 3154, 'goal': 3969, 'heather': 3155, 'exhibit': 1676, 'misfire': 5503, 'label': 6165, 'backgammon': 6455, 'matter-of-fact': 3156, 'cauliflower': 3157, 'relative': 3158, 'amends': 3159, \"wonderin'\": 6456, 'vulgar': 6457, 'directions': 6166, 'charming': 6459, 'yesterday': 6352, 'sighs': 6460, \"we're\": 6461, 'confession': 6120, 'kwik-e-mart': 3160, 'marge_simpson:': 6462, 'dallas': 3161, 'stole': 3162, 'motel': 3163, 'lard': 6464, 'dr': 6095, 'roz:': 6172, 'wally:': 3164, 'lighten': 6473, 'female_inspector:': 3165, 'pile': 3166, 'tapestry': 6465, 'park': 6466, 'muscle': 3167, 'wait': 3168, 'century': 3169, 'eighty-five': 3171, 'cozies': 6467, 'jerk': 6468, 'modestly': 3973, 'tablecloth': 6469, 'neighbors': 3172, 'hootie': 6470, 'lainie:': 6471, 'influence': 1288, 'incriminating': 6184, 'music': 6472, 'snake': 6725, 'mcstagger': 3173, 'maya:': 1681, 'united': 6475, 'wraps': 3174, 'biggest': 3175, 'follow': 6477, \"lovers'\": 3176, 'klown': 3177, \"squeezin'\": 6480, 'parrot': 3178, 'beep': 3179, 'soothing': 1099, 'straighten': 1277, 'because': 6481, 'voice:': 1101, 'wad': 3180, 'oooo': 5257, 'lighting': 3182, 'asking': 3183, 'patty_bouvier:': 5064, 'ratio': 3184, 'stomach': 215, 'ninety-nine': 3185, 'homunculus': 3186, 'choose': 6176, 'bragging': 6488, 'knowledge': 6728, 'crestfallen': 6169, 'then:': 3187, 'those': 2866, 'anymore': 3188, 'grandé': 3189, 'puts': 6491, 'department': 3190, 'half': 6492, 'payments': 6493, 'rockers': 6177, 'combines': 3191, 'nightmares': 3192, 'noose': 3193, 'born': 3194, 'trade': 3197, 'darkest': 3196, 'metal': 3198, 'crowd:': 5632, 'head': 6496, 'alfred': 6497, 'anonymous': 3200, 'housing': 2300, 'scrutinizing': 3201, 'letter': 3202, 'prep': 4151, 'stretches': 3203, 'please/': 3204, 'isotopes': 3205, 'grab': 3206, \"'til\": 3681, '50-60': 534, 'still': 6499, 'locklear': 3207, 'acting': 3977, \"springfield's\": 4737, 'janette': 6500, 'costume': 6501, 'mac-who': 5016, 'club': 3208, \"drivin'\": 3209, 'fat_in_the_hat:': 6425, 'rods': 6502, 'sports': 6503, 'future': 6504, 'shotgun': 6180, 'judgments': 3212, 'creature': 3213, 'fatty': 3214, 'easter': 6506, 'beer': 6507, 'gargoyle': 3771, 'elder': 3215, 'mudflap': 3216, 'grandmother': 3981, 'dint': 3217, 'clubs': 3404, 'arrest': 217, 'build': 3218, 'idiot': 4534, 'ihop': 6337, 'persia': 6510, 'drollery': 6511, 'aziz': 3219, 'trusted': 3221, 'running': 6512, 'grin': 6513, 'habitrail': 3222, 'elocution': 3223, 'white_rabbit:': 6515, 'boxer': 3224, 'elaborate': 3225, 'fridge': 3226, 'grabs': 3228, 'ho-la': 1111, 'error': 3229, 'supermarket': 5070, 'squeals': 5736, 'chug': 3230, 'file': 3231, 'hmmm': 6485, 'covers': 6519, 'super-nice': 6735, 'alfalfa': 6520, \"mtv's\": 3232, 'weary': 3564, 'montrer': 3233, 'ugly': 6303, 'connection': 4538, 'carve': 6523, 'clothespins': 6524, 'puke': 6525, 'homer_simpson:': 3234, 'pumping': 6736, 'keeps': 3235, 'completely': 3866, 'shall': 3236, 'binoculars': 3237, 'fraud': 6527, 'naegle': 6528, \"o'problem\": 6529, 'kings': 156, 'ne': 2874, 'twenty-six': 6739, 'drunk': 6533, 'jeers': 4164, 'earrings': 4540, 'activity': 3238, 'semi-imported': 3239, 'insurance': 6534, 'packets': 3240, 'baritone': 3241, 'feisty': 6535, 'france': 3242, \"where's\": 3243, 'me': 1115, 'rasputin': 6741, 'smile:': 6366, 'awesome': 6536, 'mayor_joe_quimby:': 1692, \"what'd\": 1166, 'now': 6408, 'awkward': 3244, 'sorry': 4229, 'bathroom': 5640, 'pillows': 3245, '70': 3246, 'tactful': 3247, 'choice': 6315, 'exasperated': 5072, 'problemo': 6540, 'rafter': 6541, 'horrors': 3248, 'cummerbund': 4545, 'issuing': 3250, 'coach:': 6544, 'pronounce': 2310, 'hits': 6545, 'bring': 6546, 'please': 3251, 'mild': 6547, 'today/': 3252, 'reporter': 3253, 'bush': 6548, 'shack': 6549, 'sympathizer': 6550, 'seven': 6551, 'teenage_bart:': 3254, 'confidence': 3255, 'gives': 6555, 'bottom': 1464, 'industry': 2256, 'hanging': 3256, 'squabbled': 5187, 'cheerleaders:': 6556, 'mother': 3257, 'umm': 6558, 'slab': 5074, 'shard': 3258, 'owe': 548, 'kicked': 6559, 'wings': 1694, 'dollars': 6560, 'thunder': 3259, 'bastard': 6562, 'jobs': 6563, \"'em\": 3260, 'pipe': 3261, 'fan': 3262, 'lager': 3263, 'beach': 1198, 'overhearing': 6566, 'column': 3264, 'apartment': 6743, 'dna': 6285, 'assumed': 2316, 'lou': 4098, 'magazine': 3265, 'burt': 551, 'wing': 6571, 'uh-oh': 6572, 'confidentially': 3266, 'churchy': 3267, '/mr': 3268, 'washer': 6577, 'unlucky': 6579, 'remembers': 6580, 'discussing': 3269, 'wealthy': 3270, 'mexican': 3272, 'sight': 2319, 'quietly': 2880, 'victim': 6581, 'forgotten': 6745, 'extra': 6724, 'quick-like': 3274, 'mulder': 3275, 'agent_johnson:': 1698, 'scrutinizes': 6582, 'resolution': 3990, 'belch': 6584, 'north': 3276, 'supermodel': 3277, 'teeth': 4555, 'happily:': 3278, 'woodchucks': 6586, 'having': 6587, 'brassiest': 3279, 'thirteen': 6588, 'selling': 6589, 'pained': 3280, 'bridges': 3282, '6': 6591, 'invited': 6592, 'tradition': 2886, 'name:': 3283, 'bigger': 6593, 'stand': 3284, 'in-in-in': 6594, \"tony's\": 6595, 'haiti': 1708, 'beeps': 5976, 'agents': 6597, 'scream': 3285, 'shag': 6598, 'slit': 3287, 'aging': 3288, 'wondered': 3289, 'few': 6602, 'goo': 6603, 'beast': 3290, 'pain': 3291, 'indicates': 3292, \"can't\": 6605, 'barflies:': 6606, 'installed': 3293, 'fighter': 3294, 'grand': 6607, 'named': 6002, 'sidelines': 3597, 'regulars': 6608, 'carpet': 1162, 'yawns': 3297, 'room': 6611, \"cheerin'\": 3301, 'lorre': 3298, 'were': 3299, 'gil_gunderson:': 3300, 'jay:': 6612, 'pleasant': 6613, 'fired': 3302, 'liar': 6615, 'moxie': 6616, 'picked': 3303, 'michelin': 6618, \"'n'\": 606, 'booth': 3304, 'reunion': 6619, 'writing': 6620, 'sweetie': 6621, 'gee': 3305, 'ha-ha': 4557, 'grants': 6624, 'teenage_homer:': 4369, 'photos': 3307, 'spine': 3308, 'aidens': 4331, 'remorseful': 3309, 'tv_announcer:': 3310, 'appear': 3311, 'john': 6576, 'killed': 6627, 'miles': 6628, 'rubs': 6629, 'bugs': 3312, 'sidekick': 3313, 'cockroach': 6630, 'yard': 3314, 'bret:': 6631, 'restroom': 3997, 'e-z': 6633, 'it': 5872, 'against': 3315, \"watchin'\": 6634, 'dark': 6635, 'sealed': 3316, 'brother': 3318, 'champ': 3423, 'singing': 6636, 'said': 3319, 'normal': 3320, 'lily-pond': 6638, 'jamaican': 3321, 'stripes': 1994, 'hoo': 3322, 'louie:': 3323, 'orders': 6640, 'foam': 3324, 'half-back': 6641, 'oil': 3325, 'nitwit': 6643, 'sudoku': 6644, 'moonshine': 3327, 'cooking': 6646, 'sugar': 3328, 'koi': 3329, 'annie': 4901, 'get': 5648, 'glamour': 6648, 'movie': 3617, 'fica': 6755, 'sleep': 6649, 'ones': 561, 'aerosmith': 6650, 'woe:': 6651, 'vampire': 6652, 'peanuts': 6653, 'cowboy': 3330, 'cans': 6692, 'golden': 6654, 'duffed': 3332, 'irrelevant': 5649, 'hemoglobin': 3334, 'agent_miller:': 3335, 'humanity': 6655, 'move': 4541, 'slot': 6656, 'dignified': 3336, 'stayed': 3337, 'carolina': 3338, 'harv': 6657, 'secrets': 6658, 'try': 4562, \"can't-believe-how-bald-he-is\": 6660, 'lenses': 1128, 'memories': 3339, 'transmission': 3340, 'canoodling': 3428, 'leonard': 3341, 'marvin': 6662, \"liberty's\": 6377, 'pleading': 6664, 'domed': 6665, 'insulted': 6666, 'plus': 3342, 'bathtub': 3343, 'roof': 3344, 'sacrifice': 6758, 'runt': 4316, 'dollface': 3345, 'letters': 3346, 'though': 6667, 'occasion': 3347, 'aggie': 3348, 'strangles': 3133, 'gator:': 3349, 'certified': 6539, 'walther_hotenhoffer:': 3350, 'heroism': 3351, 'musical': 3352, 'mayan': 3353, 'spamming': 3354, 'miserable': 1709, 'enjoyed': 3355, 'walther': 6671, 'tracks': 6208, 'ruby-studded': 3356, 'malted': 564, 'generous': 3357, 'gloop': 3358, 'ho-ly': 6674, 'ralph': 1322, 'felony': 6676, 'aristotle:': 6677, 'father': 6678, 'row': 4224, 'encouraging': 6680, 'badge': 3359, 'annoyed': 4005, 'lips': 3360, 'courthouse': 3361, 'aside': 3362, \"g'night\": 3363, 'uses': 6682, 'them': 6298, 'lately': 6683, 'director': 6684, 'wiggle-frowns': 5990, 'hibachi': 3364, 'lindsay_naegle:': 6685, 'foil': 6686, 'country': 5821, 'dreamily': 5213, 'sees': 3365, 'causes': 6689, 'elves:': 6691, 'course': 3366, 'license': 1712, 'sledge-hammer': 6693, 'pope': 4971, 'right-handed': 6695, 'windowshade': 6698, 'bachelorette': 3367, 'involved': 2900, 'libraries': 6699, 'bake': 5092, 'idealistic': 1012, 'grease': 3370, 'teach': 6700, 'rash': 2074, 'book_club_member:': 6701, 'listen': 6702, 'talkers': 3371, 'safely': 3372, 'drunks': 6704, 'tigers': 6705, 'astronaut': 5083, '3rd_voice:': 3373, 'video': 1716, 'killing': 3374, 'thinking': 3375, 'army': 3376, 'then': 3377, 'drawer': 5919, 'passed': 3378, 'brandy': 3379, 'anyone': 1718, 'sugar-free': 3380, 'donated': 3381, 'unfair': 6708, 'merchants': 6709, 'borrow': 3382, 'dea-d-d-dead': 3383, 'sagacity': 3386, 'cheer': 3385, 'hey': 6711, 'apology': 1723, 'johnny_carson:': 3387, 'fox_mulder:': 6766, 'dime': 4572, 'meals': 6713, 'hooch': 3391, 'bless': 3390, 'fevered': 1138, 'plan': 6714, 'ballclub': 6715, 'fires': 6716, 'dumpster': 6216, 'unsanitary': 6717, 'voyager': 3392, 'chili': 6718, 'cream': 6719, 'soul': 6720, 'treasure': 3393, 'eaten': 5139, 'latin': 6721, 'kidneys': 6722, 'salvador': 3394, 'soir': 3395, 'diddilies': 1210, 'shopping': 5090, 'door': 6723, 'dexterous': 6219, 'detecting': 3396, 'knock': 3397, 'marched': 3398, 'spot': 3399, 'midge': 6218, 'savings': 6727, 'comfortable': 3400, \"lady's\": 3401, 'stocking': 3402, \"kearney's_dad:\": 3403, 'rapidly': 5773, 'alphabet': 6729, 'tommy': 6730, 'reopen': 1530, 'business': 3405, 'windshield': 6733, \"usin'\": 6734, 'intervention': 1143, 'at': 1724, 'quick': 3406, 'bonding': 3407, 'um': 6737, 'boxer:': 3408, 'allowance': 3409, 'decency': 3410, 'managed': 4535, 'daddy': 6740, 'truth': 3411, 'perfect': 3412, 'enjoy': 6742, \"choosin'\": 2144, \"money's\": 6221, 'chauffeur:': 3413, 'distributor': 3414, 'gone': 3415, 'carlotta:': 3416, \"how'd\": 5660, 'fools': 6744, 'serum': 5661, 'student': 3417, 'einstein': 6747, 'jackpot-thief': 6776, 'frat': 3418, 'so': 1726, 'wally': 4014, 'actors': 3419, 'gregor': 6774, 'hardy': 3420, 'apu': 6749, 'trashed': 6750, 'rector': 3421, 'scotch': 3422, \"'cept\": 6751, 'guts': 6752, 'appendectomy': 3424, 'ping-pong': 6617, 'chill': 1146, 'guns': 3704, 'yak': 3425, 'chic': 3426, 'blooded': 6754, 'neighboreeno': 3427, 'hail': 871, 'chinese': 4581, 'intoxicants': 2782, 'powerful': 1727, 'lenford': 4821, 'crony': 6756, 'does': 6757, 'young': 3429, 'doubt': 6759, 'cesss': 6760, 'declan_desmond:': 3430, 'twelve': 6761, 'approval': 3431, 'a-b-': 3432, 'diablo': 3433, 'p-k': 6762, 'due': 3434, 'sips': 6763, '||question_mark||': 5172, 'apu_nahasapeemapetilon:': 6765, 'moolah-stealing': 2344, 'attractive_woman_#2:': 3435, 'reporter:': 1729, 'ab': 3436, 'saying': 3437, 'wildest': 6767, 'mechanical': 6778, 'penmanship': 6769, 'sangre': 3438, 'compressions': 3439, 'november': 6770, 'skirt': 6771, 'self-centered': 3440, 'barkeeps': 3441, \"spyin'\": 2914, 'tow-talitarian': 3442, 'romantic': 3443, 'pledge': 6777, 'mona_simpson:': 3444, 'bits': 3445}\n"
     ]
    }
   ],
   "source": [
    "\"\"\"\n",
    "DON'T MODIFY ANYTHING IN THIS CELL\n",
    "\"\"\"\n",
    "# Preprocess Training, Validation, and Testing Data\n",
    "helper.preprocess_and_save_data(data_dir, token_lookup, create_lookup_tables)"
   ]
  },
  {
   "cell_type": "markdown",
   "metadata": {
    "deletable": true,
    "editable": true
   },
   "source": [
    "# Check Point\n",
    "This is your first checkpoint. If you ever decide to come back to this notebook or have to restart the notebook, you can start from here. The preprocessed data has been saved to disk."
   ]
  },
  {
   "cell_type": "code",
   "execution_count": 140,
   "metadata": {
    "collapsed": false,
    "deletable": true,
    "editable": true
   },
   "outputs": [],
   "source": [
    "\"\"\"\n",
    "DON'T MODIFY ANYTHING IN THIS CELL\n",
    "\"\"\"\n",
    "import helper\n",
    "import numpy as np\n",
    "import problem_unittests as tests\n",
    "\n",
    "int_text, vocab_to_int, int_to_vocab, token_dict = helper.load_preprocess()"
   ]
  },
  {
   "cell_type": "markdown",
   "metadata": {
    "deletable": true,
    "editable": true
   },
   "source": [
    "## Build the Neural Network\n",
    "You'll build the components necessary to build a RNN by implementing the following functions below:\n",
    "- get_inputs\n",
    "- get_init_cell\n",
    "- get_embed\n",
    "- build_rnn\n",
    "- build_nn\n",
    "- get_batches\n",
    "\n",
    "### Check the Version of TensorFlow and Access to GPU"
   ]
  },
  {
   "cell_type": "code",
   "execution_count": 141,
   "metadata": {
    "collapsed": false,
    "deletable": true,
    "editable": true
   },
   "outputs": [
    {
     "name": "stdout",
     "output_type": "stream",
     "text": [
      "TensorFlow Version: 1.0.0\n",
      "Default GPU Device: /gpu:0\n"
     ]
    }
   ],
   "source": [
    "\"\"\"\n",
    "DON'T MODIFY ANYTHING IN THIS CELL\n",
    "\"\"\"\n",
    "from distutils.version import LooseVersion\n",
    "import warnings\n",
    "import tensorflow as tf\n",
    "\n",
    "# Check TensorFlow Version\n",
    "assert LooseVersion(tf.__version__) >= LooseVersion('1.0'), 'Please use TensorFlow version 1.0 or newer'\n",
    "print('TensorFlow Version: {}'.format(tf.__version__))\n",
    "\n",
    "# Check for a GPU\n",
    "if not tf.test.gpu_device_name():\n",
    "    warnings.warn('No GPU found. Please use a GPU to train your neural network.')\n",
    "else:\n",
    "    print('Default GPU Device: {}'.format(tf.test.gpu_device_name()))"
   ]
  },
  {
   "cell_type": "markdown",
   "metadata": {
    "deletable": true,
    "editable": true
   },
   "source": [
    "### Input\n",
    "Implement the `get_inputs()` function to create TF Placeholders for the Neural Network.  It should create the following placeholders:\n",
    "- Input text placeholder named \"input\" using the [TF Placeholder](https://www.tensorflow.org/api_docs/python/tf/placeholder) `name` parameter.\n",
    "- Targets placeholder\n",
    "- Learning Rate placeholder\n",
    "\n",
    "Return the placeholders in the following tuple `(Input, Targets, LearningRate)`"
   ]
  },
  {
   "cell_type": "code",
   "execution_count": 142,
   "metadata": {
    "collapsed": false,
    "deletable": true,
    "editable": true
   },
   "outputs": [
    {
     "name": "stdout",
     "output_type": "stream",
     "text": [
      "Tests Passed\n"
     ]
    }
   ],
   "source": [
    "def get_inputs():\n",
    "    \"\"\"\n",
    "    Create TF Placeholders for input, targets, and learning rate.\n",
    "    :return: Tuple (input, targets, learning rate)\n",
    "    \"\"\"\n",
    "    \n",
    "    inputs = tf.placeholder(tf.int32, [None, None], name = 'input')\n",
    "    targets = tf.placeholder(tf.int32, [None, None], name = 'targets')\n",
    "    learning_rate = tf.placeholder(tf.float32, None, 'learning_rate')\n",
    "    \n",
    "    return inputs, targets, learning_rate\n",
    "\n",
    "\n",
    "\"\"\"\n",
    "DON'T MODIFY ANYTHING IN THIS CELL THAT IS BELOW THIS LINE\n",
    "\"\"\"\n",
    "tests.test_get_inputs(get_inputs)"
   ]
  },
  {
   "cell_type": "markdown",
   "metadata": {
    "deletable": true,
    "editable": true
   },
   "source": [
    "### Build RNN Cell and Initialize\n",
    "Stack one or more [`BasicLSTMCells`](https://www.tensorflow.org/api_docs/python/tf/contrib/rnn/BasicLSTMCell) in a [`MultiRNNCell`](https://www.tensorflow.org/api_docs/python/tf/contrib/rnn/MultiRNNCell).\n",
    "- The Rnn size should be set using `rnn_size`\n",
    "- Initalize Cell State using the MultiRNNCell's [`zero_state()`](https://www.tensorflow.org/api_docs/python/tf/contrib/rnn/MultiRNNCell#zero_state) function\n",
    "    - Apply the name \"initial_state\" to the initial state using [`tf.identity()`](https://www.tensorflow.org/api_docs/python/tf/identity)\n",
    "\n",
    "Return the cell and initial state in the following tuple `(Cell, InitialState)`"
   ]
  },
  {
   "cell_type": "code",
   "execution_count": 143,
   "metadata": {
    "collapsed": false,
    "deletable": true,
    "editable": true
   },
   "outputs": [
    {
     "name": "stdout",
     "output_type": "stream",
     "text": [
      "Tests Passed\n"
     ]
    }
   ],
   "source": [
    "def get_init_cell(batch_size, rnn_size):\n",
    "    \"\"\"\n",
    "    Create an RNN Cell and initialize it.\n",
    "    :param batch_size: Size of batches\n",
    "    :param rnn_size: Size of RNNs\n",
    "    :return: Tuple (cell, initialize state)\n",
    "    \"\"\"\n",
    "    lstm = tf.contrib.rnn.BasicLSTMCell(rnn_size,state_is_tuple=True)\n",
    "    cell = tf.contrib.rnn.MultiRNNCell([lstm], rnn_size)\n",
    "    initial_state = cell.zero_state(batch_size, tf.float32)\n",
    "    initial_state = tf.identity(initial_state,name=\"initial_state\")\n",
    "    return cell,initial_state\n",
    "\n",
    "\"\"\"\n",
    "DON'T MODIFY ANYTHING IN THIS CELL THAT IS BELOW THIS LINE\n",
    "\"\"\"\n",
    "tests.test_get_init_cell(get_init_cell)"
   ]
  },
  {
   "cell_type": "markdown",
   "metadata": {
    "deletable": true,
    "editable": true
   },
   "source": [
    "### Word Embedding\n",
    "Apply embedding to `input_data` using TensorFlow.  Return the embedded sequence."
   ]
  },
  {
   "cell_type": "code",
   "execution_count": 144,
   "metadata": {
    "collapsed": false,
    "deletable": true,
    "editable": true
   },
   "outputs": [
    {
     "name": "stdout",
     "output_type": "stream",
     "text": [
      "Tests Passed\n"
     ]
    }
   ],
   "source": [
    "def get_embed(input_data, vocab_size, embed_dim):\n",
    "    \"\"\"\n",
    "    Create embedding for <input_data>.\n",
    "    :param input_data: TF placeholder for text input.\n",
    "    :param vocab_size: Number of words in vocabulary.\n",
    "    :param embed_dim: Number of embedding dimensions\n",
    "    :return: Embedded input.\n",
    "    \"\"\"\n",
    "    embedding = tf.Variable(tf.random_uniform((vocab_size,embed_dim),-1,1))\n",
    "    embed_input = tf.nn.embedding_lookup(embedding,input_data)\n",
    "\n",
    "    return embed_input\n",
    "\n",
    "\n",
    "\"\"\"\n",
    "DON'T MODIFY ANYTHING IN THIS CELL THAT IS BELOW THIS LINE\n",
    "\"\"\"\n",
    "tests.test_get_embed(get_embed)"
   ]
  },
  {
   "cell_type": "markdown",
   "metadata": {
    "deletable": true,
    "editable": true
   },
   "source": [
    "### Build RNN\n",
    "You created a RNN Cell in the `get_init_cell()` function.  Time to use the cell to create a RNN.\n",
    "- Build the RNN using the [`tf.nn.dynamic_rnn()`](https://www.tensorflow.org/api_docs/python/tf/nn/dynamic_rnn)\n",
    " - Apply the name \"final_state\" to the final state using [`tf.identity()`](https://www.tensorflow.org/api_docs/python/tf/identity)\n",
    "\n",
    "Return the outputs and final_state state in the following tuple `(Outputs, FinalState)` "
   ]
  },
  {
   "cell_type": "code",
   "execution_count": 145,
   "metadata": {
    "collapsed": false,
    "deletable": true,
    "editable": true
   },
   "outputs": [
    {
     "name": "stdout",
     "output_type": "stream",
     "text": [
      "Tests Passed\n"
     ]
    }
   ],
   "source": [
    "def build_rnn(cell, inputs):\n",
    "    \"\"\"\n",
    "    Create a RNN using a RNN Cell\n",
    "    :param cell: RNN Cell\n",
    "    :param inputs: Input text data\n",
    "    :return: Tuple (Outputs, Final State)\n",
    "    \"\"\"\n",
    "    outputs, state = tf.nn.dynamic_rnn(cell, inputs, dtype=tf.float32)\n",
    "    final_state = tf.identity(state ,name=\"final_state\")\n",
    "    return outputs, final_state\n",
    "\n",
    "\"\"\"\n",
    "DON'T MODIFY ANYTHING IN THIS CELL THAT IS BELOW THIS LINE\n",
    "\"\"\"\n",
    "tests.test_build_rnn(build_rnn)"
   ]
  },
  {
   "cell_type": "markdown",
   "metadata": {
    "deletable": true,
    "editable": true
   },
   "source": [
    "### Build the Neural Network\n",
    "Apply the functions you implemented above to:\n",
    "- Apply embedding to `input_data` using your `get_embed(input_data, vocab_size, embed_dim)` function.\n",
    "- Build RNN using `cell` and your `build_rnn(cell, inputs)` function.\n",
    "- Apply a fully connected layer with a linear activation and `vocab_size` as the number of outputs.\n",
    "\n",
    "Return the logits and final state in the following tuple (Logits, FinalState) "
   ]
  },
  {
   "cell_type": "code",
   "execution_count": 146,
   "metadata": {
    "collapsed": false,
    "deletable": true,
    "editable": true
   },
   "outputs": [
    {
     "name": "stdout",
     "output_type": "stream",
     "text": [
      "Tests Passed\n"
     ]
    }
   ],
   "source": [
    "def build_nn(cell, rnn_size, input_data, vocab_size, embed_dim):\n",
    "    \"\"\"\n",
    "    Build part of the neural network\n",
    "    :param cell: RNN cell\n",
    "    :param rnn_size: Size of rnns\n",
    "    :param input_data: Input data\n",
    "    :param vocab_size: Vocabulary size\n",
    "    :param embed_dim: Number of embedding dimensions\n",
    "    :return: Tuple (Logits, FinalState)\n",
    "    \"\"\"\n",
    "    input_data = get_embed(input_data,vocab_size,rnn_size)\n",
    "    outputs,final_state = build_rnn(cell,input_data)\n",
    "    logits = tf.contrib.layers.fully_connected(outputs,vocab_size,activation_fn = None)\n",
    "    return (logits, final_state)\n",
    "\n",
    "\n",
    "\"\"\"\n",
    "DON'T MODIFY ANYTHING IN THIS CELL THAT IS BELOW THIS LINE\n",
    "\"\"\"\n",
    "tests.test_build_nn(build_nn)"
   ]
  },
  {
   "cell_type": "markdown",
   "metadata": {
    "deletable": true,
    "editable": true
   },
   "source": [
    "### Batches\n",
    "Implement `get_batches` to create batches of input and targets using `int_text`.  The batches should be a Numpy array with the shape `(number of batches, 2, batch size, sequence length)`. Each batch contains two elements:\n",
    "- The first element is a single batch of **input** with the shape `[batch size, sequence length]`\n",
    "- The second element is a single batch of **targets** with the shape `[batch size, sequence length]`\n",
    "\n",
    "If you can't fill the last batch with enough data, drop the last batch.\n",
    "\n",
    "For exmple, `get_batches([1, 2, 3, 4, 5, 6, 7, 8, 9, 10, 11, 12, 13, 14, 15, 16, 17, 18, 19, 20], 3, 2)` would return a Numpy array of the following:\n",
    "```\n",
    "[\n",
    "  # First Batch\n",
    "  [\n",
    "    # Batch of Input\n",
    "    [[ 1  2], [ 7  8], [13 14]]\n",
    "    # Batch of targets\n",
    "    [[ 2  3], [ 8  9], [14 15]]\n",
    "  ]\n",
    "\n",
    "  # Second Batch\n",
    "  [\n",
    "    # Batch of Input\n",
    "    [[ 3  4], [ 9 10], [15 16]]\n",
    "    # Batch of targets\n",
    "    [[ 4  5], [10 11], [16 17]]\n",
    "  ]\n",
    "\n",
    "  # Third Batch\n",
    "  [\n",
    "    # Batch of Input\n",
    "    [[ 5  6], [11 12], [17 18]]\n",
    "    # Batch of targets\n",
    "    [[ 6  7], [12 13], [18  1]]\n",
    "  ]\n",
    "]\n",
    "```\n",
    "\n",
    "Notice that the last target value in the last batch is the first input value of the first batch. In this case, `1`. This is a common technique used when creating sequence batches, although it is rather unintuitive."
   ]
  },
  {
   "cell_type": "code",
   "execution_count": 147,
   "metadata": {
    "collapsed": false,
    "deletable": true,
    "editable": true
   },
   "outputs": [
    {
     "name": "stdout",
     "output_type": "stream",
     "text": [
      "Tests Passed\n"
     ]
    }
   ],
   "source": [
    "def get_batches(int_text, batch_size, seq_length):\n",
    "    \"\"\"\n",
    "    Return batches of input and target\n",
    "    :param int_text: Text with the words replaced by their ids\n",
    "    :param batch_size: The size of batch\n",
    "    :param seq_length: The length of sequence\n",
    "    :return: Batches as a Numpy array\n",
    "    \"\"\"\n",
    "   \n",
    "    num_batch = len(int_text) // (batch_size * seq_length)\n",
    "    input_text = int_text[: num_batch * batch_size * seq_length]\n",
    "    targets_text = input_text[1:] + input_text[:1]\n",
    "    input = np.array(input_text)\n",
    "    targets = np.array(targets_text)\n",
    "\n",
    "    input_batches = np.split(input.reshape(batch_size, -1), num_batch, 1)\n",
    "    target_batches = np.split(targets.reshape(batch_size, -1), num_batch, 1)\n",
    "    return np.array(list(zip(input_batches, target_batches)))\n",
    "\n",
    "\"\"\"\n",
    "DON'T MODIFY ANYTHING IN THIS CELL THAT IS BELOW THIS LINE\n",
    "\"\"\"\n",
    "tests.test_get_batches(get_batches)"
   ]
  },
  {
   "cell_type": "markdown",
   "metadata": {
    "deletable": true,
    "editable": true
   },
   "source": [
    "## Neural Network Training\n",
    "### Hyperparameters\n",
    "Tune the following parameters:\n",
    "\n",
    "- Set `num_epochs` to the number of epochs.\n",
    "- Set `batch_size` to the batch size.\n",
    "- Set `rnn_size` to the size of the RNNs.\n",
    "- Set `embed_dim` to the size of the embedding.\n",
    "- Set `seq_length` to the length of sequence.\n",
    "- Set `learning_rate` to the learning rate.\n",
    "- Set `show_every_n_batches` to the number of batches the neural network should print progress."
   ]
  },
  {
   "cell_type": "code",
   "execution_count": 165,
   "metadata": {
    "collapsed": true,
    "deletable": true,
    "editable": true
   },
   "outputs": [],
   "source": [
    "# Number of Epochs\n",
    "num_epochs = 50\n",
    "# Batch Size\n",
    "batch_size = 64\n",
    "# RNN Size\n",
    "rnn_size = 280\n",
    "# Embedding Dimension Size\n",
    "embed_dim = 23\n",
    "# Sequence Length\n",
    "seq_length = 6\n",
    "# Learning Rate\n",
    "learning_rate = 0.005\n",
    "# Show stats for every n number of batches\n",
    "show_every_n_batches = 50\n",
    "\n",
    "\"\"\"\n",
    "DON'T MODIFY ANYTHING IN THIS CELL THAT IS BELOW THIS LINE\n",
    "\"\"\"\n",
    "save_dir = './save'"
   ]
  },
  {
   "cell_type": "markdown",
   "metadata": {
    "deletable": true,
    "editable": true
   },
   "source": [
    "### Build the Graph\n",
    "Build the graph using the neural network you implemented."
   ]
  },
  {
   "cell_type": "code",
   "execution_count": 166,
   "metadata": {
    "collapsed": false,
    "deletable": true,
    "editable": true
   },
   "outputs": [],
   "source": [
    "\"\"\"\n",
    "DON'T MODIFY ANYTHING IN THIS CELL\n",
    "\"\"\"\n",
    "from tensorflow.contrib import seq2seq\n",
    "\n",
    "train_graph = tf.Graph()\n",
    "with train_graph.as_default():\n",
    "    vocab_size = len(int_to_vocab)\n",
    "    input_text, targets, lr = get_inputs()\n",
    "    input_data_shape = tf.shape(input_text)\n",
    "    cell, initial_state = get_init_cell(input_data_shape[0], rnn_size)\n",
    "    logits, final_state = build_nn(cell, rnn_size, input_text, vocab_size, embed_dim)\n",
    "\n",
    "    # Probabilities for generating words\n",
    "    probs = tf.nn.softmax(logits, name='probs')\n",
    "\n",
    "    # Loss function\n",
    "    cost = seq2seq.sequence_loss(\n",
    "        logits,\n",
    "        targets,\n",
    "        tf.ones([input_data_shape[0], input_data_shape[1]]))\n",
    "\n",
    "    # Optimizer\n",
    "    optimizer = tf.train.AdamOptimizer(lr)\n",
    "\n",
    "    # Gradient Clipping\n",
    "    gradients = optimizer.compute_gradients(cost)\n",
    "    capped_gradients = [(tf.clip_by_value(grad, -1., 1.), var) for grad, var in gradients if grad is not None]\n",
    "    train_op = optimizer.apply_gradients(capped_gradients)"
   ]
  },
  {
   "cell_type": "markdown",
   "metadata": {
    "deletable": true,
    "editable": true
   },
   "source": [
    "## Train\n",
    "Train the neural network on the preprocessed data.  If you have a hard time getting a good loss, check the [forums](https://discussions.udacity.com/) to see if anyone is having the same problem."
   ]
  },
  {
   "cell_type": "code",
   "execution_count": 168,
   "metadata": {
    "collapsed": false,
    "deletable": true,
    "editable": true
   },
   "outputs": [
    {
     "name": "stdout",
     "output_type": "stream",
     "text": [
      "Epoch   0 Batch    0/179   train_loss = 8.821\n",
      "Epoch   0 Batch   50/179   train_loss = 5.672\n",
      "Epoch   0 Batch  100/179   train_loss = 5.211\n",
      "Epoch   0 Batch  150/179   train_loss = 5.040\n",
      "Epoch   1 Batch   21/179   train_loss = 5.060\n",
      "Epoch   1 Batch   71/179   train_loss = 4.623\n",
      "Epoch   1 Batch  121/179   train_loss = 4.408\n",
      "Epoch   1 Batch  171/179   train_loss = 4.016\n",
      "Epoch   2 Batch   42/179   train_loss = 3.865\n",
      "Epoch   2 Batch   92/179   train_loss = 3.849\n",
      "Epoch   2 Batch  142/179   train_loss = 3.556\n",
      "Epoch   3 Batch   13/179   train_loss = 3.580\n",
      "Epoch   3 Batch   63/179   train_loss = 3.530\n",
      "Epoch   3 Batch  113/179   train_loss = 3.237\n",
      "Epoch   3 Batch  163/179   train_loss = 3.111\n",
      "Epoch   4 Batch   34/179   train_loss = 3.189\n",
      "Epoch   4 Batch   84/179   train_loss = 2.876\n",
      "Epoch   4 Batch  134/179   train_loss = 2.797\n",
      "Epoch   5 Batch    5/179   train_loss = 2.683\n",
      "Epoch   5 Batch   55/179   train_loss = 2.608\n",
      "Epoch   5 Batch  105/179   train_loss = 2.301\n",
      "Epoch   5 Batch  155/179   train_loss = 2.440\n",
      "Epoch   6 Batch   26/179   train_loss = 2.423\n",
      "Epoch   6 Batch   76/179   train_loss = 2.432\n",
      "Epoch   6 Batch  126/179   train_loss = 2.184\n",
      "Epoch   6 Batch  176/179   train_loss = 2.120\n",
      "Epoch   7 Batch   47/179   train_loss = 2.132\n",
      "Epoch   7 Batch   97/179   train_loss = 2.031\n",
      "Epoch   7 Batch  147/179   train_loss = 1.928\n",
      "Epoch   8 Batch   18/179   train_loss = 1.853\n",
      "Epoch   8 Batch   68/179   train_loss = 1.757\n",
      "Epoch   8 Batch  118/179   train_loss = 1.890\n",
      "Epoch   8 Batch  168/179   train_loss = 1.852\n",
      "Epoch   9 Batch   39/179   train_loss = 1.753\n",
      "Epoch   9 Batch   89/179   train_loss = 1.653\n",
      "Epoch   9 Batch  139/179   train_loss = 1.504\n",
      "Epoch  10 Batch   10/179   train_loss = 1.582\n",
      "Epoch  10 Batch   60/179   train_loss = 1.699\n",
      "Epoch  10 Batch  110/179   train_loss = 1.422\n",
      "Epoch  10 Batch  160/179   train_loss = 1.404\n",
      "Epoch  11 Batch   31/179   train_loss = 1.486\n",
      "Epoch  11 Batch   81/179   train_loss = 1.562\n",
      "Epoch  11 Batch  131/179   train_loss = 1.602\n",
      "Epoch  12 Batch    2/179   train_loss = 1.595\n",
      "Epoch  12 Batch   52/179   train_loss = 1.347\n",
      "Epoch  12 Batch  102/179   train_loss = 1.397\n",
      "Epoch  12 Batch  152/179   train_loss = 1.331\n",
      "Epoch  13 Batch   23/179   train_loss = 1.284\n",
      "Epoch  13 Batch   73/179   train_loss = 1.339\n",
      "Epoch  13 Batch  123/179   train_loss = 1.313\n",
      "Epoch  13 Batch  173/179   train_loss = 1.260\n",
      "Epoch  14 Batch   44/179   train_loss = 1.314\n",
      "Epoch  14 Batch   94/179   train_loss = 1.254\n",
      "Epoch  14 Batch  144/179   train_loss = 1.171\n",
      "Epoch  15 Batch   15/179   train_loss = 1.113\n",
      "Epoch  15 Batch   65/179   train_loss = 1.073\n",
      "Epoch  15 Batch  115/179   train_loss = 1.115\n",
      "Epoch  15 Batch  165/179   train_loss = 1.067\n",
      "Epoch  16 Batch   36/179   train_loss = 1.002\n",
      "Epoch  16 Batch   86/179   train_loss = 1.118\n",
      "Epoch  16 Batch  136/179   train_loss = 1.085\n",
      "Epoch  17 Batch    7/179   train_loss = 1.015\n",
      "Epoch  17 Batch   57/179   train_loss = 0.940\n",
      "Epoch  17 Batch  107/179   train_loss = 0.856\n",
      "Epoch  17 Batch  157/179   train_loss = 1.031\n",
      "Epoch  18 Batch   28/179   train_loss = 1.061\n",
      "Epoch  18 Batch   78/179   train_loss = 0.933\n",
      "Epoch  18 Batch  128/179   train_loss = 1.006\n",
      "Epoch  18 Batch  178/179   train_loss = 1.081\n",
      "Epoch  19 Batch   49/179   train_loss = 1.001\n",
      "Epoch  19 Batch   99/179   train_loss = 0.998\n",
      "Epoch  19 Batch  149/179   train_loss = 1.001\n",
      "Epoch  20 Batch   20/179   train_loss = 1.020\n",
      "Epoch  20 Batch   70/179   train_loss = 0.957\n",
      "Epoch  20 Batch  120/179   train_loss = 1.009\n",
      "Epoch  20 Batch  170/179   train_loss = 0.923\n",
      "Epoch  21 Batch   41/179   train_loss = 0.936\n",
      "Epoch  21 Batch   91/179   train_loss = 0.859\n",
      "Epoch  21 Batch  141/179   train_loss = 0.966\n",
      "Epoch  22 Batch   12/179   train_loss = 0.944\n",
      "Epoch  22 Batch   62/179   train_loss = 1.017\n",
      "Epoch  22 Batch  112/179   train_loss = 0.993\n",
      "Epoch  22 Batch  162/179   train_loss = 0.843\n",
      "Epoch  23 Batch   33/179   train_loss = 0.949\n",
      "Epoch  23 Batch   83/179   train_loss = 1.042\n",
      "Epoch  23 Batch  133/179   train_loss = 0.964\n",
      "Epoch  24 Batch    4/179   train_loss = 0.999\n",
      "Epoch  24 Batch   54/179   train_loss = 0.858\n",
      "Epoch  24 Batch  104/179   train_loss = 0.878\n",
      "Epoch  24 Batch  154/179   train_loss = 0.955\n",
      "Epoch  25 Batch   25/179   train_loss = 0.996\n",
      "Epoch  25 Batch   75/179   train_loss = 0.986\n",
      "Epoch  25 Batch  125/179   train_loss = 1.030\n",
      "Epoch  25 Batch  175/179   train_loss = 0.833\n",
      "Epoch  26 Batch   46/179   train_loss = 0.914\n",
      "Epoch  26 Batch   96/179   train_loss = 1.019\n",
      "Epoch  26 Batch  146/179   train_loss = 0.965\n",
      "Epoch  27 Batch   17/179   train_loss = 0.880\n",
      "Epoch  27 Batch   67/179   train_loss = 0.956\n",
      "Epoch  27 Batch  117/179   train_loss = 0.952\n",
      "Epoch  27 Batch  167/179   train_loss = 0.887\n",
      "Epoch  28 Batch   38/179   train_loss = 1.010\n",
      "Epoch  28 Batch   88/179   train_loss = 0.906\n",
      "Epoch  28 Batch  138/179   train_loss = 0.979\n",
      "Epoch  29 Batch    9/179   train_loss = 0.786\n",
      "Epoch  29 Batch   59/179   train_loss = 0.927\n",
      "Epoch  29 Batch  109/179   train_loss = 0.890\n",
      "Epoch  29 Batch  159/179   train_loss = 0.911\n",
      "Epoch  30 Batch   30/179   train_loss = 0.795\n",
      "Epoch  30 Batch   80/179   train_loss = 0.952\n",
      "Epoch  30 Batch  130/179   train_loss = 0.832\n",
      "Epoch  31 Batch    1/179   train_loss = 0.959\n",
      "Epoch  31 Batch   51/179   train_loss = 0.889\n",
      "Epoch  31 Batch  101/179   train_loss = 0.905\n",
      "Epoch  31 Batch  151/179   train_loss = 0.825\n",
      "Epoch  32 Batch   22/179   train_loss = 0.803\n",
      "Epoch  32 Batch   72/179   train_loss = 0.814\n",
      "Epoch  32 Batch  122/179   train_loss = 0.836\n",
      "Epoch  32 Batch  172/179   train_loss = 0.866\n",
      "Epoch  33 Batch   43/179   train_loss = 0.818\n",
      "Epoch  33 Batch   93/179   train_loss = 0.828\n",
      "Epoch  33 Batch  143/179   train_loss = 0.790\n",
      "Epoch  34 Batch   14/179   train_loss = 0.913\n",
      "Epoch  34 Batch   64/179   train_loss = 0.939\n",
      "Epoch  34 Batch  114/179   train_loss = 0.775\n",
      "Epoch  34 Batch  164/179   train_loss = 0.778\n",
      "Epoch  35 Batch   35/179   train_loss = 0.856\n",
      "Epoch  35 Batch   85/179   train_loss = 0.879\n",
      "Epoch  35 Batch  135/179   train_loss = 0.812\n",
      "Epoch  36 Batch    6/179   train_loss = 0.857\n",
      "Epoch  36 Batch   56/179   train_loss = 0.925\n",
      "Epoch  36 Batch  106/179   train_loss = 0.895\n",
      "Epoch  36 Batch  156/179   train_loss = 0.813\n",
      "Epoch  37 Batch   27/179   train_loss = 0.871\n",
      "Epoch  37 Batch   77/179   train_loss = 0.763\n",
      "Epoch  37 Batch  127/179   train_loss = 0.919\n",
      "Epoch  37 Batch  177/179   train_loss = 0.870\n",
      "Epoch  38 Batch   48/179   train_loss = 0.954\n",
      "Epoch  38 Batch   98/179   train_loss = 0.870\n",
      "Epoch  38 Batch  148/179   train_loss = 0.943\n",
      "Epoch  39 Batch   19/179   train_loss = 0.986\n",
      "Epoch  39 Batch   69/179   train_loss = 0.871\n",
      "Epoch  39 Batch  119/179   train_loss = 1.002\n",
      "Epoch  39 Batch  169/179   train_loss = 0.907\n",
      "Epoch  40 Batch   40/179   train_loss = 0.989\n",
      "Epoch  40 Batch   90/179   train_loss = 0.904\n",
      "Epoch  40 Batch  140/179   train_loss = 1.019\n",
      "Epoch  41 Batch   11/179   train_loss = 1.077\n",
      "Epoch  41 Batch   61/179   train_loss = 1.018\n",
      "Epoch  41 Batch  111/179   train_loss = 1.170\n",
      "Epoch  41 Batch  161/179   train_loss = 1.091\n",
      "Epoch  42 Batch   32/179   train_loss = 1.105\n",
      "Epoch  42 Batch   82/179   train_loss = 1.125\n",
      "Epoch  42 Batch  132/179   train_loss = 1.037\n",
      "Epoch  43 Batch    3/179   train_loss = 1.093\n",
      "Epoch  43 Batch   53/179   train_loss = 0.962\n",
      "Epoch  43 Batch  103/179   train_loss = 0.915\n",
      "Epoch  43 Batch  153/179   train_loss = 0.942\n",
      "Epoch  44 Batch   24/179   train_loss = 0.903\n",
      "Epoch  44 Batch   74/179   train_loss = 0.978\n",
      "Epoch  44 Batch  124/179   train_loss = 0.858\n",
      "Epoch  44 Batch  174/179   train_loss = 0.881\n",
      "Epoch  45 Batch   45/179   train_loss = 0.847\n",
      "Epoch  45 Batch   95/179   train_loss = 0.824\n",
      "Epoch  45 Batch  145/179   train_loss = 0.738\n",
      "Epoch  46 Batch   16/179   train_loss = 0.864\n",
      "Epoch  46 Batch   66/179   train_loss = 0.836\n",
      "Epoch  46 Batch  116/179   train_loss = 0.775\n",
      "Epoch  46 Batch  166/179   train_loss = 0.761\n",
      "Epoch  47 Batch   37/179   train_loss = 0.791\n",
      "Epoch  47 Batch   87/179   train_loss = 0.872\n",
      "Epoch  47 Batch  137/179   train_loss = 0.822\n",
      "Epoch  48 Batch    8/179   train_loss = 0.872\n",
      "Epoch  48 Batch   58/179   train_loss = 0.896\n",
      "Epoch  48 Batch  108/179   train_loss = 0.867\n",
      "Epoch  48 Batch  158/179   train_loss = 0.878\n",
      "Epoch  49 Batch   29/179   train_loss = 0.751\n",
      "Epoch  49 Batch   79/179   train_loss = 0.816\n",
      "Epoch  49 Batch  129/179   train_loss = 0.747\n",
      "Model Trained and Saved\n"
     ]
    }
   ],
   "source": [
    "\"\"\"\n",
    "DON'T MODIFY ANYTHING IN THIS CELL\n",
    "\"\"\"\n",
    "batches = get_batches(int_text, batch_size, seq_length)\n",
    "\n",
    "with tf.Session(graph=train_graph) as sess:\n",
    "    sess.run(tf.global_variables_initializer())\n",
    "\n",
    "    for epoch_i in range(num_epochs):\n",
    "        state = sess.run(initial_state, {input_text: batches[0][0]})\n",
    "\n",
    "        for batch_i, (x, y) in enumerate(batches):\n",
    "            feed = {\n",
    "                input_text: x,\n",
    "                targets: y,\n",
    "                initial_state: state,\n",
    "                lr: learning_rate}\n",
    "            train_loss, state, _ = sess.run([cost, final_state, train_op], feed)\n",
    "\n",
    "            # Show every <show_every_n_batches> batches\n",
    "            if (epoch_i * len(batches) + batch_i) % show_every_n_batches == 0:\n",
    "                print('Epoch {:>3} Batch {:>4}/{}   train_loss = {:.3f}'.format(\n",
    "                    epoch_i,\n",
    "                    batch_i,\n",
    "                    len(batches),\n",
    "                    train_loss))\n",
    "\n",
    "    # Save Model\n",
    "    saver = tf.train.Saver()\n",
    "    saver.save(sess, save_dir)\n",
    "    print('Model Trained and Saved')"
   ]
  },
  {
   "cell_type": "markdown",
   "metadata": {
    "deletable": true,
    "editable": true
   },
   "source": [
    "## Save Parameters\n",
    "Save `seq_length` and `save_dir` for generating a new TV script."
   ]
  },
  {
   "cell_type": "code",
   "execution_count": 169,
   "metadata": {
    "collapsed": false,
    "deletable": true,
    "editable": true
   },
   "outputs": [],
   "source": [
    "\"\"\"\n",
    "DON'T MODIFY ANYTHING IN THIS CELL\n",
    "\"\"\"\n",
    "# Save parameters for checkpoint\n",
    "helper.save_params((seq_length, save_dir))"
   ]
  },
  {
   "cell_type": "markdown",
   "metadata": {
    "deletable": true,
    "editable": true
   },
   "source": [
    "# Checkpoint"
   ]
  },
  {
   "cell_type": "code",
   "execution_count": 170,
   "metadata": {
    "collapsed": false,
    "deletable": true,
    "editable": true
   },
   "outputs": [],
   "source": [
    "\"\"\"\n",
    "DON'T MODIFY ANYTHING IN THIS CELL\n",
    "\"\"\"\n",
    "import tensorflow as tf\n",
    "import numpy as np\n",
    "import helper\n",
    "import problem_unittests as tests\n",
    "\n",
    "_, vocab_to_int, int_to_vocab, token_dict = helper.load_preprocess()\n",
    "seq_length, load_dir = helper.load_params()"
   ]
  },
  {
   "cell_type": "markdown",
   "metadata": {
    "deletable": true,
    "editable": true
   },
   "source": [
    "## Implement Generate Functions\n",
    "### Get Tensors\n",
    "Get tensors from `loaded_graph` using the function [`get_tensor_by_name()`](https://www.tensorflow.org/api_docs/python/tf/Graph#get_tensor_by_name).  Get the tensors using the following names:\n",
    "- \"input:0\"\n",
    "- \"initial_state:0\"\n",
    "- \"final_state:0\"\n",
    "- \"probs:0\"\n",
    "\n",
    "Return the tensors in the following tuple `(InputTensor, InitialStateTensor, FinalStateTensor, ProbsTensor)` "
   ]
  },
  {
   "cell_type": "code",
   "execution_count": 171,
   "metadata": {
    "collapsed": false,
    "deletable": true,
    "editable": true
   },
   "outputs": [
    {
     "name": "stdout",
     "output_type": "stream",
     "text": [
      "Tests Passed\n"
     ]
    }
   ],
   "source": [
    "def get_tensors(loaded_graph):\n",
    "    \"\"\"\n",
    "    Get input, initial state, final state, and probabilities tensor from <loaded_graph>\n",
    "    :param loaded_graph: TensorFlow graph loaded from file\n",
    "    :return: Tuple (InputTensor, InitialStateTensor, FinalStateTensor, ProbsTensor)\n",
    "    \"\"\"\n",
    "    InputTensor        = loaded_graph.get_tensor_by_name(\"input:0\")\n",
    "    InitialStateTensor = loaded_graph.get_tensor_by_name(\"initial_state:0\")\n",
    "    FinalStateTensor   = loaded_graph.get_tensor_by_name(\"final_state:0\")\n",
    "    ProbsTensor        = loaded_graph.get_tensor_by_name(\"probs:0\")\n",
    "    return InputTensor, InitialStateTensor, FinalStateTensor, ProbsTensor\n",
    "\n",
    "\n",
    "\"\"\"\n",
    "DON'T MODIFY ANYTHING IN THIS CELL THAT IS BELOW THIS LINE\n",
    "\"\"\"\n",
    "tests.test_get_tensors(get_tensors)"
   ]
  },
  {
   "cell_type": "markdown",
   "metadata": {
    "deletable": true,
    "editable": true
   },
   "source": [
    "### Choose Word\n",
    "Implement the `pick_word()` function to select the next word using `probabilities`."
   ]
  },
  {
   "cell_type": "code",
   "execution_count": 172,
   "metadata": {
    "collapsed": false,
    "deletable": true,
    "editable": true
   },
   "outputs": [
    {
     "name": "stdout",
     "output_type": "stream",
     "text": [
      "Tests Passed\n"
     ]
    }
   ],
   "source": [
    "def pick_word(probabilities, int_to_vocab):\n",
    "    \"\"\"\n",
    "    Pick the next word in the generated text\n",
    "    :param probabilities: Probabilites of the next word\n",
    "    :param int_to_vocab: Dictionary of word ids as the keys and words as the values\n",
    "    :return: String of the predicted word\n",
    "    \"\"\"\n",
    "    return int_to_vocab[np.argmax(probabilities)]\n",
    "    \n",
    "\n",
    "\"\"\"\n",
    "DON'T MODIFY ANYTHING IN THIS CELL THAT IS BELOW THIS LINE\n",
    "\"\"\"\n",
    "tests.test_pick_word(pick_word)"
   ]
  },
  {
   "cell_type": "markdown",
   "metadata": {
    "deletable": true,
    "editable": true
   },
   "source": [
    "## Generate TV Script\n",
    "This will generate the TV script for you.  Set `gen_length` to the length of TV script you want to generate."
   ]
  },
  {
   "cell_type": "code",
   "execution_count": 173,
   "metadata": {
    "collapsed": false,
    "deletable": true,
    "editable": true
   },
   "outputs": [
    {
     "name": "stdout",
     "output_type": "stream",
     "text": [
      "moe_szyslak:(lying) oh, it ain't no. no, three gives a little more hemoglobin and your badges.\n",
      "moe_szyslak:\" no acronyms i need to blame the little beer.\n",
      "marge_simpson:(talk-sings) i stopped some things are too pleased.\n",
      "moe_szyslak: wow, this is what like(nervous chuckle)\n",
      "lenny_leonard: sorry, homer...(scanning to homer) sir, my...\n",
      "homer_simpson:(scoffs) it's a flaming.\n",
      "homer_simpson:(upset) no. i love get, as beer.\n",
      "moe_szyslak: oh boy. the point is, but i gotta be in the other end.\n",
      "moe_szyslak:(nervous) you want to do?\n",
      "moe_szyslak: i, hey, two, you are all being friends--\n",
      "homer_simpson: what are you, nuts?\n",
      "moe_szyslak: hey, wait a minute! i know that that's just, one 'cause of some love super-genius.\n",
      "lenny_leonard: is homer what i'm a fine.(points to door)\" you have been chosen in back. i ain't pleasant to you and\n"
     ]
    }
   ],
   "source": [
    "gen_length = 200\n",
    "# homer_simpson, moe_szyslak, or Barney_Gumble\n",
    "prime_word = 'moe_szyslak'\n",
    "\n",
    "\"\"\"\n",
    "DON'T MODIFY ANYTHING IN THIS CELL THAT IS BELOW THIS LINE\n",
    "\"\"\"\n",
    "loaded_graph = tf.Graph()\n",
    "with tf.Session(graph=loaded_graph) as sess:\n",
    "    # Load saved model\n",
    "    loader = tf.train.import_meta_graph(load_dir + '.meta')\n",
    "    loader.restore(sess, load_dir)\n",
    "\n",
    "    # Get Tensors from loaded model\n",
    "    input_text, initial_state, final_state, probs = get_tensors(loaded_graph)\n",
    "\n",
    "    # Sentences generation setup\n",
    "    gen_sentences = [prime_word + ':']\n",
    "    prev_state = sess.run(initial_state, {input_text: np.array([[1]])})\n",
    "\n",
    "    # Generate sentences\n",
    "    for n in range(gen_length):\n",
    "        # Dynamic Input\n",
    "        dyn_input = [[vocab_to_int[word] for word in gen_sentences[-seq_length:]]]\n",
    "        dyn_seq_length = len(dyn_input[0])\n",
    "\n",
    "        # Get Prediction\n",
    "        probabilities, prev_state = sess.run(\n",
    "            [probs, final_state],\n",
    "            {input_text: dyn_input, initial_state: prev_state})\n",
    "        \n",
    "        pred_word = pick_word(probabilities[dyn_seq_length-1], int_to_vocab)\n",
    "\n",
    "        gen_sentences.append(pred_word)\n",
    "    \n",
    "    # Remove tokens\n",
    "    tv_script = ' '.join(gen_sentences)\n",
    "    for key, token in token_dict.items():\n",
    "        ending = ' ' if key in ['\\n', '(', '\"'] else ''\n",
    "        tv_script = tv_script.replace(' ' + token.lower(), key)\n",
    "    tv_script = tv_script.replace('\\n ', '\\n')\n",
    "    tv_script = tv_script.replace('( ', '(')\n",
    "        \n",
    "    print(tv_script)"
   ]
  },
  {
   "cell_type": "markdown",
   "metadata": {
    "deletable": true,
    "editable": true
   },
   "source": [
    "# The TV Script is Nonsensical\n",
    "It's ok if the TV script doesn't make any sense.  We trained on less than a megabyte of text.  In order to get good results, you'll have to use a smaller vocabulary or get more data.  Luckly there's more data!  As we mentioned in the begging of this project, this is a subset of [another dataset](https://www.kaggle.com/wcukierski/the-simpsons-by-the-data).  We didn't have you train on all the data, because that would take too long.  However, you are free to train your neural network on all the data.  After you complete the project, of course.\n",
    "# Submitting This Project\n",
    "When submitting this project, make sure to run all the cells before saving the notebook. Save the notebook file as \"dlnd_tv_script_generation.ipynb\" and save it as a HTML file under \"File\" -> \"Download as\". Include the \"helper.py\" and \"problem_unittests.py\" files in your submission."
   ]
  }
 ],
 "metadata": {
  "kernelspec": {
   "display_name": "Python 3",
   "language": "python",
   "name": "python3"
  },
  "language_info": {
   "codemirror_mode": {
    "name": "ipython",
    "version": 3
   },
   "file_extension": ".py",
   "mimetype": "text/x-python",
   "name": "python",
   "nbconvert_exporter": "python",
   "pygments_lexer": "ipython3",
   "version": "3.5.2"
  },
  "widgets": {
   "state": {},
   "version": "1.1.2"
  }
 },
 "nbformat": 4,
 "nbformat_minor": 0
}
